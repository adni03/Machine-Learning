{
  "nbformat": 4,
  "nbformat_minor": 0,
  "metadata": {
    "colab": {
      "name": "ADALINE - AND, OR and Sample data implementation.ipynb",
      "provenance": [],
      "collapsed_sections": []
    },
    "kernelspec": {
      "name": "python3",
      "display_name": "Python 3"
    }
  },
  "cells": [
    {
      "cell_type": "code",
      "metadata": {
        "id": "0qPDZZfn01OH",
        "colab_type": "code",
        "colab": {
          "base_uri": "https://localhost:8080/",
          "height": 34
        },
        "outputId": "24642519-4b7a-4a54-f95d-f232ebe7f1c9"
      },
      "source": [
        "from google.colab import drive\n",
        "drive.mount('/content/drive')"
      ],
      "execution_count": 228,
      "outputs": [
        {
          "output_type": "stream",
          "text": [
            "Drive already mounted at /content/drive; to attempt to forcibly remount, call drive.mount(\"/content/drive\", force_remount=True).\n"
          ],
          "name": "stdout"
        }
      ]
    },
    {
      "cell_type": "code",
      "metadata": {
        "id": "p3HQ1ZEBd3TO",
        "colab_type": "code",
        "colab": {}
      },
      "source": [
        "import numpy as np\n",
        "import pandas as pd\n",
        "from sklearn.model_selection import train_test_split\n",
        "from sklearn.metrics import accuracy_score"
      ],
      "execution_count": 229,
      "outputs": []
    },
    {
      "cell_type": "code",
      "metadata": {
        "id": "F8gKfWlmeQiw",
        "colab_type": "code",
        "colab": {
          "base_uri": "https://localhost:8080/",
          "height": 103
        },
        "outputId": "c500caf3-5637-4b17-aba7-85148303455a"
      },
      "source": [
        "X = [0, 0, 0, 1, 1, 0, 1, 1]\n",
        "X = np.reshape(X, (4, 2))\n",
        "y_and = [-1, -1, -1, 1]\n",
        "y_and = np.reshape(y_and, (4, 1))\n",
        "y_or = [-1, 1, 1, 1]\n",
        "y_or = np.reshape(y_or, (4, 1))\n",
        "\n",
        "print(X)\n",
        "print(X.shape)"
      ],
      "execution_count": 230,
      "outputs": [
        {
          "output_type": "stream",
          "text": [
            "[[0 0]\n",
            " [0 1]\n",
            " [1 0]\n",
            " [1 1]]\n",
            "(4, 2)\n"
          ],
          "name": "stdout"
        }
      ]
    },
    {
      "cell_type": "code",
      "metadata": {
        "id": "yTlChdQ5eSWC",
        "colab_type": "code",
        "colab": {}
      },
      "source": [
        "def threshold(Z):\n",
        "    for i in range(Z.shape[0]):\n",
        "        if Z[i][0] > 0:\n",
        "            Z[i][0] = 1\n",
        "        else:\n",
        "            Z[i][0] = -1\n",
        "    return Z"
      ],
      "execution_count": 231,
      "outputs": []
    },
    {
      "cell_type": "code",
      "metadata": {
        "id": "O4Hlo-4TeUD6",
        "colab_type": "code",
        "colab": {}
      },
      "source": [
        "def normalization(X):\n",
        "    mean = np.mean(X, axis=0)\n",
        "    std = np.std(X, axis=0)\n",
        "    X = (X - mean)/std\n",
        "    return X"
      ],
      "execution_count": 232,
      "outputs": []
    },
    {
      "cell_type": "code",
      "metadata": {
        "id": "Al4azJry4TzB",
        "colab_type": "code",
        "colab": {}
      },
      "source": [
        "''' Back propagation implemetation '''\n",
        "\n",
        "def backpropagation(w, b, X, Z, y, a):\n",
        "    w = w - a*np.dot((Z - y).T, X)/Z.shape[0]\n",
        "    b = b - a*np.sum(Z - y)/Z.shape[0]\n",
        "    return w, b"
      ],
      "execution_count": 233,
      "outputs": []
    },
    {
      "cell_type": "code",
      "metadata": {
        "id": "jV-rzbqaeVip",
        "colab_type": "code",
        "colab": {}
      },
      "source": [
        "'''Forward propagation implementation'''\n",
        "\n",
        "def train(X, y, w, b, a, iters):\n",
        "    for i in range(iters):\n",
        "        Z = np.dot(X, w.T) + b\n",
        "        Z = threshold(Z)\n",
        "        w, b = backpropagation(w, b, X, Z, y, a)\n",
        "    return w, b"
      ],
      "execution_count": 234,
      "outputs": []
    },
    {
      "cell_type": "code",
      "metadata": {
        "id": "NGNjZndgeYy0",
        "colab_type": "code",
        "colab": {}
      },
      "source": [
        "def find_accuracy(X, Y, w, b):\n",
        "    Z = np.dot(X, w.T) + b\n",
        "    Z = threshold(Z)\n",
        "    return accuracy_score(y_test, Z)"
      ],
      "execution_count": 235,
      "outputs": []
    },
    {
      "cell_type": "code",
      "metadata": {
        "id": "fNvshxRleaIG",
        "colab_type": "code",
        "colab": {
          "base_uri": "https://localhost:8080/",
          "height": 190
        },
        "outputId": "711176e5-7ced-4848-8e37-e1f342518348"
      },
      "source": [
        "w = np.zeros(2)\n",
        "w = np.expand_dims(w, axis=0)\n",
        "b = -1\n",
        "a = 0.1\n",
        "\n",
        "'''AND gate implementation'''\n",
        "print(\"AND gate implementation : \")\n",
        "w, b = train(X, y_and, w, b, a, 6)\n",
        "print(\"Bias : {}\".format(b))\n",
        "print(\"Weights : \\n{}\\n\".format(w))\n",
        "test = [1, 1]\n",
        "ans = np.dot(test, w.T) + b\n",
        "print(ans)\n",
        "\n",
        "w = np.zeros(2)\n",
        "w = np.expand_dims(w, axis=0)\n",
        "\n",
        "''' OR gate implementation '''\n",
        "print(\"OR gate implementation : \")\n",
        "w, b = train(X, y_or, w, b, a, 6)\n",
        "print(\"Bias : {}\".format(b))\n",
        "print(\"Weights : \\n{}\".format(w))"
      ],
      "execution_count": 236,
      "outputs": [
        {
          "output_type": "stream",
          "text": [
            "AND gate implementation : \n",
            "Bias : -0.6999999999999997\n",
            "Weights : \n",
            "[[0.3 0.3]]\n",
            "\n",
            "[-0.1]\n",
            "OR gate implementation : \n",
            "Bias : -0.1999999999999997\n",
            "Weights : \n",
            "[[0.3 0.3]]\n"
          ],
          "name": "stdout"
        }
      ]
    },
    {
      "cell_type": "code",
      "metadata": {
        "id": "ifnGJoO5edVx",
        "colab_type": "code",
        "colab": {
          "base_uri": "https://localhost:8080/",
          "height": 51
        },
        "outputId": "4ab44f35-830c-42db-851c-76ee4100cec2"
      },
      "source": [
        "''' Perceptron Training Algorithm with sample data '''\n",
        "\n",
        "Data = pd.read_csv('/content/drive/My Drive/percep_data.csv')\n",
        "Y = Data['Y']\n",
        "X = Data[['X1', 'X2']]\n",
        "X = normalization(X)\n",
        "Y = np.expand_dims(Y, axis=1)\n",
        "print(\"Shape of Y : {}\".format(Y.shape))\n",
        "print(\"Shape of X : {}\".format(X.shape))"
      ],
      "execution_count": 237,
      "outputs": [
        {
          "output_type": "stream",
          "text": [
            "Shape of Y : (1000, 1)\n",
            "Shape of X : (1000, 2)\n"
          ],
          "name": "stdout"
        }
      ]
    },
    {
      "cell_type": "code",
      "metadata": {
        "id": "hngiog5aefqt",
        "colab_type": "code",
        "colab": {
          "base_uri": "https://localhost:8080/",
          "height": 294
        },
        "outputId": "631f9346-0669-48cf-9afb-2dc9f0f8217e"
      },
      "source": [
        "x_train, x_test, y_train, y_test = train_test_split(X, Y, test_size = 0.1, random_state = 42)\n",
        "\n",
        "w = np.random.randn(1, 2)\n",
        "b = np.random.randn()\n",
        "print(\"Shape of weights : {}\".format(w.shape))\n",
        "print(\"Shape of x_train : {}, y_train : {}\".format(x_train.shape, y_train.shape))\n",
        "print(x_train)"
      ],
      "execution_count": 238,
      "outputs": [
        {
          "output_type": "stream",
          "text": [
            "Shape of weights : (1, 2)\n",
            "Shape of x_train : (900, 2), y_train : (900, 1)\n",
            "           X1        X2\n",
            "716  1.698851  0.625282\n",
            "351 -1.409669  1.409476\n",
            "936  1.057688 -1.133713\n",
            "256  0.745459  1.545916\n",
            "635  1.230740  0.650181\n",
            "..        ...       ...\n",
            "106  0.882481  0.818460\n",
            "270 -1.442591  0.311410\n",
            "860 -0.963468 -0.862202\n",
            "435 -1.417628 -0.112863\n",
            "102  0.697162  1.217073\n",
            "\n",
            "[900 rows x 2 columns]\n"
          ],
          "name": "stdout"
        }
      ]
    },
    {
      "cell_type": "code",
      "metadata": {
        "id": "7w9zNAWRej5D",
        "colab_type": "code",
        "colab": {
          "base_uri": "https://localhost:8080/",
          "height": 34
        },
        "outputId": "da528a89-a9f3-4f0a-b748-5bbf341853fa"
      },
      "source": [
        "w, b = train(np.array(x_train), np.array(y_train), w, b, a, 25)\n",
        "accuracy = find_accuracy(np.array(x_test), np.array(y_test), w, b)\n",
        "print(\"Accuracy of model : {}\".format(accuracy))"
      ],
      "execution_count": 239,
      "outputs": [
        {
          "output_type": "stream",
          "text": [
            "Accuracy of model : 0.98\n"
          ],
          "name": "stdout"
        }
      ]
    }
  ]
}