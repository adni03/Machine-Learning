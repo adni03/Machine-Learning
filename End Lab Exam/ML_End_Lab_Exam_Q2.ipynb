{
  "nbformat": 4,
  "nbformat_minor": 0,
  "metadata": {
    "colab": {
      "name": "ML_End_Lab_Exam_Q2.ipynb",
      "provenance": [],
      "collapsed_sections": []
    },
    "kernelspec": {
      "name": "python3",
      "display_name": "Python 3"
    }
  },
  "cells": [
    {
      "cell_type": "markdown",
      "metadata": {
        "id": "3SmCC8vBe4j9"
      },
      "source": [
        "# *Machine Learning End Lab Exam Question 2*\n",
        "\n",
        "---\n",
        "Name: Sri Sai Vijaya Aditya Nittala\\\n",
        "Roll No.: 177163\\\n",
        "Section: A\n",
        "\n",
        "---\n",
        "\n",
        "Classify the above boolean function using the GABIL method (Genetic Algorithm):\n",
        "\n",
        "\n",
        "> Y = (A + AB)(B + BC)(C + AB)\n",
        "\n",
        "This boolean function can be simplified as follows:\n",
        "\n",
        "\n",
        "> Y = (A + AB)(B + BC)(C + AB) = (A)(B)(C + AB) = ABC + (AB)(AB) = ABC + AB = AB(C + 1) = AB\n",
        "\n",
        "Now, this boolean function is nothing but an AND function\\\n",
        "\n",
        "Using genetic algorithm we are trying to optimize the weights given the target function. The aim is to converge the weights such that classification is optimal.\n"
      ]
    },
    {
      "cell_type": "code",
      "metadata": {
        "id": "V1rXc73Set04"
      },
      "source": [
        "## IMPORTING REQUIRED LIBRARIES\n",
        "import numpy as np\n",
        "import random"
      ],
      "execution_count": 94,
      "outputs": []
    },
    {
      "cell_type": "code",
      "metadata": {
        "id": "qu8vTbBurHjk"
      },
      "source": [
        "## TRUTH TABLE FOR 3 BOOLEAN VARIABLES\n",
        "X = [1, 0, 0, 0, 1, 0, 0, 1, 1, 0, 1, 0, 1, 0, 1, 1, 1, 1, 0, 0, 1, 1, 0, 1, 1, 1, 1, 0, 1, 1, 1, 1]\n",
        "X = np.reshape(X, (8, 4))\n",
        "\n",
        "## -1 INDICATES 0 AND 1 INDICATES 1\n",
        "y = [-1, -1, -1, -1, -1, -1, 1, 1]\n",
        "y = np.reshape(y, (8, 1))"
      ],
      "execution_count": 95,
      "outputs": []
    },
    {
      "cell_type": "code",
      "metadata": {
        "id": "93kbwgtQrW2R"
      },
      "source": [
        "## CREATING INITIAL POPULATION\n",
        "no_output = 8\n",
        "num_weights = 4\n",
        "population_size = (no_output, num_weights)\n",
        "\n",
        "new_population = np.random.uniform(low = -5, high = 5, size = population_size)"
      ],
      "execution_count": 96,
      "outputs": []
    },
    {
      "cell_type": "code",
      "metadata": {
        "id": "XYrAn1ovsWw4"
      },
      "source": [
        "## FITNESS FUNCTION\n",
        "def Fitness(X, y, population):\n",
        "    fitness = np.zeros(len(population))\n",
        "    for i in range(len(population)):\n",
        "        e = 0\n",
        "        for j in range(len(X)):\n",
        "            e = e + np.square(np.dot(X[j], population[i]) - y[j])\n",
        "        e = e/len(X)\n",
        "        fitness[i] = e\n",
        "    \n",
        "    return fitness"
      ],
      "execution_count": 97,
      "outputs": []
    },
    {
      "cell_type": "code",
      "metadata": {
        "id": "I2gqD3bds18P"
      },
      "source": [
        "## SELECTING BEST INDIVIDUALS OF CURRENT GENERATION TO BECOME PARENTS OF NEXT GENERATION\n",
        "def SelectMatingPool(population, fitness, num_parents):\n",
        "    parents = np.empty((num_parents, population.shape[1]))\n",
        "    parent_idx = []\n",
        "    for p in range(num_parents):\n",
        "        pos = np.argmin(fitness)\n",
        "        parent_idx.append(pos)\n",
        "        parents[p, :] = population[pos, :]\n",
        "        fitness[pos] = np.inf\n",
        "    \n",
        "    return parents"
      ],
      "execution_count": 98,
      "outputs": []
    },
    {
      "cell_type": "code",
      "metadata": {
        "id": "Ql2a2BUSuU2B"
      },
      "source": [
        "## CROSSING OVER GENES INDICATES NEW GENERATION IS BEING FORMED\n",
        "def Crossover(parents, offspring_size):\n",
        "    os = np.empty(offspring_size)\n",
        "    cp = np.uint8(offspring_size[1]/2)\n",
        "\n",
        "    for k in range(offspring_size[0]):\n",
        "        p1 = k%parents.shape[0]\n",
        "        p2 = (k+1)%parents.shape[0]\n",
        "        os[k, 0:cp] = parents[p1, 0:cp] ## first half from p1 and second half from p2\n",
        "        os[k, cp:] = parents[p2, cp:] ## opposite of above\n",
        "    \n",
        "    return os"
      ],
      "execution_count": 99,
      "outputs": []
    },
    {
      "cell_type": "code",
      "metadata": {
        "id": "fxIkt6MXu-Xs"
      },
      "source": [
        "## SOME OF THE NEW MEMBERS OF THE POPULATION ARE MUTATED RANDOMLY\n",
        "def Mutation(os):\n",
        "    for i in range(os.shape[0]):\n",
        "        rv = np.random.uniform(-1, 1, 1)\n",
        "        val = np.random.randint(os.shape[1])\n",
        "        os[i, val] = os[i, val] + rv\n",
        "    \n",
        "    return os"
      ],
      "execution_count": 100,
      "outputs": []
    },
    {
      "cell_type": "code",
      "metadata": {
        "id": "paTK1S3uvfcG"
      },
      "source": [
        "'''\n",
        "    For running the GA algorithm, the following steps are:\n",
        "    1. Generate population\n",
        "    2. Calculate Fitness\n",
        "    3. Select fittest individuals for crossover\n",
        "    4. Crossover\n",
        "    5. Mutate\n",
        "    6. New population generated\n",
        "'''\n",
        "generations = 5\n",
        "parents_mating = 4\n",
        "\n",
        "for g in range(generations):\n",
        "    fitness = Fitness(X, y, new_population)\n",
        "    parents = SelectMatingPool(new_population, fitness, parents_mating)\n",
        "    osc = Crossover(parents, offspring_size=(population_size[0] - parents.shape[0], num_weights))\n",
        "    osm = Mutation(osc)\n",
        "\n",
        "    new_population[0:parents.shape[0], :] = parents\n",
        "    new_population[parents.shape[0]:, :] = osm"
      ],
      "execution_count": 101,
      "outputs": []
    },
    {
      "cell_type": "code",
      "metadata": {
        "colab": {
          "base_uri": "https://localhost:8080/",
          "height": 0
        },
        "id": "bI2adR-3wR9V",
        "outputId": "965c5f3e-35d9-4444-b530-f16c3ea2616d"
      },
      "source": [
        "weights = new_population[np.argmin(fitness)]\n",
        "print(\"Final Weights are : {}\".format(weights))"
      ],
      "execution_count": 102,
      "outputs": [
        {
          "output_type": "stream",
          "text": [
            "Final Weights are : [-3.13436398  4.48189661  1.23189533 -1.04659033]\n"
          ],
          "name": "stdout"
        }
      ]
    },
    {
      "cell_type": "code",
      "metadata": {
        "colab": {
          "base_uri": "https://localhost:8080/",
          "height": 0
        },
        "id": "9hRtxGbCwlva",
        "outputId": "9222294a-078f-47ed-d3c2-7ee6b7ef4de7"
      },
      "source": [
        "print(\"Truth table for the given boolean function : \")\n",
        "print(\"A\\tB\\tC\\tY\\tH\")\n",
        "print(\"-----\"*7)\n",
        "for i in range(X.shape[0]):\n",
        "    for j in range(1, X.shape[1]):\n",
        "        print(\"{}\\t\".format(X[i, j]), end = '')\n",
        "    print(\"{}\\t\".format(0 if y[i, 0] == -1 else 1), end='')\n",
        "    print('{}'.format(0 if np.dot(X[i], weights) < 0.5 else 1))  "
      ],
      "execution_count": 103,
      "outputs": [
        {
          "output_type": "stream",
          "text": [
            "Truth table for the given boolean function : \n",
            "A\tB\tC\tY\tH\n",
            "-----------------------------------\n",
            "0\t0\t0\t0\t0\n",
            "0\t0\t1\t0\t0\n",
            "0\t1\t0\t0\t0\n",
            "0\t1\t1\t0\t0\n",
            "1\t0\t0\t0\t1\n",
            "1\t0\t1\t0\t0\n",
            "1\t1\t0\t1\t1\n",
            "1\t1\t1\t1\t1\n"
          ],
          "name": "stdout"
        }
      ]
    },
    {
      "cell_type": "code",
      "metadata": {
        "id": "SANQeN9lyi5Y"
      },
      "source": [
        ""
      ],
      "execution_count": 103,
      "outputs": []
    }
  ]
}