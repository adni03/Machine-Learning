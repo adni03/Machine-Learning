{
  "nbformat": 4,
  "nbformat_minor": 0,
  "metadata": {
    "kernelspec": {
      "display_name": "Python 3",
      "language": "python",
      "name": "python3"
    },
    "language_info": {
      "codemirror_mode": {
        "name": "ipython",
        "version": 3
      },
      "file_extension": ".py",
      "mimetype": "text/x-python",
      "name": "python",
      "nbconvert_exporter": "python",
      "pygments_lexer": "ipython3",
      "version": "3.6.4"
    },
    "colab": {
      "name": "177163_ML-Lab-Assignment-5b.ipynb",
      "provenance": [],
      "collapsed_sections": []
    }
  },
  "cells": [
    {
      "cell_type": "markdown",
      "metadata": {
        "id": "0c_3qUcQs1mn"
      },
      "source": [
        "# *Machine Learning Lab Assignment - 5b*\n",
        "\n",
        "---\n",
        "\n",
        "Name: Sri Sai Vijaya Aditya Nittala\\\n",
        "Roll No.: 177163\\\n",
        "Section: A\\\n",
        "Handwritten digit recognition using Convolutional Neural Networks"
      ]
    },
    {
      "cell_type": "code",
      "metadata": {
        "colab": {
          "base_uri": "https://localhost:8080/"
        },
        "id": "wUeI2MLOwFGX",
        "outputId": "41d08e71-a910-4083-b07f-3a8312893d64"
      },
      "source": [
        "## MOUNTING GOOGLE DRIVE\n",
        "from google.colab import drive\n",
        "drive.mount('/content/drive')"
      ],
      "execution_count": null,
      "outputs": [
        {
          "output_type": "stream",
          "text": [
            "Drive already mounted at /content/drive; to attempt to forcibly remount, call drive.mount(\"/content/drive\", force_remount=True).\n"
          ],
          "name": "stdout"
        }
      ]
    },
    {
      "cell_type": "code",
      "metadata": {
        "id": "Vf0gekARs1mn"
      },
      "source": [
        "## IMPORTING RELEVANT LIBRARIES\n",
        "import pandas as pd\n",
        "import numpy as np\n",
        "from sklearn import preprocessing\n",
        "import json\n",
        "import matplotlib.pyplot as plt\n",
        "from sklearn import model_selection"
      ],
      "execution_count": null,
      "outputs": []
    },
    {
      "cell_type": "code",
      "metadata": {
        "id": "Qa2A3uC1s1mn"
      },
      "source": [
        "## IMPORTING RELEVANT PACKAGES FOR THE DATASET AS WELL AS THE LAYERS FOR THE CNN MODEL\n",
        "from keras.datasets import mnist\n",
        "from keras.models import Sequential\n",
        "from keras.layers import Dense\n",
        "from keras.layers import Dropout\n",
        "from keras.layers import Flatten\n",
        "from keras.layers.convolutional import Conv2D\n",
        "from keras.layers.convolutional import MaxPooling2D\n",
        "from keras.utils import np_utils"
      ],
      "execution_count": null,
      "outputs": []
    },
    {
      "cell_type": "code",
      "metadata": {
        "colab": {
          "base_uri": "https://localhost:8080/",
          "height": 499
        },
        "id": "Zd7mvarDs1mp",
        "outputId": "50684aea-d730-4d7d-f48d-176fcb8e6991"
      },
      "source": [
        "## LOADING TRAINING DATA \n",
        "data = pd.read_csv('/content/drive/MyDrive/mnist.csv')\n",
        "y = np.array(data['label'])\n",
        "X = np.array(data.drop(['label'], axis = 1))\n",
        "\n",
        "## SPLITTING MAIN DATASET INTO TRAINING AND TESTING DATASETS\n",
        "X_train, X_test, y_train, y_test = model_selection.train_test_split(X, y, test_size = 0.2, random_state = 42)\n",
        "\n",
        "## PRINTING IMAGES FROM THE MNIST DATASET\n",
        "print(\"Sample of images from the MNIST Dataset : \")\n",
        "plt.figure(figsize=(8, 8))\n",
        "for i in range(16):\n",
        "    plt.subplot(4, 4, i+1)\n",
        "    plt.axis('off')\n",
        "    r = np.random.randint(X_train.shape[0])   ## PICK A RANDON IMAGE TO SHOW\n",
        "    plt.title('True Label: '+ str(y_train[r])) ## PRINT LABEL\n",
        "    plt.imshow(X_train[r].reshape(28, 28))     ## PRINT IMAGE\n",
        "plt.show()"
      ],
      "execution_count": null,
      "outputs": [
        {
          "output_type": "stream",
          "text": [
            "Sample of images from the MNIST Dataset : \n"
          ],
          "name": "stdout"
        },
        {
          "output_type": "display_data",
          "data": {
            "image/png": "[encoded data removed]",
            "text/plain": [
              "<Figure size 576x576 with 16 Axes>"
            ]
          },
          "metadata": {
            "tags": [],
            "needs_background": "light"
          }
        }
      ]
    },
    {
      "cell_type": "code",
      "metadata": {
        "id": "QOu8-D0Ks1mp",
        "colab": {
          "base_uri": "https://localhost:8080/"
        },
        "outputId": "6250ff2a-7d75-47d7-8804-aaf8d4e7477b"
      },
      "source": [
        "## NORMALIZING THE PIXEL VALUES FOR TRAINING DATA\n",
        "X_train = X_train / 255\n",
        "\n",
        "## CONVERTING TARGET VALUE TO ONE-HOT ENCODED FORM\n",
        "X_train = np.array(X_train)\n",
        "b = np.zeros((y_train.size, y_train.max()+1))\n",
        "b[np.arange(y_train.size), y_train] = 1\n",
        "y_train = np.array(b)\n",
        "\n",
        "X_train = X_train.reshape(X_train.shape[0], 28, 28, 1).astype('float32')\n",
        "print(\"y_train shape (after one-hot encoding) : {}\".format(y_train.shape))\n"
      ],
      "execution_count": null,
      "outputs": [
        {
          "output_type": "stream",
          "text": [
            "y_train shape (after one-hot encoding) : (33600, 10)\n"
          ],
          "name": "stdout"
        }
      ]
    },
    {
      "cell_type": "code",
      "metadata": {
        "id": "0XntR-Tvs1mp",
        "colab": {
          "base_uri": "https://localhost:8080/"
        },
        "outputId": "57b7b860-ad30-4ee5-ab5e-5d157670f7a6"
      },
      "source": [
        "## NORMALIZING THE PIXEL VALUES FOR TESTING DATA\n",
        "X_test = X_test / 255\n",
        "\n",
        "## CONVERTING TARGET VALUE TO ONE-HOT ENCODED FORM\n",
        "X_test = np.array(X_test)\n",
        "b1 = np.zeros((y_test.size, 10))\n",
        "b1[np.arange(y_test.size), y_test] = 1\n",
        "y_test = np.array(b1)\n",
        "\n",
        "X_test = X_test.reshape(X_test.shape[0], 28, 28, 1).astype('float32')\n",
        "print(\"y_test shape (after one-hot encoding) : {}\".format(y_test.shape))"
      ],
      "execution_count": null,
      "outputs": [
        {
          "output_type": "stream",
          "text": [
            "y_test shape (after one-hot encoding) : (8400, 10)\n"
          ],
          "name": "stdout"
        }
      ]
    },
    {
      "cell_type": "code",
      "metadata": {
        "id": "f-rFsjxxs1mp",
        "colab": {
          "base_uri": "https://localhost:8080/"
        },
        "outputId": "187acb38-40ba-49fd-af1a-b0ba0d0afc3f"
      },
      "source": [
        "num_classes = y_train.shape[1]\n",
        "print(\"Number of classes : {}\".format(num_classes))"
      ],
      "execution_count": null,
      "outputs": [
        {
          "output_type": "stream",
          "text": [
            "Number of classes : 10\n"
          ],
          "name": "stdout"
        }
      ]
    },
    {
      "cell_type": "code",
      "metadata": {
        "id": "-_ObI-bos1mp"
      },
      "source": [
        "## CREATE MODEL AND COMPILE\n",
        "def baseline_model():\n",
        "    ## CREATE MODEL\n",
        "    model = Sequential()\n",
        "    model.add(Conv2D(32, (5, 5), input_shape=(28, 28, 1), activation='relu'))\n",
        "    model.add(MaxPooling2D(pool_size=(2, 2)))\n",
        "    model.add(Dropout(0.2))\n",
        "    model.add(Flatten())\n",
        "    model.add(Dense(128, activation='relu'))\n",
        "    model.add(Dense(num_classes, activation='softmax'))\n",
        "    ## COMPILE MODEL\n",
        "    model.compile(loss='categorical_crossentropy', optimizer='adam', metrics=['accuracy'])\n",
        "    return model"
      ],
      "execution_count": null,
      "outputs": []
    },
    {
      "cell_type": "code",
      "metadata": {
        "id": "eUAz8iTss1mp"
      },
      "source": [
        "## SPLITTING INTO VALIDATION SET\n",
        "X_test, X_val, y_test, y_val = model_selection.train_test_split(X_test, y_test, test_size=0.1)"
      ],
      "execution_count": null,
      "outputs": []
    },
    {
      "cell_type": "code",
      "metadata": {
        "id": "Dov8cywHs1mp",
        "colab": {
          "base_uri": "https://localhost:8080/"
        },
        "outputId": "22995539-12d2-4642-dbbe-9bbc7368fb45"
      },
      "source": [
        "## BUILDING THE MODEL\n",
        "model = baseline_model()\n",
        "## TRAINING THE MODEL\n",
        "history = model.fit(X_train, y_train, validation_data=(X_val, y_val), epochs=10, batch_size=200, verbose=1)"
      ],
      "execution_count": null,
      "outputs": [
        {
          "output_type": "stream",
          "text": [
            "Epoch 1/10\n",
            "168/168 [==============================] - 16s 96ms/step - loss: 0.3296 - accuracy: 0.9071 - val_loss: 0.1426 - val_accuracy: 0.9536\n",
            "Epoch 2/10\n",
            "168/168 [==============================] - 16s 95ms/step - loss: 0.1043 - accuracy: 0.9689 - val_loss: 0.0830 - val_accuracy: 0.9774\n",
            "Epoch 3/10\n",
            "168/168 [==============================] - 16s 94ms/step - loss: 0.0714 - accuracy: 0.9781 - val_loss: 0.0599 - val_accuracy: 0.9845\n",
            "Epoch 4/10\n",
            "168/168 [==============================] - 16s 93ms/step - loss: 0.0528 - accuracy: 0.9835 - val_loss: 0.0535 - val_accuracy: 0.9905\n",
            "Epoch 5/10\n",
            "168/168 [==============================] - 16s 93ms/step - loss: 0.0434 - accuracy: 0.9864 - val_loss: 0.0546 - val_accuracy: 0.9845\n",
            "Epoch 6/10\n",
            "168/168 [==============================] - 16s 93ms/step - loss: 0.0369 - accuracy: 0.9878 - val_loss: 0.0447 - val_accuracy: 0.9857\n",
            "Epoch 7/10\n",
            "168/168 [==============================] - 16s 93ms/step - loss: 0.0327 - accuracy: 0.9896 - val_loss: 0.0437 - val_accuracy: 0.9893\n",
            "Epoch 8/10\n",
            "168/168 [==============================] - 16s 94ms/step - loss: 0.0253 - accuracy: 0.9921 - val_loss: 0.0437 - val_accuracy: 0.9869\n",
            "Epoch 9/10\n",
            "168/168 [==============================] - 16s 94ms/step - loss: 0.0231 - accuracy: 0.9928 - val_loss: 0.0449 - val_accuracy: 0.9893\n",
            "Epoch 10/10\n",
            "168/168 [==============================] - 16s 94ms/step - loss: 0.0202 - accuracy: 0.9937 - val_loss: 0.0419 - val_accuracy: 0.9893\n"
          ],
          "name": "stdout"
        }
      ]
    },
    {
      "cell_type": "code",
      "metadata": {
        "id": "n5SFzTGus1mq",
        "colab": {
          "base_uri": "https://localhost:8080/",
          "height": 312
        },
        "outputId": "f3985134-08d7-4bae-9795-e514d991d2d4"
      },
      "source": [
        "print(\"Training and Cross-validation accuracy with respect to epochs : \")\n",
        "## ACCURACY VS ITERATIONS GRAPH\n",
        "plt.plot(history.history['accuracy'])\n",
        "plt.plot(history.history['val_accuracy'])\n",
        "plt.title('model accuracy')\n",
        "plt.ylabel('accuracy')\n",
        "plt.xlabel('epoch')\n",
        "plt.legend(['train', 'validation'], loc='upper left')\n",
        "plt.show()"
      ],
      "execution_count": null,
      "outputs": [
        {
          "output_type": "stream",
          "text": [
            "Training and Cross-validation accuracy with respect to epochs : \n"
          ],
          "name": "stdout"
        },
        {
          "output_type": "display_data",
          "data": {
            "image/png": "[encoded data removed]",
            "text/plain": [
              "<Figure size 432x288 with 1 Axes>"
            ]
          },
          "metadata": {
            "tags": [],
            "needs_background": "light"
          }
        }
      ]
    },
    {
      "cell_type": "code",
      "metadata": {
        "id": "BAurzV0As1mq",
        "colab": {
          "base_uri": "https://localhost:8080/",
          "height": 312
        },
        "outputId": "5e0453c0-4aaf-4897-c757-6a112e1d7700"
      },
      "source": [
        "print(\"Model loss with respect to epochs : \")\n",
        "## LOSS VS ITERATIONS GRAPH\n",
        "plt.plot(history.history['loss'])\n",
        "plt.plot(history.history['val_loss'])\n",
        "plt.title('model loss')\n",
        "plt.ylabel('loss')\n",
        "plt.xlabel('epoch')\n",
        "plt.legend(['train', 'validation'], loc='upper left')\n",
        "plt.show()"
      ],
      "execution_count": null,
      "outputs": [
        {
          "output_type": "stream",
          "text": [
            "Model loss with respect to epochs : \n"
          ],
          "name": "stdout"
        },
        {
          "output_type": "display_data",
          "data": {
            "image/png": "[encoded data removed]",
            "text/plain": [
              "<Figure size 432x288 with 1 Axes>"
            ]
          },
          "metadata": {
            "tags": [],
            "needs_background": "light"
          }
        }
      ]
    },
    {
      "cell_type": "code",
      "metadata": {
        "id": "5EAPM1Qds1mq",
        "colab": {
          "base_uri": "https://localhost:8080/"
        },
        "outputId": "95772b70-c12e-49da-ed3f-d7c2c4a2b888"
      },
      "source": [
        "## EVALUATING THE MODEL USING TEST DATA\n",
        "print(\"Evaluate on test data\")\n",
        "results = model.evaluate(X_test, y_test, batch_size=200)\n",
        "print(\"\\nTest loss : {}\\tTest Accuracy : {}\".format(results[0], results[1]))\n",
        "## PRINTING WEIGHTS\n",
        "print(\"\\nWeights : {}\".format(model.get_weights()))"
      ],
      "execution_count": null,
      "outputs": [
        {
          "output_type": "stream",
          "text": [
            "Evaluate on test data\n",
            "38/38 [==============================] - 1s 27ms/step - loss: 0.0471 - accuracy: 0.9865\n",
            "\n",
            "Test loss : 0.04712556675076485\tTest Accuracy : 0.9865079522132874\n",
            "\n",
            "Weights : [array([[[[ 8.04903209e-02,  3.58311199e-02, -1.21079206e-01,\n",
            "          -8.20335746e-02,  5.00785187e-02, -1.40752092e-01,\n",
            "           6.75003156e-02, -7.89242536e-02, -8.68643522e-02,\n",
            "          -2.46536791e-01,  1.87083445e-02,  1.09414859e-02,\n",
            "          -2.45625034e-01, -1.19007915e-01, -1.41105533e-01,\n",
            "          -2.93295234e-01,  8.91771689e-02, -1.07493453e-01,\n",
            "          -2.83506244e-01,  8.89354497e-02, -1.54868662e-01,\n",
            "           7.94681087e-02,  7.12729096e-02,  1.09676853e-01,\n",
            "           1.22253887e-01,  1.70896381e-01,  1.38106704e-01,\n",
            "           2.59836018e-02,  4.48092669e-02,  7.59988185e-03,\n",
            "           4.38960902e-02,  9.46552306e-03]],\n",
            "\n",
            "        [[-6.34383559e-02,  4.13288064e-02, -3.89649644e-02,\n",
            "          -1.52956426e-01, -1.68809965e-01, -1.67483941e-01,\n",
            "           1.36104614e-01, -1.54731795e-01,  5.80176599e-02,\n",
            "          -1.58353567e-01,  4.69537340e-02, -1.06091596e-01,\n",
            "          -1.09763727e-01,  3.16098668e-02, -2.20561653e-01,\n",
            "          -1.98681280e-01,  7.05098584e-02, -5.46483658e-02,\n",
            "          -2.57186741e-01,  1.10060602e-01, -2.68823504e-01,\n",
            "           1.64977647e-02,  9.14800465e-02,  1.74672812e-01,\n",
            "           2.15367246e-02,  1.01895235e-01,  1.74915150e-01,\n",
            "           8.32996070e-02, -6.32474124e-02, -4.93028713e-03,\n",
            "           1.03501268e-01, -6.02688603e-02]],\n",
            "\n",
            "        [[-1.31863207e-02,  1.43554613e-01,  3.28485332e-02,\n",
            "           9.27556190e-04, -2.58454919e-01, -4.15211683e-03,\n",
            "           1.54285699e-01, -1.93343565e-01,  1.64745018e-01,\n",
            "          -4.70422208e-02,  2.70640329e-02, -1.17916875e-01,\n",
            "           1.11306675e-01,  7.69583210e-02, -2.30617091e-01,\n",
            "          -2.64651805e-01,  1.09932832e-01,  6.75769523e-02,\n",
            "          -1.37332648e-01, -1.20769411e-01, -2.18119249e-01,\n",
            "           2.66152974e-02,  1.00792550e-01,  1.17125422e-01,\n",
            "           7.69513547e-02, -5.80309331e-02,  1.47676036e-01,\n",
            "           7.78525844e-02,  9.81035680e-02,  6.65683523e-02,\n",
            "          -1.71693228e-02,  8.07870999e-02]],\n",
            "\n",
            "        [[-4.76860255e-02,  4.95413467e-02,  1.26870200e-01,\n",
            "           1.00691676e-01, -1.88199729e-01,  9.17144790e-02,\n",
            "           1.00773238e-01, -1.40660107e-01,  4.45043594e-02,\n",
            "           1.95903808e-01, -1.56834409e-01, -7.13862628e-02,\n",
            "           1.41680837e-01,  3.90980728e-02, -1.78589627e-01,\n",
            "          -1.96402952e-01,  4.70315218e-02,  5.62758930e-02,\n",
            "          -8.15761387e-02, -1.11445501e-01, -1.96918119e-02,\n",
            "           8.08384269e-04,  1.31162433e-02,  5.17936237e-02,\n",
            "          -1.00141190e-01, -1.23945147e-01,  8.43953118e-02,\n",
            "           4.60981466e-02,  9.73313972e-02, -1.21067025e-01,\n",
            "           9.88864675e-02,  8.70501548e-02]],\n",
            "\n",
            "        [[-1.18350191e-02,  1.56594947e-01,  2.91501861e-02,\n",
            "          -5.33142909e-02, -2.44026817e-02,  9.02718157e-02,\n",
            "          -3.22613232e-02, -9.91581976e-02, -1.74967617e-01,\n",
            "           3.49674188e-02,  4.93341964e-03,  2.89866198e-02,\n",
            "          -3.45196053e-02, -4.15764051e-03, -3.01682483e-02,\n",
            "          -1.66111931e-01,  1.10610776e-01, -5.69043793e-02,\n",
            "           1.01320729e-01,  6.19896576e-02,  7.70350844e-02,\n",
            "          -2.30297402e-01, -1.05219688e-02,  3.93599011e-02,\n",
            "           3.83914784e-02, -1.01327538e-01, -1.45886302e-01,\n",
            "          -1.44655541e-01,  1.10676490e-01, -1.16183355e-01,\n",
            "           2.43171956e-02,  1.12115204e-01]]],\n",
            "\n",
            "\n",
            "       [[[-4.76942137e-02, -5.55090122e-02,  1.71665236e-01,\n",
            "          -1.31702378e-01,  1.04638845e-01, -1.97621197e-01,\n",
            "          -9.69794691e-02,  6.07355684e-02, -2.38697715e-02,\n",
            "          -1.76019400e-01,  7.29368404e-02,  1.01998234e-02,\n",
            "          -2.07148850e-01, -9.79680661e-03, -2.28448749e-01,\n",
            "           4.67339195e-02, -6.45972863e-02, -1.24081068e-01,\n",
            "          -1.24883093e-01, -6.87589496e-02, -2.46641949e-01,\n",
            "           5.28787412e-02,  3.27226669e-02, -1.22479260e-01,\n",
            "           9.08473730e-02,  1.82511602e-02,  2.70026736e-02,\n",
            "          -4.59993780e-02,  2.95476969e-02,  7.29724690e-02,\n",
            "          -8.50160941e-02,  3.78689878e-02]],\n",
            "\n",
            "        [[ 5.25104105e-02,  1.37462273e-01,  9.62550193e-02,\n",
            "          -1.45493686e-01,  4.37061638e-02,  5.13464632e-03,\n",
            "           3.20967026e-02, -1.05392644e-02,  1.01330012e-01,\n",
            "          -2.23656133e-01,  9.95427370e-02,  6.32228404e-02,\n",
            "           1.78113058e-02,  5.09563135e-03, -6.28602877e-02,\n",
            "           6.40198728e-03,  7.92369470e-02,  5.61988577e-02,\n",
            "          -2.05584720e-01,  1.91878185e-01, -1.74014330e-01,\n",
            "           9.27169621e-02,  6.48943558e-02, -3.63158435e-02,\n",
            "           8.97174105e-02,  1.49519458e-01,  8.04339349e-02,\n",
            "          -1.27734303e-01,  1.14972897e-01,  3.72662358e-02,\n",
            "           3.65005285e-02,  1.55849934e-01]],\n",
            "\n",
            "        [[-4.17757779e-02,  1.94469750e-01,  1.43985376e-01,\n",
            "           9.68003720e-02, -1.53979510e-01,  2.74548531e-02,\n",
            "           1.02962829e-01,  1.21350996e-01,  1.49955466e-01,\n",
            "           1.11335538e-01,  6.53660148e-02,  4.50873859e-02,\n",
            "           1.72092155e-01,  8.99247080e-02, -3.56157050e-02,\n",
            "           1.05461344e-01,  1.45499155e-01,  4.12245318e-02,\n",
            "          -1.81212798e-01,  3.24783772e-02,  6.83083907e-02,\n",
            "           1.25252679e-01, -9.96229798e-02, -8.06878414e-03,\n",
            "           2.88790241e-02, -1.00313053e-01,  8.54585990e-02,\n",
            "           1.62210353e-02,  4.95484620e-02,  8.07523653e-02,\n",
            "           4.30724286e-02,  8.41903538e-02]],\n",
            "\n",
            "        [[ 2.63639074e-03,  9.81746167e-02,  1.04829617e-01,\n",
            "           1.10982411e-01, -2.04606473e-01,  7.85228238e-02,\n",
            "           1.61864743e-01,  1.65333614e-01, -1.18631013e-01,\n",
            "           1.97610393e-01, -1.88528880e-01,  7.26946294e-02,\n",
            "           1.00573584e-01,  1.52520388e-02,  2.89618019e-02,\n",
            "           9.03116614e-02,  1.06009319e-01,  4.48574647e-02,\n",
            "          -1.12740181e-01, -1.28224909e-01,  6.95364475e-02,\n",
            "          -1.13759823e-02, -1.76774576e-01,  8.14060345e-02,\n",
            "          -6.20348975e-02, -1.05202608e-01, -7.01751262e-02,\n",
            "           1.02917850e-01,  9.58814546e-02, -1.60881117e-01,\n",
            "          -3.49774933e-03,  5.05013727e-02]],\n",
            "\n",
            "        [[-1.70809045e-01,  1.73134565e-01,  1.06567694e-02,\n",
            "           1.02061085e-01, -1.74613252e-01,  3.18456516e-02,\n",
            "           1.12010598e-01,  1.45861328e-01, -1.74199089e-01,\n",
            "           4.78154272e-02, -5.04982024e-02,  8.07920694e-02,\n",
            "          -1.41009375e-01, -8.99832249e-02,  1.61226124e-01,\n",
            "           4.74388748e-02,  1.57658696e-01,  4.01884317e-02,\n",
            "          -1.52137771e-01, -1.33114308e-01,  1.04075395e-01,\n",
            "          -1.90581441e-01,  1.07852127e-02, -2.38596331e-02,\n",
            "           1.08530842e-01, -2.36533266e-02, -2.25535989e-01,\n",
            "           2.98398621e-02, -1.46019226e-02, -1.83165967e-01,\n",
            "           6.11218363e-02,  1.55629469e-02]]],\n",
            "\n",
            "\n",
            "       [[[ 5.20871952e-02, -2.18923464e-01,  8.79653543e-03,\n",
            "          -1.94883540e-01,  1.74467564e-01, -1.27220169e-01,\n",
            "          -1.21975660e-01,  4.40123267e-02,  8.44630152e-02,\n",
            "          -3.06332827e-01, -8.94726366e-02,  1.13620654e-01,\n",
            "          -1.27918139e-01,  6.62154704e-02, -6.71121031e-02,\n",
            "           1.26615062e-01, -8.17957819e-02,  7.72453249e-02,\n",
            "           2.57842928e-01, -1.54306278e-01, -2.60079056e-01,\n",
            "          -1.26966938e-01, -3.27448510e-02, -1.10872559e-01,\n",
            "           6.87051937e-02,  1.47577912e-01,  9.47806686e-02,\n",
            "           8.98993313e-02, -4.81478348e-02,  2.26346366e-02,\n",
            "          -1.08984485e-01,  6.55045807e-02]],\n",
            "\n",
            "        [[ 4.61318009e-02, -1.07002430e-01,  1.20898299e-01,\n",
            "           1.45450622e-01,  1.01978153e-01,  8.42372924e-02,\n",
            "          -9.69223529e-02,  9.47761685e-02,  1.52334705e-01,\n",
            "          -1.11892246e-01,  1.75000533e-01,  4.83744927e-02,\n",
            "           1.57833964e-01, -6.14010058e-02, -1.71147496e-01,\n",
            "           1.02371581e-01, -2.34997906e-02, -5.98116256e-02,\n",
            "           1.97511271e-01,  1.60260707e-01,  1.89956818e-02,\n",
            "          -4.76111136e-02,  5.71107455e-02, -4.91251126e-02,\n",
            "           1.31758377e-01,  4.46250737e-02,  8.31459239e-02,\n",
            "          -1.41687423e-01,  4.17781435e-02,  1.11132063e-01,\n",
            "          -6.79188520e-02,  1.29337758e-01]],\n",
            "\n",
            "        [[-4.66096587e-03,  6.65258020e-02, -3.30762006e-02,\n",
            "           6.26027286e-02,  1.48119405e-01,  1.33127458e-02,\n",
            "           1.78687610e-02,  4.78949510e-02,  1.22955531e-01,\n",
            "           6.28933832e-02,  8.99790302e-02, -2.88229659e-02,\n",
            "           1.42359659e-01, -8.98915976e-02, -2.47941110e-02,\n",
            "           7.14851078e-03,  1.58764664e-02,  2.61044167e-02,\n",
            "           2.47380752e-02,  1.29787609e-01,  1.59349188e-01,\n",
            "           5.80831096e-02, -1.08178519e-01,  6.48847446e-02,\n",
            "           1.59976453e-01, -3.46119367e-02,  9.86673832e-02,\n",
            "          -1.65659323e-01, -4.52885926e-02,  3.54752727e-02,\n",
            "          -7.86579922e-02,  2.74520386e-02]],\n",
            "\n",
            "        [[-9.85962749e-02,  5.01081459e-02, -5.86080439e-02,\n",
            "          -7.41573200e-02, -5.09877726e-02,  1.23239569e-01,\n",
            "           1.01461560e-01,  7.56804273e-02, -1.28889725e-01,\n",
            "           1.51729718e-01, -5.94347529e-02,  7.22720381e-03,\n",
            "           6.19975962e-02,  3.45997401e-02,  9.59399343e-02,\n",
            "           1.35031983e-01,  1.40003040e-01, -3.40791345e-02,\n",
            "           2.43926905e-02, -7.21363723e-03,  1.02621078e-01,\n",
            "           5.83219826e-02, -3.67325023e-02,  1.14367023e-01,\n",
            "          -5.86814582e-02, -4.56407778e-02, -1.39620081e-01,\n",
            "           4.54538092e-02, -7.89892599e-02, -8.74076411e-02,\n",
            "           5.41075841e-02, -1.11040464e-02]],\n",
            "\n",
            "        [[-4.48969156e-02, -1.18911333e-01, -1.19464166e-01,\n",
            "          -4.36781952e-03, -1.72572494e-01, -8.78048614e-02,\n",
            "           1.81187093e-01,  9.99193192e-02, -2.51452297e-01,\n",
            "           5.26019000e-02, -7.60636851e-02, -2.18329150e-02,\n",
            "          -2.10377976e-01,  8.03163052e-02,  6.22486398e-02,\n",
            "           9.87051725e-02,  3.07379570e-02,  4.54099998e-02,\n",
            "          -1.08648300e-01, -1.44754320e-01,  4.10130732e-02,\n",
            "           7.26557896e-02,  5.55172302e-02,  1.22143947e-01,\n",
            "           1.15553346e-02, -1.81666926e-01, -3.20935518e-01,\n",
            "           2.43137237e-02, -1.04970329e-01, -2.34049708e-01,\n",
            "           1.13823870e-02, -8.09471160e-02]]],\n",
            "\n",
            "\n",
            "       [[[ 6.31831214e-02, -2.85215110e-01, -1.49002105e-01,\n",
            "          -6.94462517e-03,  1.22515954e-01,  7.62795210e-02,\n",
            "          -2.00428024e-01,  7.65723810e-02,  4.73862216e-02,\n",
            "          -3.10676217e-01, -1.05332673e-01, -1.28485709e-02,\n",
            "          -9.78529733e-03,  9.50494483e-02, -1.95194393e-01,\n",
            "           2.10660100e-02, -2.70159185e-01,  1.37459189e-01,\n",
            "           1.05502203e-01, -1.68821648e-01, -6.88967705e-02,\n",
            "          -9.74507779e-02, -1.08866140e-01, -1.99976824e-02,\n",
            "          -1.32703498e-01,  1.19747281e-01, -3.55597660e-02,\n",
            "           5.85973226e-02,  2.63537001e-02, -4.49267477e-02,\n",
            "          -7.26931840e-02, -1.40919715e-01]],\n",
            "\n",
            "        [[ 3.95891555e-02, -2.28052720e-01, -7.57895112e-02,\n",
            "           1.40513241e-01,  1.28404856e-01,  9.57262069e-02,\n",
            "          -1.01791553e-01,  1.19001448e-01,  7.11811334e-02,\n",
            "          -1.30550623e-01,  6.82821423e-02,  3.60806994e-02,\n",
            "           1.31079972e-01, -1.43146664e-01, -8.12282413e-02,\n",
            "           4.18712534e-02, -1.90746427e-01, -3.01381405e-02,\n",
            "           1.76502526e-01,  2.01857481e-02,  1.74251527e-01,\n",
            "           2.60577835e-02,  5.42415641e-02, -3.50318514e-02,\n",
            "          -1.13443326e-04,  4.59368862e-02, -6.03072755e-02,\n",
            "           8.80692527e-02, -1.09572411e-01,  1.96645886e-01,\n",
            "          -3.77618372e-02, -1.75634474e-01]],\n",
            "\n",
            "        [[ 6.32419437e-02, -2.28700161e-01,  2.58448347e-02,\n",
            "           7.67855793e-02,  9.97435004e-02, -2.02167351e-02,\n",
            "          -1.32345900e-01,  7.53130484e-03, -4.32749651e-02,\n",
            "           1.28236357e-02,  1.18029937e-01,  3.32797170e-02,\n",
            "           7.64306039e-02, -8.86394605e-02,  1.24244407e-01,\n",
            "           4.97640036e-02, -1.31493464e-01, -1.44505560e-01,\n",
            "           8.34478810e-02,  1.54008403e-01,  1.55641675e-01,\n",
            "           5.31795025e-02,  1.17434569e-01,  4.40259874e-02,\n",
            "          -2.83073932e-02, -1.72765389e-01, -6.55976776e-03,\n",
            "          -5.53028323e-02, -1.54541016e-01,  1.54813543e-01,\n",
            "           7.90697709e-02, -7.83857256e-02]],\n",
            "\n",
            "        [[ 1.42282516e-01, -1.24999411e-01, -6.45414889e-02,\n",
            "          -1.59275562e-01,  1.54033914e-01,  7.91274086e-02,\n",
            "          -1.59415137e-02, -9.53146294e-02, -1.66807294e-01,\n",
            "           1.88285321e-01, -4.66711111e-02,  5.70623763e-02,\n",
            "          -8.26827064e-02,  9.41927060e-02,  1.30535543e-01,\n",
            "          -2.80442387e-02, -1.67078510e-01, -1.20233774e-01,\n",
            "           5.75099140e-02,  3.01924646e-02,  1.18787795e-01,\n",
            "          -3.57305584e-03, -6.86112866e-02, -4.55641113e-02,\n",
            "          -6.22552298e-02, -1.28595948e-01, -2.76635438e-01,\n",
            "          -5.08594513e-02, -7.95134678e-02, -9.79508981e-02,\n",
            "           8.96727815e-02, -9.27264336e-03]],\n",
            "\n",
            "        [[-7.09062144e-02, -2.18949258e-01, -2.31207073e-01,\n",
            "          -9.79553089e-02,  2.33084720e-04, -7.08966777e-02,\n",
            "           7.03118071e-02, -1.22402199e-01, -1.66125625e-01,\n",
            "           1.33279800e-01,  1.96675956e-02, -3.84577848e-02,\n",
            "          -1.72636822e-01,  7.44990483e-02,  1.27718613e-01,\n",
            "           3.10254227e-02, -1.43867612e-01,  1.42043531e-01,\n",
            "          -3.02026682e-02, -4.70641814e-02, -1.26936704e-01,\n",
            "           8.22312310e-02,  1.08827330e-01,  1.09919742e-01,\n",
            "          -7.64710829e-02, -1.89760238e-01, -2.05622807e-01,\n",
            "          -6.64008334e-02,  6.43284693e-02, -5.04214764e-02,\n",
            "           5.56262732e-02,  7.77227730e-02]]],\n",
            "\n",
            "\n",
            "       [[[-6.20035231e-02, -5.98373450e-02, -1.67343870e-01,\n",
            "           1.73002426e-02,  4.69699651e-02,  5.44578247e-02,\n",
            "          -1.07245944e-01, -1.20982863e-01,  1.03671484e-01,\n",
            "          -2.96177775e-01,  1.16029114e-03, -8.02793205e-02,\n",
            "           7.14006945e-02,  6.90700188e-02, -9.88236815e-02,\n",
            "           6.16732351e-02, -9.22060907e-02,  9.65367779e-02,\n",
            "           2.34618247e-03, -1.83821917e-01,  7.52412751e-02,\n",
            "           1.30906086e-02, -1.63032591e-01, -1.89626634e-01,\n",
            "          -2.93419957e-01,  2.31939892e-04, -5.91438040e-02,\n",
            "           5.04887924e-02, -5.01809716e-02, -2.49897987e-02,\n",
            "          -2.44177226e-03, -1.95528239e-01]],\n",
            "\n",
            "        [[ 5.94585650e-02, -1.46209344e-01, -5.26676178e-02,\n",
            "           9.80301127e-02,  2.82864682e-02, -1.98792219e-02,\n",
            "          -1.37194037e-01, -1.50727466e-01,  4.65342104e-02,\n",
            "          -2.31967196e-01, -2.01701801e-02,  8.20680782e-02,\n",
            "           1.98927838e-02, -5.81312664e-02,  1.22286923e-01,\n",
            "           6.53041853e-03, -1.77547276e-01,  5.92458285e-02,\n",
            "           6.16520196e-02,  5.93103729e-02,  1.18046962e-01,\n",
            "          -1.80572215e-02, -1.16057105e-01, -2.06587344e-01,\n",
            "          -3.72231781e-01, -8.32110345e-02, -6.01129048e-02,\n",
            "           1.01337381e-01, -1.54029380e-03,  9.18355659e-02,\n",
            "          -2.33603381e-02, -1.42769620e-01]],\n",
            "\n",
            "        [[-1.43574150e-02, -2.51377702e-01, -2.61221170e-01,\n",
            "          -8.41817632e-02,  6.22338615e-02, -3.49217914e-02,\n",
            "          -1.95479482e-01, -1.08923964e-01, -1.19816139e-02,\n",
            "          -7.51332045e-02,  9.47860107e-02,  8.90959892e-03,\n",
            "           2.67583318e-02,  3.04062925e-02,  3.19038369e-02,\n",
            "           5.04755192e-02, -1.87006190e-01, -7.92140588e-02,\n",
            "          -3.08857346e-03,  1.46695539e-01, -1.65742952e-02,\n",
            "          -4.06617485e-02,  9.37160403e-02, -1.42625153e-01,\n",
            "          -4.00378376e-01,  1.37812393e-02, -2.23864034e-01,\n",
            "           4.69181612e-02,  3.63847464e-02,  1.21597126e-01,\n",
            "           6.08606152e-02, -7.11921379e-02]],\n",
            "\n",
            "        [[ 8.13369229e-02, -1.49848059e-01, -1.57756522e-01,\n",
            "          -1.77776828e-01,  2.05907878e-02,  5.76577410e-02,\n",
            "          -2.31352404e-01, -7.50376359e-02, -1.63504586e-01,\n",
            "          -5.42606367e-03, -3.89532447e-02,  4.78068851e-02,\n",
            "          -1.41592339e-01, -5.19844890e-02,  8.02470893e-02,\n",
            "          -1.80061981e-02, -2.23290935e-01, -1.01699762e-01,\n",
            "           9.94881392e-02, -3.84654291e-02, -4.99196276e-02,\n",
            "          -1.82479173e-02, -3.54405046e-02, -4.97158840e-02,\n",
            "          -2.71141112e-01, -4.23768200e-02, -3.48625809e-01,\n",
            "           7.41611719e-02, -3.38048786e-02,  4.50771973e-02,\n",
            "           2.50399709e-02, -7.86137804e-02]],\n",
            "\n",
            "        [[ 1.38323456e-01, -1.05990119e-01,  4.62832525e-02,\n",
            "          -7.14511573e-02,  3.92868705e-02,  3.46153565e-02,\n",
            "          -1.11897558e-01, -2.23932322e-02, -1.75143287e-01,\n",
            "           1.21909007e-01,  4.22930345e-02,  7.73757324e-02,\n",
            "          -2.45014802e-02,  7.26307416e-03,  2.99812499e-02,\n",
            "          -2.76867822e-02, -1.99562564e-01,  5.49417734e-02,\n",
            "           2.28967629e-02, -5.05862236e-02, -1.64401695e-01,\n",
            "           1.92419682e-02, -9.31637958e-02, -1.83096789e-02,\n",
            "          -2.24481940e-01, -8.05083364e-02, -8.75214934e-02,\n",
            "           6.51043728e-02,  1.89165082e-02, -5.15517704e-02,\n",
            "           2.96420269e-02,  6.77939132e-02]]]], dtype=float32), array([-0.05820849,  0.01313961, -0.00394336, -0.0252817 , -0.05253953,\n",
            "       -0.08947986, -0.01783454, -0.00082793, -0.04677553, -0.01045997,\n",
            "       -0.09026669, -0.08127209, -0.09873201, -0.03889997, -0.00906523,\n",
            "       -0.00356497, -0.00163136, -0.0416435 , -0.00192588, -0.059155  ,\n",
            "       -0.08424923, -0.0681129 , -0.00541233, -0.08026634,  0.02746578,\n",
            "       -0.00586022,  0.00251708, -0.05558874, -0.05154204, -0.06520047,\n",
            "       -0.09728964, -0.04685827], dtype=float32), array([[ 0.02224188,  0.0696452 ,  0.04417916, ..., -0.02484252,\n",
            "        -0.00270003, -0.00622086],\n",
            "       [-0.02674904,  0.02301332,  0.0550252 , ...,  0.00644377,\n",
            "         0.04135958, -0.02331143],\n",
            "       [ 0.00067603,  0.0025259 ,  0.03992203, ..., -0.00611371,\n",
            "         0.01652912,  0.00590982],\n",
            "       ...,\n",
            "       [-0.01105805,  0.0204306 , -0.02477122, ..., -0.03260807,\n",
            "         0.05109913, -0.00263022],\n",
            "       [-0.00931815,  0.01669965, -0.03019837, ...,  0.03430443,\n",
            "         0.02023377, -0.02368034],\n",
            "       [-0.01392797,  0.01213545, -0.03944241, ..., -0.05359101,\n",
            "         0.04981903,  0.0333809 ]], dtype=float32), array([-0.02504048,  0.01875324,  0.04351723,  0.00363143,  0.01946188,\n",
            "       -0.00078718, -0.01297215, -0.00460334, -0.00625423,  0.02264138,\n",
            "       -0.00203631, -0.00599666,  0.02737254,  0.00606598, -0.01241583,\n",
            "        0.00660694,  0.00251436,  0.01622939,  0.03224026,  0.02526148,\n",
            "       -0.00223725,  0.00836444,  0.00990639,  0.0179022 , -0.00657487,\n",
            "       -0.00436315,  0.00208668,  0.00535174,  0.02157484, -0.00983949,\n",
            "       -0.0009682 , -0.00133151,  0.0240672 , -0.01124145,  0.0179022 ,\n",
            "        0.01871369,  0.03473908,  0.02951572, -0.00599497,  0.0009273 ,\n",
            "        0.00556503, -0.00363304, -0.01736014, -0.00584573,  0.00021652,\n",
            "       -0.0187603 ,  0.02251175,  0.01417258,  0.00227078,  0.01492779,\n",
            "        0.01087343, -0.00504043,  0.00060462, -0.00761339,  0.01517477,\n",
            "        0.00239447, -0.00683675,  0.04398849, -0.0009344 , -0.0038752 ,\n",
            "        0.0234438 ,  0.01398652,  0.02259653, -0.02439319, -0.00625111,\n",
            "        0.01831753,  0.01468782, -0.00331702, -0.00565287, -0.0187245 ,\n",
            "        0.02509364, -0.00838069,  0.01083193,  0.0002373 ,  0.03821732,\n",
            "       -0.00672612,  0.00234242,  0.01710371,  0.00835107, -0.02720689,\n",
            "       -0.00708153,  0.01743744, -0.00086877,  0.00111479,  0.00299494,\n",
            "       -0.00600346,  0.0405425 ,  0.01878815,  0.01781073,  0.04776007,\n",
            "        0.02755256,  0.00508822,  0.03558394, -0.00151967,  0.01478608,\n",
            "       -0.00844179,  0.00887273,  0.02667227,  0.01224944, -0.00060631,\n",
            "       -0.00344691,  0.00573918,  0.01379859,  0.003766  ,  0.0143678 ,\n",
            "        0.03836432,  0.01522361,  0.00830458,  0.02696161, -0.0013373 ,\n",
            "        0.0088302 ,  0.02206021,  0.01897914, -0.00666257, -0.00676719,\n",
            "        0.00582222,  0.02913265,  0.02156702, -0.00770729, -0.0225775 ,\n",
            "        0.00911456,  0.00151178,  0.01488179,  0.00236483, -0.01811653,\n",
            "        0.0266474 ,  0.01350473, -0.00812187], dtype=float32), array([[-0.00448272, -0.21596277, -0.10305192, ..., -0.28012553,\n",
            "         0.05743694, -0.0707211 ],\n",
            "       [-0.11084257,  0.16311312, -0.16861801, ..., -0.11957826,\n",
            "        -0.03604472,  0.17531936],\n",
            "       [ 0.0084646 ,  0.24313596, -0.27775323, ..., -0.15206444,\n",
            "        -0.15179314,  0.00730101],\n",
            "       ...,\n",
            "       [ 0.26728046,  0.06286851,  0.21403456, ...,  0.2437643 ,\n",
            "        -0.25640583, -0.32110336],\n",
            "       [-0.04953061, -0.08859371,  0.14413138, ...,  0.13930996,\n",
            "        -0.02036382,  0.22736724],\n",
            "       [-0.0942608 ,  0.06062603, -0.23690169, ...,  0.04809525,\n",
            "         0.22633468, -0.2076095 ]], dtype=float32), array([-0.00440403,  0.03164642,  0.01152627, -0.0026322 , -0.01235846,\n",
            "        0.0105974 , -0.01950707,  0.00498641, -0.02711775,  0.00694057],\n",
            "      dtype=float32)]\n"
          ],
          "name": "stdout"
        }
      ]
    }
  ]
}