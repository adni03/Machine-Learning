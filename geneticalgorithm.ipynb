{
 "cells": [
  {
   "cell_type": "code",
   "execution_count": 1,
   "metadata": {},
   "outputs": [],
   "source": [
    "import numpy as np"
   ]
  },
  {
   "cell_type": "markdown",
   "metadata": {},
   "source": [
    "### Number of the weights we are looking to optimize."
   ]
  },
  {
   "cell_type": "code",
   "execution_count": 15,
   "metadata": {},
   "outputs": [],
   "source": [
    "num_weights = 3"
   ]
  },
  {
   "cell_type": "markdown",
   "metadata": {},
   "source": [
    "### Input and Output"
   ]
  },
  {
   "cell_type": "code",
   "execution_count": 63,
   "metadata": {},
   "outputs": [],
   "source": [
    "X=[[0,0,0],[0,0,1],[0,1,0],[0,1,1],[1,0,0],[1,0,1],[1,1,0],[1,1,1]]\n",
    "Y=[0,0,0,0,0,0,1,1]\n",
    "X=np.array(X)\n",
    "Y=np.array(Y)"
   ]
  },
  {
   "cell_type": "markdown",
   "metadata": {},
   "source": [
    "### Defining the population size.\n",
    "### Creating the initial population."
   ]
  },
  {
   "cell_type": "code",
   "execution_count": 64,
   "metadata": {},
   "outputs": [],
   "source": [
    "import numpy\n",
    "sol_per_pop = 8\n",
    "# Defining the population size.\n",
    "\n",
    "pop_size = (sol_per_pop,num_weights) # The population will have sol_per_pop chromosome where each chromosome has num_weights genes.\n",
    "\n",
    "#Creating the initial population.\n",
    "\n",
    "new_population = numpy.random.uniform(low=-4.0, high=4.0, size=pop_size)"
   ]
  },
  {
   "cell_type": "markdown",
   "metadata": {},
   "source": [
    "### Calculating the fitness value of each solution in the current population.\n",
    "### Fitness here indicates the error produced by each member in population"
   ]
  },
  {
   "cell_type": "code",
   "execution_count": 65,
   "metadata": {},
   "outputs": [],
   "source": [
    "def cal_pop_fitness(pop):\n",
    "     # Calculating the fitness value of each solution in the current population.\n",
    "     # The fitness function calculates the sum of products between each input and its corresponding weight.\n",
    "    fitness=np.zeros(len(pop))\n",
    "    for i in range(len(pop)):\n",
    "        err=0\n",
    "        for j in range(len(X)):\n",
    "            err += np.square(np.dot(X[j],pop[i])-Y[j])\n",
    "        err/=len(X)\n",
    "        fitness[i]=err\n",
    "    print(\"Fitness values for each member in the current population\")\n",
    "    print(fitness)\n",
    "    return fitness"
   ]
  },
  {
   "cell_type": "markdown",
   "metadata": {},
   "source": [
    "### Selecting the best individuals in the current generation as parents for producing the offspring of the next generation"
   ]
  },
  {
   "cell_type": "code",
   "execution_count": 67,
   "metadata": {},
   "outputs": [],
   "source": [
    "def select_mating_pool(pop, fitness, num_parents):\n",
    "\n",
    "    # Selecting the best individuals in the current generation as parents for producing the offspring of the next generation.\n",
    "\n",
    "    parents = numpy.empty((num_parents, pop.shape[1]))\n",
    "    parentsidx=[]\n",
    "    for parent_num in range(num_parents):\n",
    "\n",
    "        max_fitness_idx = np.argmin(fitness)\n",
    "        parentsidx.append(max_fitness_idx)\n",
    "\n",
    "#         max_fitness_idx = max_fitness_idx[0][0]\n",
    "\n",
    "        parents[parent_num, :] = pop[max_fitness_idx, :]\n",
    "\n",
    "        fitness[max_fitness_idx] = 99999999999\n",
    "    print(\"Top 4 members selected for crossover with indexes with min error values\")\n",
    "    print(parentsidx)\n",
    "\n",
    "    return parents"
   ]
  },
  {
   "cell_type": "markdown",
   "metadata": {},
   "source": [
    "# Crossover"
   ]
  },
  {
   "cell_type": "code",
   "execution_count": 68,
   "metadata": {},
   "outputs": [],
   "source": [
    "def crossover(parents, offspring_size):\n",
    "    offspring = numpy.empty(offspring_size)\n",
    "    # The point at which crossover takes place between two parents. Usually, it is at the center.\n",
    "    crossover_point = numpy.uint8(offspring_size[1]/2)\n",
    "\n",
    "    for k in range(offspring_size[0]):\n",
    "        # Index of the first parent to mate.\n",
    "        parent1_idx = k%parents.shape[0]\n",
    "        # Index of the second parent to mate.\n",
    "        parent2_idx = (k+1)%parents.shape[0]\n",
    "        # The new offspring will have its first half of its genes taken from the first parent.\n",
    "        offspring[k, 0:crossover_point] = parents[parent1_idx, 0:crossover_point]\n",
    "        # The new offspring will have its second half of its genes taken from the second parent.\n",
    "        offspring[k, crossover_point:] = parents[parent2_idx, crossover_point:]\n",
    "#         print(offspring)\n",
    "        return offspring"
   ]
  },
  {
   "cell_type": "markdown",
   "metadata": {},
   "source": [
    "# Mutation"
   ]
  },
  {
   "cell_type": "code",
   "execution_count": 69,
   "metadata": {},
   "outputs": [],
   "source": [
    "def mutation(offspring_crossover):\n",
    "\n",
    "    # Mutation changes a single gene in each offspring randomly.\n",
    "\n",
    "    for idx in range(offspring_crossover.shape[0]):\n",
    "\n",
    "        # The random value to be added to the gene.\n",
    "\n",
    "        random_value = numpy.random.uniform(-1.0, 1.0, 1)\n",
    "\n",
    "        rnd=np.random.randint(offspring_crossover.shape[1])\n",
    "        offspring_crossover[idx, rnd] = offspring_crossover[idx, rnd] + random_value\n",
    "    print(\"4 new offspring generated after mutation\")\n",
    "    print(offspring_crossover)\n",
    "    return offspring_crossover"
   ]
  },
  {
   "cell_type": "markdown",
   "metadata": {},
   "source": [
    "# Repeat the below steps until the current population meets reaches desired goal\n",
    "\n",
    "### 1)Population\n",
    "### 2)Fitness calculation\n",
    "### 3)Select best member for crossover\n",
    "### 4)Crossover\n",
    "### 5)Mutation\n",
    "### 6)Offspring"
   ]
  },
  {
   "cell_type": "code",
   "execution_count": 70,
   "metadata": {},
   "outputs": [
    {
     "name": "stdout",
     "output_type": "stream",
     "text": [
      "Fitness values for each member in the current population\n",
      "[ 8.31301093  3.33728678 23.60323247 14.21423059  3.0839614  10.69761682\n",
      " 30.13585046  9.41281009]\n",
      "Top 4 members selected for crossover with indexes\n",
      "[4, 1, 0, 7]\n",
      "4 new offspring generated after mutation\n",
      "[[-1.96826660e+000  2.53496031e+000  1.00941357e+000]\n",
      " [ 3.40442145e-001  8.01097889e-307  5.13280910e-001]\n",
      " [ 6.03660751e-001 -5.00655365e-001  4.01851344e-001]\n",
      " [-6.81356303e-001 -5.00655365e-001  4.01851344e-001]]\n",
      "Updated population\n",
      "[[-1.11986745e+000  6.35093228e-001 -1.62406449e+000]\n",
      " [-2.18264693e+000  2.53496031e+000  1.00941357e+000]\n",
      " [-3.73570080e+000  3.26234730e+000 -1.37834487e+000]\n",
      " [ 3.39152671e+000  1.75125435e+000  5.67983810e-001]\n",
      " [-1.96826660e+000  2.53496031e+000  1.00941357e+000]\n",
      " [ 3.40442145e-001  8.01097889e-307  5.13280910e-001]\n",
      " [ 6.03660751e-001 -5.00655365e-001  4.01851344e-001]\n",
      " [-6.81356303e-001 -5.00655365e-001  4.01851344e-001]]\n",
      "========================================================================================================\n",
      "Fitness values for each member in the current population\n",
      "[3.0839614  3.33728678 8.31301093 9.41281009 3.16508153 0.228509\n",
      " 0.3558912  1.11180221]\n",
      "Top 4 members selected for crossover with indexes\n",
      "[5, 6, 7, 0]\n",
      "4 new offspring generated after mutation\n",
      "[[ 0.34044215 -0.50065536 -0.15918294]\n",
      " [-2.86483946  2.53496031  1.00941357]\n",
      " [-3.7357008   2.83833781 -1.37834487]\n",
      " [ 3.39152671  1.98972496  0.56798381]]\n",
      "Updated population\n",
      "[[ 3.40442145e-001  8.01097889e-307  5.13280910e-001]\n",
      " [ 6.03660751e-001 -5.00655365e-001  4.01851344e-001]\n",
      " [-6.81356303e-001 -5.00655365e-001  4.01851344e-001]\n",
      " [-1.11986745e+000  6.35093228e-001 -1.62406449e+000]\n",
      " [ 3.40442145e-001 -5.00655365e-001 -1.59182939e-001]\n",
      " [-2.86483946e+000  2.53496031e+000  1.00941357e+000]\n",
      " [-3.73570080e+000  2.83833781e+000 -1.37834487e+000]\n",
      " [ 3.39152671e+000  1.98972496e+000  5.67983810e-001]]\n",
      "========================================================================================================\n",
      "Fitness values for each member in the current population\n",
      "[ 0.228509    0.3558912   1.11180221  3.0839614   0.49337979  4.19108911\n",
      "  8.31584343 10.21174505]\n",
      "Top 4 members selected for crossover with indexes\n",
      "[0, 1, 4, 2]\n",
      "4 new offspring generated after mutation\n",
      "[[ 0.70402674 -0.50065536  0.40185134]\n",
      " [ 0.60366075 -0.50065536  0.76915917]\n",
      " [-0.6813563  -0.96285581  0.40185134]\n",
      " [-1.11986745  0.63509323 -0.65970776]]\n",
      "Updated population\n",
      "[[ 3.40442145e-001  8.01097889e-307  5.13280910e-001]\n",
      " [ 6.03660751e-001 -5.00655365e-001  4.01851344e-001]\n",
      " [ 3.40442145e-001 -5.00655365e-001 -1.59182939e-001]\n",
      " [-6.81356303e-001 -5.00655365e-001  4.01851344e-001]\n",
      " [ 7.04026736e-001 -5.00655365e-001  4.01851344e-001]\n",
      " [ 6.03660751e-001 -5.00655365e-001  7.69159169e-001]\n",
      " [-6.81356303e-001 -9.62855808e-001  4.01851344e-001]\n",
      " [-1.11986745e+000  6.35093228e-001 -6.59707762e-001]]\n",
      "========================================================================================================\n",
      "Fitness values for each member in the current population\n",
      "[0.228509   0.3558912  0.49337979 1.11180221 0.3663736  0.49804225\n",
      " 1.74571384 1.50793901]\n",
      "Top 4 members selected for crossover with indexes\n",
      "[0, 1, 4, 2]\n",
      "4 new offspring generated after mutation\n",
      "[[-0.33971339 -0.50065536  0.40185134]\n",
      " [ 0.60366075 -0.50065536 -0.3774555 ]\n",
      " [ 0.34044215 -0.50065536  0.57967782]\n",
      " [-1.51805335 -0.50065536  0.40185134]]\n",
      "Updated population\n",
      "[[ 3.40442145e-001  8.01097889e-307  5.13280910e-001]\n",
      " [ 6.03660751e-001 -5.00655365e-001  4.01851344e-001]\n",
      " [ 7.04026736e-001 -5.00655365e-001  4.01851344e-001]\n",
      " [ 3.40442145e-001 -5.00655365e-001 -1.59182939e-001]\n",
      " [-3.39713395e-001 -5.00655365e-001  4.01851344e-001]\n",
      " [ 6.03660751e-001 -5.00655365e-001 -3.77455501e-001]\n",
      " [ 3.40442145e-001 -5.00655365e-001  5.79677818e-001]\n",
      " [-1.51805335e+000 -5.00655365e-001  4.01851344e-001]]\n",
      "========================================================================================================\n",
      "Fitness values for each member in the current population\n",
      "[0.228509   0.3558912  0.3663736  0.49337979 0.7496823  0.50107559\n",
      " 0.40482055 2.49160502]\n",
      "Top 4 members selected for crossover with indexes\n",
      "[0, 1, 2, 6]\n",
      "4 new offspring generated after mutation\n",
      "[[ 0.66032657 -0.50065536  0.40185134]\n",
      " [-0.24281397 -0.50065536  0.40185134]\n",
      " [ 0.56225914 -0.50065536  0.40185134]\n",
      " [-0.1002543  -0.50065536 -0.15918294]]\n",
      "Updated population\n",
      "[[ 3.40442145e-001  8.01097889e-307  5.13280910e-001]\n",
      " [ 6.03660751e-001 -5.00655365e-001  4.01851344e-001]\n",
      " [ 7.04026736e-001 -5.00655365e-001  4.01851344e-001]\n",
      " [ 3.40442145e-001 -5.00655365e-001  5.79677818e-001]\n",
      " [ 6.60326567e-001 -5.00655365e-001  4.01851344e-001]\n",
      " [-2.42813973e-001 -5.00655365e-001  4.01851344e-001]\n",
      " [ 5.62259135e-001 -5.00655365e-001  4.01851344e-001]\n",
      " [-1.00254305e-001 -5.00655365e-001 -1.59182939e-001]]\n",
      "========================================================================================================\n"
     ]
    }
   ],
   "source": [
    "num_generations = 5\n",
    "\n",
    "num_parents_mating = 4\n",
    "for generation in range(5):\n",
    "    print(\"Generation\",generation)\n",
    "     # Measuring the fitness of each chromosome in the population.\n",
    "    fitness = cal_pop_fitness(new_population)\n",
    "    \n",
    "    # Selecting the best parents in the population for mating.\n",
    "    parents = select_mating_pool(new_population, fitness, num_parents_mating)\n",
    "\n",
    "    # Generating next generation using crossover.\n",
    "    offspring_crossover = crossover(parents, offspring_size=(pop_size[0]-parents.shape[0], num_weights))\n",
    "\n",
    "    # Adding some variations to the offsrping using mutation.\n",
    "    offspring_mutation = mutation(offspring_crossover)\n",
    "    \n",
    "    # Creating the new population based on the parents and offspring.\n",
    "    new_population[0:parents.shape[0], :] = parents\n",
    "    new_population[parents.shape[0]:, :] = offspring_mutation\n",
    "    print(\"Updated population\")\n",
    "    print(new_population)\n",
    "    print('========================================================================================================')"
   ]
  },
  {
   "cell_type": "code",
   "execution_count": 76,
   "metadata": {},
   "outputs": [
    {
     "name": "stdout",
     "output_type": "stream",
     "text": [
      "Final population after 5 generations\n",
      "[[ 3.40442145e-001  8.01097889e-307  5.13280910e-001]\n",
      " [ 6.03660751e-001 -5.00655365e-001  4.01851344e-001]\n",
      " [ 7.04026736e-001 -5.00655365e-001  4.01851344e-001]\n",
      " [ 3.40442145e-001 -5.00655365e-001  5.79677818e-001]\n",
      " [ 6.60326567e-001 -5.00655365e-001  4.01851344e-001]\n",
      " [-2.42813973e-001 -5.00655365e-001  4.01851344e-001]\n",
      " [ 5.62259135e-001 -5.00655365e-001  4.01851344e-001]\n",
      " [-1.00254305e-001 -5.00655365e-001 -1.59182939e-001]]\n",
      "Fitness values for each member in the current population\n",
      "[0.228509   0.3558912  0.3663736  0.40482055 0.36057132 0.66822228\n",
      " 0.35450185 0.80619724]\n"
     ]
    }
   ],
   "source": [
    "print(\"Final population after 5 generations\")\n",
    "print(new_population)\n",
    "scores=cal_pop_fitness(new_population)"
   ]
  },
  {
   "cell_type": "code",
   "execution_count": 79,
   "metadata": {},
   "outputs": [
    {
     "name": "stdout",
     "output_type": "stream",
     "text": [
      "Best member\n",
      "[ 0.34044215 -0.50065536  0.57967782]\n",
      "score = 0.40482054788919647\n"
     ]
    }
   ],
   "source": [
    "print(\"Best member of the final population is final weight\")\n",
    "print(new_population[np.argmin(fitness)])\n",
    "print(\"score =\",scores[np.argmin(fitness)])"
   ]
  },
  {
   "cell_type": "code",
   "execution_count": 81,
   "metadata": {},
   "outputs": [
    {
     "name": "stdout",
     "output_type": "stream",
     "text": [
      "Final weights\n",
      "[ 0.34044215 -0.50065536  0.57967782]\n"
     ]
    }
   ],
   "source": [
    "print(\"Final weights\")\n",
    "weights=new_population[np.argmin(fitness)]\n",
    "print(weights)"
   ]
  },
  {
   "cell_type": "code",
   "execution_count": 87,
   "metadata": {},
   "outputs": [
    {
     "name": "stdout",
     "output_type": "stream",
     "text": [
      "Input [0 0 0]\n",
      "Actual 0\n",
      "Predicted 0.0\n",
      "Input [0 0 1]\n",
      "Actual 0\n",
      "Predicted 0.5796778181608329\n",
      "Input [0 1 0]\n",
      "Actual 0\n",
      "Predicted -0.5006553646525063\n",
      "Input [0 1 1]\n",
      "Actual 0\n",
      "Predicted 0.0790224535083266\n",
      "Input [1 0 0]\n",
      "Actual 0\n",
      "Predicted 0.3404421452173825\n",
      "Input [1 0 1]\n",
      "Actual 0\n",
      "Predicted 0.9201199633782153\n",
      "Input [1 1 0]\n",
      "Actual 1\n",
      "Predicted -0.1602132194351238\n",
      "Input [1 1 1]\n",
      "Actual 1\n",
      "Predicted 0.41946459872570907\n"
     ]
    }
   ],
   "source": [
    "for i in range(len(X)):\n",
    "    print(\"Input\",X[i])\n",
    "    print(\"Actual\",Y[i])\n",
    "    print(\"Predicted\",np.dot(X[i],weights))\n",
    "    "
   ]
  },
  {
   "cell_type": "code",
   "execution_count": null,
   "metadata": {},
   "outputs": [],
   "source": []
  }
 ],
 "metadata": {
  "kernelspec": {
   "display_name": "Python 3",
   "language": "python",
   "name": "python3"
  },
  "language_info": {
   "codemirror_mode": {
    "name": "ipython",
    "version": 3
   },
   "file_extension": ".py",
   "mimetype": "text/x-python",
   "name": "python",
   "nbconvert_exporter": "python",
   "pygments_lexer": "ipython3",
   "version": "3.7.4"
  }
 },
 "nbformat": 4,
 "nbformat_minor": 2
}
