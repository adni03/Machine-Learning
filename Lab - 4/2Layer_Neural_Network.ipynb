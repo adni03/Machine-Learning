{
  "nbformat": 4,
  "nbformat_minor": 0,
  "metadata": {
    "colab": {
      "name": "2Layer_Neural_Network.ipynb",
      "provenance": [],
      "collapsed_sections": []
    },
    "kernelspec": {
      "name": "python3",
      "display_name": "Python 3"
    }
  },
  "cells": [
    {
      "cell_type": "markdown",
      "metadata": {
        "id": "-aeO1mswkMJ-"
      },
      "source": [
        "# **Feed Forward Neural Networks - ML Lab assignment**\n",
        "\n",
        "---\n",
        "\n",
        "Name: Sri Sai Vijaya Aditya Nittala\\\n",
        "Roll No.: 177163\\\n",
        "Section: A\n",
        "\n",
        "---\n",
        "\n",
        "Code includes implementation of :\n",
        "\n",
        "\n",
        "*   XOR gate : Adaline Backpropagation\n",
        "*   Hand-written digits classification\n",
        "*   Hand-written character classification"
      ]
    },
    {
      "cell_type": "code",
      "metadata": {
        "id": "PTxAJNf6j4i1"
      },
      "source": [
        "import pandas as pd\n",
        "import numpy as np\n",
        "from sklearn.model_selection import train_test_split"
      ],
      "execution_count": null,
      "outputs": []
    },
    {
      "cell_type": "markdown",
      "metadata": {
        "id": "k0FtqHe-oFO5"
      },
      "source": [
        "# **Functions required for Neural Networks**\n",
        "\n",
        "---\n",
        "\n",
        "\n"
      ]
    },
    {
      "cell_type": "markdown",
      "metadata": {
        "id": "jL33FmBuoeOG"
      },
      "source": [
        "## **Initializing parameters for all layers**\n",
        "\n",
        "---\n",
        "\n",
        "     dim( W[l] ) = ( n[l], n[l-1] )\n",
        "      dim( b[l] ) = ( 1, n[l] )\n",
        "      where, \n",
        "        l = current layer\n",
        "        W[l] = weights of current layer\n",
        "        b[l] = bias for the current layer\n",
        "        n[l] = number of nodes in current layer"
      ]
    },
    {
      "cell_type": "code",
      "metadata": {
        "id": "Losxpqc-obEp"
      },
      "source": [
        "def initialize_parameters(layer_dims):\n",
        "  parameters = {}\n",
        "  L = len(layer_dims)\n",
        "  \n",
        "  for i in range(1, L):\n",
        "    parameters['W' + str(i)] = np.random.randn(layer_dims[i], layer_dims[i-1])*0.01\n",
        "    parameters['b' + str(i)] = np.zeros((1, layer_dims[i])) + 0.01\n",
        "\n",
        "  return parameters"
      ],
      "execution_count": null,
      "outputs": []
    },
    {
      "cell_type": "markdown",
      "metadata": {
        "id": "z0fFvIVPpCsu"
      },
      "source": [
        "## **Forward propagation**\n",
        "\n",
        "---\n",
        "\n",
        "*   Activation function: sigmoid\n",
        "\n",
        "Forward propagation equations:\n",
        "        \n",
        "        Z[l] = W[l].X + b[l] \n",
        "        A[l] = g( Z[l] )\n",
        "        Where,\n",
        "            Z = weighted sum of input and bias\n",
        "            A = activations of particular layer\n",
        "            l = layer\n"
      ]
    },
    {
      "cell_type": "markdown",
      "metadata": {
        "id": "m3zV5duPqb12"
      },
      "source": [
        "## **Backward propagation**\n",
        "\n",
        "---\n",
        "\n",
        "Backward propagation equations: \n",
        "\n",
        "          Err(j)(output layer) = O(j)(1 - O(j))(T(j) - O(j))\n",
        "          Err(j)(hidden layer) = O(j)(1 - O(j))(SUM(Err(k)W(j,k)\n",
        "          del(W(i,j)) = (l)Err(j)O(i)\n",
        "          del(b(j)) = (l)Err(j)\n",
        "          Where,\n",
        "                O: Output of a node\n",
        "                W: weight\n",
        "                b: bias\n",
        "                i, j, k: nodes\n"
      ]
    },
    {
      "cell_type": "markdown",
      "metadata": {
        "id": "By4OJZVq6wQO"
      },
      "source": [
        "## **Implementation**\n",
        "\n",
        "---\n",
        "\n"
      ]
    },
    {
      "cell_type": "code",
      "metadata": {
        "id": "O2MWMwsbpUy7"
      },
      "source": [
        "def sigmoid(X):\n",
        "  return 1/(1 + np.exp(-1*X))"
      ],
      "execution_count": null,
      "outputs": []
    },
    {
      "cell_type": "code",
      "metadata": {
        "id": "VKCqms9ezk1c"
      },
      "source": [
        "def computation(X, y, parameters, eta, num_iters, batch = False):\n",
        "  W1_storage = []\n",
        "  W2_storage = []\n",
        "  b1_storage = []\n",
        "  b2_storage = []\n",
        "  m = X.shape[0]    # number of training examples\n",
        "\n",
        "  for itr in range(num_iters):\n",
        "    # iterate for each training example\n",
        "    for i in range(m):\n",
        "\n",
        "      # forward pass for each example\n",
        "      hidden_output = sigmoid(np.dot(X[i], parameters[\"W1\"].T) + parameters[\"b1\"])\n",
        "      final_output = sigmoid(np.dot(hidden_output, parameters[\"W2\"].T) + parameters[\"b2\"])\n",
        "\n",
        "      # backward pass for each example\n",
        "      dOutput = final_output*(1 - final_output)*(y[i] - final_output)\n",
        "      dHidden = hidden_output*(1 - hidden_output)*np.dot(dOutput, parameters[\"W2\"])\n",
        "\n",
        "      # weight changes\n",
        "      dW2 = eta*dOutput.reshape(-1, 1)*hidden_output\n",
        "      dW1 = eta*dHidden.reshape(-1, 1)*X[i]\n",
        "\n",
        "      # bias changes\n",
        "      db2 = eta*dOutput\n",
        "      db1 = eta*dHidden\n",
        "\n",
        "      if batch == True:\n",
        "        W1_storage.append(dW1)\n",
        "        W2_storage.append(dW2)\n",
        "        b1_storage.append(db1)\n",
        "        b2_storage.append(db2)\n",
        "      else:\n",
        "        parameters[\"W2\"] += dW2\n",
        "        parameters[\"W1\"] += dW1\n",
        "        parameters[\"b2\"] += db2\n",
        "        parameters[\"b1\"] += db1\n",
        "      \n",
        "    # for batch update, parameters updated here\n",
        "    if batch == True:\n",
        "      parameters[\"W2\"] += sum(W2_storage)\n",
        "      parameters[\"W1\"] += sum(W1_storage)\n",
        "      parameters[\"b2\"] += sum(b2_storage)\n",
        "      parameters[\"b1\"] += sum(b1_storage)\n",
        "  \n",
        "  parameters[\"W2\"] = np.squeeze(parameters[\"W2\"])\n",
        "  parameters[\"W1\"] = np.squeeze(parameters[\"W1\"])\n",
        "  parameters[\"b2\"] = np.squeeze(parameters[\"b2\"])\n",
        "  parameters[\"b1\"] = np.squeeze(parameters[\"b1\"])\n",
        "\n",
        "  return parameters  \n",
        "  "
      ],
      "execution_count": null,
      "outputs": []
    },
    {
      "cell_type": "markdown",
      "metadata": {
        "id": "kW9iVYNqwcEk"
      },
      "source": [
        "## **Training and testing model**\n",
        "\n",
        "---\n",
        "\n",
        "\n",
        "\n"
      ]
    },
    {
      "cell_type": "code",
      "metadata": {
        "id": "IxlWIGeFwfmo"
      },
      "source": [
        "def train(X, y, parameters, alpha, num_iters, batch=True):\n",
        "  parameters = computation(X, y, parameters, alpha, num_iters, batch)\n",
        "  return parameters"
      ],
      "execution_count": null,
      "outputs": []
    },
    {
      "cell_type": "code",
      "metadata": {
        "id": "74qC-17OwpFx"
      },
      "source": [
        "def test(X, y_test, parameters):\n",
        "  y_pred = []\n",
        "  counter = 0\n",
        "\n",
        "  for i in range(X.shape[0]):\n",
        "    hidden_output = sigmoid(np.dot(X[i], parameters[\"W1\"].T) + parameters[\"b1\"])\n",
        "    final_output = sigmoid(np.dot(hidden_output, parameters[\"W2\"].T) + parameters[\"b2\"])\n",
        "    y_pred.append(final_output)\n",
        "\n",
        "\n",
        "  y_pred = np.asarray(y_pred)\n",
        "  #print(y_pred)\n",
        "  y_pred[y_pred < 0.5] = 0\n",
        "  y_pred[y_pred >= 0.5] = 1\n",
        "  #print(y_pred)\n",
        "  #print(y_test)\n",
        "\n",
        "  accuracy = np.mean(np.asarray(y_pred) == y_test)\n",
        "  print(\"Accuracy : {} %\".format(accuracy*100))"
      ],
      "execution_count": null,
      "outputs": []
    },
    {
      "cell_type": "markdown",
      "metadata": {
        "id": "QRCIZn0BnQ4q"
      },
      "source": [
        "# **Hand-written digits: Loading + Formatting + Training + Testing**"
      ]
    },
    {
      "cell_type": "code",
      "metadata": {
        "id": "3UjJg1VGnYy9"
      },
      "source": [
        "def modify_label(y, n):\n",
        "  new_y = []\n",
        "  for i in range(y.shape[0]):\n",
        "    row = np.zeros(n)\n",
        "    row[y[i, 0]] = 1.\n",
        "    new_y.append(row)\n",
        "\n",
        "  return np.asarray(new_y)"
      ],
      "execution_count": null,
      "outputs": []
    },
    {
      "cell_type": "code",
      "metadata": {
        "id": "m74WcIhJmvle",
        "colab": {
          "base_uri": "https://localhost:8080/"
        },
        "outputId": "458c5b80-1684-47db-8d23-99382ac2db3c"
      },
      "source": [
        "data = pd.read_csv(\"/content/sample_data/mnist_train_small.csv\", header=None)\n",
        "data = data.to_numpy()\n",
        "\n",
        "x_train = data[:1000, 1:]\n",
        "y_train = data[:1000, 0]\n",
        "y_train = np.expand_dims(y_train, axis=1)\n",
        "y_train = modify_label(y_train, 10)\n",
        "x_train = x_train / 255.0\n",
        "\n",
        "print(\"Features : \\n{}\".format(x_train.shape))\n",
        "print(\"Labels : \\n{}\".format(y_train.shape))\n",
        "print(\"\\nDataset description : \")\n",
        "print(\"Digits : 0-9\")\n",
        "print(\"Image size : 28x28 = 784 pixels\")\n",
        "print(\"Pixel values range : 0-255\")\n",
        "print(\"Total number of images : {}\".format(x_train.shape[0]))"
      ],
      "execution_count": null,
      "outputs": [
        {
          "output_type": "stream",
          "text": [
            "Features : \n",
            "(1000, 784)\n",
            "Labels : \n",
            "(1000, 10)\n",
            "\n",
            "Dataset description : \n",
            "Digits : 0-9\n",
            "Image size : 28x28 = 784 pixels\n",
            "Pixel values range : 0-255\n",
            "Total number of images : 1000\n"
          ],
          "name": "stdout"
        }
      ]
    },
    {
      "cell_type": "code",
      "metadata": {
        "id": "_tBeot--orHB",
        "colab": {
          "base_uri": "https://localhost:8080/"
        },
        "outputId": "aac19f6d-62d2-498f-cf7e-190df19a62ae"
      },
      "source": [
        "parameters = initialize_parameters([784, 50, 10])\n",
        "print(\"Length of parameters dictionary : {}\".format(len(parameters)))"
      ],
      "execution_count": null,
      "outputs": [
        {
          "output_type": "stream",
          "text": [
            "Length of parameters dictionary : 4\n"
          ],
          "name": "stdout"
        }
      ]
    },
    {
      "cell_type": "code",
      "metadata": {
        "id": "xlWEgqOJwmn2",
        "colab": {
          "base_uri": "https://localhost:8080/"
        },
        "outputId": "2e102d07-c598-427b-b8cb-35661035302f"
      },
      "source": [
        "print(\"Training model...\")\n",
        "parameters = train(x_train, y_train, parameters, 0.01, 10)"
      ],
      "execution_count": null,
      "outputs": [
        {
          "output_type": "stream",
          "text": [
            "Training model...\n"
          ],
          "name": "stdout"
        }
      ]
    },
    {
      "cell_type": "code",
      "metadata": {
        "id": "NbvK9Hc-wreh",
        "colab": {
          "base_uri": "https://localhost:8080/"
        },
        "outputId": "7ca97371-3487-44af-ae10-1675ba090608"
      },
      "source": [
        "print(\"Testing model..\")\n",
        "data_2 = pd.read_csv(\"/content/sample_data/mnist_test.csv\", header=None)\n",
        "data_2 = data_2.to_numpy()\n",
        "\n",
        "x_test = data_2[:100, 1:]\n",
        "y_test = data_2[:100, 0]\n",
        "y_test = np.expand_dims(y_test, axis=1)\n",
        "y_test = modify_label(y_test, 10)\n",
        "x_test = x_test / 255.0\n",
        "test(x_test, y_test, parameters)"
      ],
      "execution_count": null,
      "outputs": [
        {
          "output_type": "stream",
          "text": [
            "Testing model..\n",
            "Accuracy : 90.0 %\n"
          ],
          "name": "stdout"
        }
      ]
    },
    {
      "cell_type": "markdown",
      "metadata": {
        "id": "5zvGU53BdQVM"
      },
      "source": [
        "# **Character recognition: Loading + Formatting + Training + Testing**"
      ]
    },
    {
      "cell_type": "code",
      "metadata": {
        "id": "YXA0NmhlKn4M",
        "colab": {
          "base_uri": "https://localhost:8080/"
        },
        "outputId": "9f9e4448-4b7a-4385-f21f-9bf576c73e3f"
      },
      "source": [
        "data_3 = pd.read_csv(\"/content/drive/My Drive/A_Z Handwritten Data.csv\", header=None)\n",
        "print(data_3.describe())\n",
        "\n",
        "data_3 = data_3.to_numpy()\n",
        "X = data_3[:3000, 1:]/255.0\n",
        "y = data_3[:3000, 0]\n",
        "y = np.expand_dims(y, axis=1)\n",
        "y = modify_label(y, 26)\n",
        "x_train, x_test, y_train, y_test = train_test_split(X, y, test_size=0.2, random_state=42)\n",
        "\n",
        "print(\"Features : \\n{}\".format(x_train.shape))\n",
        "print(\"Labels : \\n{}\".format(y_train.shape))\n",
        "print(\"\\nDataset description : \")\n",
        "print(\"Alphabets : A-Z\")\n",
        "print(\"Image size : 28x28 = 784 pixels\")\n",
        "print(\"Pixel values range : 0-255\")\n",
        "print(\"Total number of images : {}\".format(x_train.shape[0]))\n",
        "print()\n",
        "print(\"x_train shape : {}\".format(x_train.shape))\n",
        "print(\"x_test shape : {}\".format(x_test.shape))\n",
        "print(\"y_train shape : {}\".format(y_train.shape))\n",
        "print(\"y_test shape : {}\".format(y_test.shape))    "
      ],
      "execution_count": null,
      "outputs": [
        {
          "output_type": "stream",
          "text": [
            "                 0         1    ...            783            784\n",
            "count  372451.000000  372451.0  ...  372451.000000  372451.000000\n",
            "mean       13.523454       0.0  ...       0.000239       0.000011\n",
            "std         6.740852       0.0  ...       0.134852       0.006554\n",
            "min         0.000000       0.0  ...       0.000000       0.000000\n",
            "25%        10.000000       0.0  ...       0.000000       0.000000\n",
            "50%        14.000000       0.0  ...       0.000000       0.000000\n",
            "75%        18.000000       0.0  ...       0.000000       0.000000\n",
            "max        25.000000       0.0  ...      82.000000       4.000000\n",
            "\n",
            "[8 rows x 785 columns]\n",
            "Features : \n",
            "(2400, 784)\n",
            "Labels : \n",
            "(2400, 26)\n",
            "\n",
            "Dataset description : \n",
            "Alphabets : A-Z\n",
            "Image size : 28x28 = 784 pixels\n",
            "Pixel values range : 0-255\n",
            "Total number of images : 2400\n",
            "\n",
            "x_train shape : (2400, 784)\n",
            "x_test shape : (600, 784)\n",
            "y_train shape : (2400, 26)\n",
            "y_test shape : (600, 26)\n"
          ],
          "name": "stdout"
        }
      ]
    },
    {
      "cell_type": "code",
      "metadata": {
        "id": "F7zfB6lrUQXt",
        "colab": {
          "base_uri": "https://localhost:8080/"
        },
        "outputId": "33aae4e1-45b7-4ad5-c89d-f0fc13554f38"
      },
      "source": [
        "parameters = initialize_parameters([784, 50, 26])\n",
        "print(\"Length of parameters dictionary : {}\".format(len(parameters)))"
      ],
      "execution_count": null,
      "outputs": [
        {
          "output_type": "stream",
          "text": [
            "Length of parameters dictionary : 4\n"
          ],
          "name": "stdout"
        }
      ]
    },
    {
      "cell_type": "code",
      "metadata": {
        "id": "3hiSi6iOUYjd",
        "colab": {
          "base_uri": "https://localhost:8080/"
        },
        "outputId": "8dac09e6-7764-4a2c-afe6-050be423022d"
      },
      "source": [
        "print(\"Training model...\")\n",
        "parameters = train(x_train, y_train, parameters, 0.01, 10)"
      ],
      "execution_count": null,
      "outputs": [
        {
          "output_type": "stream",
          "text": [
            "Training model...\n"
          ],
          "name": "stdout"
        }
      ]
    },
    {
      "cell_type": "code",
      "metadata": {
        "id": "7Lc-SdBcUaJ6",
        "colab": {
          "base_uri": "https://localhost:8080/"
        },
        "outputId": "ee79543d-97eb-4b97-fc7c-58eb0bb2b89d"
      },
      "source": [
        "print(\"Testing model...\")\n",
        "test(x_test, y_test, parameters)"
      ],
      "execution_count": null,
      "outputs": [
        {
          "output_type": "stream",
          "text": [
            "Testing model...\n",
            "Accuracy : 100.0 %\n"
          ],
          "name": "stdout"
        }
      ]
    },
    {
      "cell_type": "markdown",
      "metadata": {
        "id": "hcSUgePMeocL"
      },
      "source": [
        "# **XOR: Loading + Formatting + Training + Testing**"
      ]
    },
    {
      "cell_type": "code",
      "metadata": {
        "id": "Uyjd3Tipe1mL",
        "colab": {
          "base_uri": "https://localhost:8080/"
        },
        "outputId": "72924cba-cc98-4f0c-ef4d-4652e1f7e064"
      },
      "source": [
        "x_train = np.array([[0.1, 0.1], [0.1, 0.9], [0.9, 0.1], [0.9, 0.9]])\n",
        "x_test = np.array([[0.1, 0.1], [0.1, 0.9], [0.9, 0.1], [0.9, 0.9]])\n",
        "y_train = np.array([[0.1], [0.9], [0.9], [0.1]])\n",
        "y_test = np.array([0, 1, 1, 0])\n",
        "\n",
        "print(\"x_train shape : {}\".format(x_train.shape))\n",
        "print(\"x_test shape : {}\".format(x_test.shape))\n",
        "print(\"y_train shape : {}\".format(y_train.shape))\n",
        "print(\"y_test shape : {}\".format(y_test.shape))            "
      ],
      "execution_count": null,
      "outputs": [
        {
          "output_type": "stream",
          "text": [
            "x_train shape : (4, 2)\n",
            "x_test shape : (4, 2)\n",
            "y_train shape : (4, 1)\n",
            "y_test shape : (4,)\n"
          ],
          "name": "stdout"
        }
      ]
    },
    {
      "cell_type": "markdown",
      "metadata": {
        "id": "E_sbYS45oBg6"
      },
      "source": [
        "## **XOR**\n",
        "\n",
        "---\n",
        "\n"
      ]
    },
    {
      "cell_type": "code",
      "metadata": {
        "id": "y-R95QJtoaJ3",
        "colab": {
          "base_uri": "https://localhost:8080/"
        },
        "outputId": "7d1f842e-0f9c-437c-9b22-55c6827f94dc"
      },
      "source": [
        "parameters = initialize_parameters([2, 2, 1])\n",
        "print(\"Length of parameters dictionary : {}\".format(len(parameters)))"
      ],
      "execution_count": null,
      "outputs": [
        {
          "output_type": "stream",
          "text": [
            "Length of parameters dictionary : 4\n"
          ],
          "name": "stdout"
        }
      ]
    },
    {
      "cell_type": "code",
      "metadata": {
        "id": "dhv2Vn42oLZ_",
        "colab": {
          "base_uri": "https://localhost:8080/"
        },
        "outputId": "0eabfcab-b160-4384-9c4d-e256cd4cf8dc"
      },
      "source": [
        "print(\"Training model...\")\n",
        "parameters = train(x_train, y_train, parameters, 0.1, 4000)\n",
        "print(parameters)"
      ],
      "execution_count": null,
      "outputs": [
        {
          "output_type": "stream",
          "text": [
            "Training model...\n",
            "{'W1': array([[-211.53738831, -211.46129849],\n",
            "       [-143.86872965, -144.01884906]]), 'b1': array([ 38.43477338, -24.88660562]), 'W2': array([-157.40220822,  -89.51941478]), 'b2': array(0.76470495)}\n"
          ],
          "name": "stdout"
        }
      ]
    },
    {
      "cell_type": "code",
      "metadata": {
        "id": "_Rd9-Ro4oQdC",
        "colab": {
          "base_uri": "https://localhost:8080/"
        },
        "outputId": "b401f2f3-f653-4062-9e48-c9e5ba069f17"
      },
      "source": [
        "print(\"Testing model..\")\n",
        "test(x_test, y_test, parameters)"
      ],
      "execution_count": null,
      "outputs": [
        {
          "output_type": "stream",
          "text": [
            "Testing model..\n",
            "Accuracy : 75.0 %\n"
          ],
          "name": "stdout"
        }
      ]
    }
  ]
}