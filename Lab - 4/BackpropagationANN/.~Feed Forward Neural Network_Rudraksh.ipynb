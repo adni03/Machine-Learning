{
 "cells": [
  {
   "cell_type": "markdown",
   "metadata": {},
   "source": [
    "# <center> Assignment 3 - Feed Forward Neural Network\n",
    "###### Author: Rudraksh Kapil - 177154\n",
    "In this notebook the following tasks are accomplished:\n",
    "    1. General definitions and functions for feed forward neural network.\n",
    "    2. Handwritten digit recognition."
   ]
  },
  {
   "cell_type": "code",
   "execution_count": 2,
   "metadata": {},
   "outputs": [],
   "source": [
    "# import statements\n",
    "import numpy as np \n",
    "import pandas as pd \n",
    "import matplotlib.pyplot as plt \n",
    "from tqdm import tqdm"
   ]
  },
  {
   "cell_type": "markdown",
   "metadata": {},
   "source": [
    "### 1. Making Network"
   ]
  },
  {
   "cell_type": "markdown",
   "metadata": {},
   "source": [
    "###### Activation Function\n",
    "We use a sigmoid activation function"
   ]
  },
  {
   "cell_type": "code",
   "execution_count": 3,
   "metadata": {},
   "outputs": [],
   "source": [
    "def sigmoid(x):\n",
    "    return 1 / (1 + np.exp(-x))"
   ]
  },
  {
   "cell_type": "markdown",
   "metadata": {},
   "source": [
    "###### Prediction Function\n",
    "Predicts output given X and weights and returns accuracy"
   ]
  },
  {
   "cell_type": "code",
   "execution_count": 12,
   "metadata": {},
   "outputs": [],
   "source": [
    "# checks accuracy\n",
    "def predict(X, y, w1, w2, verbose=True, bias=True):\n",
    "    y_pred = []\n",
    "    \n",
    "    for x in X:\n",
    "        h = sigmoid(x.dot(w1.T))\n",
    "        if (bias):\n",
    "            temp_h = np.append(np.ones(1), h) # becuase we dont want to add a bias term to h itself\n",
    "        else:\n",
    "            temp_h = h\n",
    "        o = sigmoid(temp_h.dot(w2.T))\n",
    "        y_pred.append(o)\n",
    "        \n",
    "    y_pred = np.asarray(y_pred)\n",
    "    \n",
    "    if (verbose):\n",
    "        print('Predictions before thresholding ');\n",
    "        print(y_pred)\n",
    "        \n",
    "    y_pred[y_pred <  0.5] = 0\n",
    "    y_pred[y_pred >= 0.5] = 1\n",
    "    if (verbose):\n",
    "        print(\"Predictions => \\n\")\n",
    "        print(y_pred)\n",
    "    \n",
    "    accuracy = np.mean(np.asarray(y_pred)==y)\n",
    "    if (verbose):\n",
    "        print(f\"Accuracy => {accuracy*100}\")\n",
    "    return accuracy"
   ]
  },
  {
   "cell_type": "markdown",
   "metadata": {},
   "source": [
    "###### Backprop Function\n",
    "We use a two layer network with variable number of input, hidden, and output units."
   ]
  },
  {
   "cell_type": "code",
   "execution_count": 14,
   "metadata": {},
   "outputs": [],
   "source": [
    "def backprop(X, Y, n_hid, lr = 0.2, w_init=None, n_iters=1, batch=False,bias=True):\n",
    "    if bias:\n",
    "        # append ones col to X\n",
    "        ones_col = np.ones((X.shape[0],1))\n",
    "        X = np.concatenate((ones_col,X), axis=1)\n",
    "    \n",
    "    bias_int = 1 if bias else 0 # add 1 to weigt dimension if bias is needed\n",
    "    # create weights - if no init given, we randomise to v small values\n",
    "    if w_init is not None:\n",
    "        w1 = np.ones((n_hid,X.shape[1])) * w_init\n",
    "        w2 = np.ones((Y.shape[1],n_hid+bias_int)) * w_init\n",
    "    else:\n",
    "        w1 = np.random.randn(n_hid,X.shape[1]) / 10\n",
    "        w2 = np.random.randn(Y.shape[1],n_hid+bias_int) / 10\n",
    "            \n",
    "    history_w1 = []\n",
    "    history_w2 = []\n",
    "    accuracies = []\n",
    "    \n",
    "    # loop over number of iterations\n",
    "    for i in tqdm(range(n_iters)):\n",
    "        \n",
    "        # for each training example \n",
    "        for idx, (x,y) in enumerate(zip(X,Y)):\n",
    "            ### FORWARD PASS\n",
    "            h = sigmoid(x.dot(w1.T))\n",
    "            if bias:\n",
    "                temp_h = np.append(np.ones(1), h) # becuase we dont want to add a bias term to h itself\n",
    "            else:\n",
    "                temp_h = h\n",
    "            o = sigmoid(temp_h.dot(w2.T))\n",
    "            \n",
    "            ### BACKWARD PASS\n",
    "            do = o*(1-o)*(y-o)\n",
    "            dh = h * (1-h) * do.dot(w2[:,bias_int:]) # skip bias dim if it exists\n",
    "            \n",
    "            ### WEIGHT CHANGES\n",
    "            dw2 = lr * do.reshape(-1,1) * temp_h\n",
    "            dw1 = lr * dh.reshape(-1,1) *(x) \n",
    "\n",
    "            # store deltas if batch\n",
    "            if batch == True:\n",
    "                history_w1.append(dw1)\n",
    "                history_w2.append(dw2)\n",
    "            \n",
    "            # otherwise stochastic update -> update here\n",
    "            else:\n",
    "                ### WEIGHT UPDATES\n",
    "                w2 += dw2\n",
    "                w1 += dw1\n",
    "                \n",
    "        # for bacth update -> update here\n",
    "        if batch is True:\n",
    "            w2 += sum(history_w2)\n",
    "            w1 += sum(history_w1)\n",
    "\n",
    "        # Check accuracy while training\n",
    "        accuracies.append(predict(X,y,w1,w2,verbose=True,bias=bias))\n",
    "        \n",
    "    return w1, w2, accuracies"
   ]
  },
  {
   "cell_type": "markdown",
   "metadata": {},
   "source": [
    "###### Running:\n",
    "Just change values as required up to and including TT, and let the code do the rest B^)"
   ]
  },
  {
   "cell_type": "code",
   "execution_count": 15,
   "metadata": {},
   "outputs": [
    {
     "name": "stderr",
     "output_type": "stream",
     "text": [
      "100%|██████████| 7/7 [00:00<00:00, 296.24it/s]\n"
     ]
    },
    {
     "name": "stdout",
     "output_type": "stream",
     "text": [
      "Predictions before thresholding \n",
      "[[0.59564271]\n",
      " [0.60005064]\n",
      " [0.60005353]\n",
      " [0.6042773 ]]\n",
      "Predictions => \n",
      "\n",
      "[[1.]\n",
      " [1.]\n",
      " [1.]\n",
      " [1.]]\n",
      "Accuracy => 100.0\n",
      "Predictions before thresholding \n",
      "[[0.58832188]\n",
      " [0.59248564]\n",
      " [0.59249111]\n",
      " [0.59648378]]\n",
      "Predictions => \n",
      "\n",
      "[[1.]\n",
      " [1.]\n",
      " [1.]\n",
      " [1.]]\n",
      "Accuracy => 100.0\n",
      "Predictions before thresholding \n",
      "[[0.58149017]\n",
      " [0.58542437]\n",
      " [0.58543213]\n",
      " [0.58920704]]\n",
      "Predictions => \n",
      "\n",
      "[[1.]\n",
      " [1.]\n",
      " [1.]\n",
      " [1.]]\n",
      "Accuracy => 100.0\n",
      "Predictions before thresholding \n",
      "[[0.57512928]\n",
      " [0.57884839]\n",
      " [0.57885816]\n",
      " [0.58242866]]\n",
      "Predictions => \n",
      "\n",
      "[[1.]\n",
      " [1.]\n",
      " [1.]\n",
      " [1.]]\n",
      "Accuracy => 100.0\n",
      "Predictions before thresholding \n",
      "[[0.56921828]\n",
      " [0.57273644]\n",
      " [0.57274798]\n",
      " [0.57612722]]\n",
      "Predictions => \n",
      "\n",
      "[[1.]\n",
      " [1.]\n",
      " [1.]\n",
      " [1.]]\n",
      "Accuracy => 100.0\n",
      "Predictions before thresholding \n",
      "[[0.56373457]\n",
      " [0.56706548]\n",
      " [0.56707857]\n",
      " [0.57027931]]\n",
      "Predictions => \n",
      "\n",
      "[[1.]\n",
      " [1.]\n",
      " [1.]\n",
      " [1.]]\n",
      "Accuracy => 100.0\n",
      "Predictions before thresholding \n",
      "[[0.55865458]\n",
      " [0.56181138]\n",
      " [0.56182581]\n",
      " [0.56486039]]\n",
      "Predictions => \n",
      "\n",
      "[[1.]\n",
      " [1.]\n",
      " [1.]\n",
      " [1.]]\n",
      "Accuracy => 100.0\n"
     ]
    },
    {
     "data": {
      "image/png": "[encoded data removed]",
      "text/plain": [
       "<Figure size 432x288 with 1 Axes>"
      ]
     },
     "metadata": {
      "needs_background": "light"
     },
     "output_type": "display_data"
    },
    {
     "name": "stdout",
     "output_type": "stream",
     "text": [
      "Highest accuracy => 1.0\n",
      "[[0.19431361 0.19708386 0.19617216]\n",
      " [0.19431361 0.19708386 0.19617216]] [[0.08922505 0.1335444  0.1335444 ]]\n"
     ]
    }
   ],
   "source": [
    "w_init = 0.2                 # number of hidden units\n",
    "n_hid = 2                    # number of hidden units\n",
    "lr = 0.2                    # learning rate\n",
    "n_iters = 7                  # number of iterations / epochs\n",
    "batch = False                 # if true, algo uses batch update.\n",
    "TT = np.asarray([[0,0,1],    # Truth table\n",
    "                [0,1,0], \n",
    "                [1,0,0],\n",
    "                [1,1,1]])\n",
    "\n",
    "\n",
    "X = TT[:,:2]\n",
    "y = TT[:,2:]\n",
    "w1,w2,accuracies = backprop(X,y,n_hid,lr,w_init,n_iters,batch)\n",
    "\n",
    "# print highest accuracy and display history\n",
    "epochs = np.arange(1, len(accuracies)+1)\n",
    "plt.plot(epochs, accuracies, c='purple')\n",
    "plt.title('Accuracy History')\n",
    "plt.xlabel('Iterations')\n",
    "plt.show()\n",
    "print(f\"Highest accuracy => {max(accuracies)}\")\n",
    "\n",
    "print(w1,w2)"
   ]
  },
  {
   "cell_type": "markdown",
   "metadata": {},
   "source": [
    "### 2. Handwritten digit recognition"
   ]
  },
  {
   "cell_type": "markdown",
   "metadata": {},
   "source": [
    "###### Get digits from MNIST Dataset \n",
    "We also show some images for visualisation. The data is loaded directly from keras.datasets becuase the actual files are too large to download and reupload during submission."
   ]
  },
  {
   "cell_type": "code",
   "execution_count": 7,
   "metadata": {},
   "outputs": [
    {
     "ename": "ModuleNotFoundError",
     "evalue": "No module named 'tensorflow'",
     "output_type": "error",
     "traceback": [
      "\u001b[0;31m---------------------------------------------------------------------------\u001b[0m",
      "\u001b[0;31mModuleNotFoundError\u001b[0m                       Traceback (most recent call last)",
      "\u001b[0;32m<ipython-input-7-64ea12c60067>\u001b[0m in \u001b[0;36m<module>\u001b[0;34m\u001b[0m\n\u001b[0;32m----> 1\u001b[0;31m \u001b[0;32mfrom\u001b[0m \u001b[0mtensorflow\u001b[0m\u001b[0;34m.\u001b[0m\u001b[0mpython\u001b[0m\u001b[0;34m.\u001b[0m\u001b[0mkeras\u001b[0m\u001b[0;34m.\u001b[0m\u001b[0mdatasets\u001b[0m \u001b[0;32mimport\u001b[0m \u001b[0mmnist\u001b[0m\u001b[0;34m\u001b[0m\u001b[0;34m\u001b[0m\u001b[0m\n\u001b[0m\u001b[1;32m      2\u001b[0m \u001b[0;34m(\u001b[0m\u001b[0mX_train\u001b[0m\u001b[0;34m,\u001b[0m \u001b[0mY_train\u001b[0m\u001b[0;34m)\u001b[0m\u001b[0;34m,\u001b[0m \u001b[0;34m(\u001b[0m\u001b[0mX_test\u001b[0m\u001b[0;34m,\u001b[0m \u001b[0mY_test\u001b[0m\u001b[0;34m)\u001b[0m \u001b[0;34m=\u001b[0m \u001b[0mmnist\u001b[0m\u001b[0;34m.\u001b[0m\u001b[0mload_data\u001b[0m\u001b[0;34m(\u001b[0m\u001b[0;34m)\u001b[0m\u001b[0;34m\u001b[0m\u001b[0;34m\u001b[0m\u001b[0m\n\u001b[1;32m      3\u001b[0m \u001b[0;34m\u001b[0m\u001b[0m\n\u001b[1;32m      4\u001b[0m \u001b[0;31m# reduce sizes\u001b[0m\u001b[0;34m\u001b[0m\u001b[0;34m\u001b[0m\u001b[0;34m\u001b[0m\u001b[0m\n\u001b[1;32m      5\u001b[0m \u001b[0mnum_train\u001b[0m \u001b[0;34m=\u001b[0m \u001b[0;36m1000\u001b[0m\u001b[0;34m\u001b[0m\u001b[0;34m\u001b[0m\u001b[0m\n",
      "\u001b[0;31mModuleNotFoundError\u001b[0m: No module named 'tensorflow'"
     ]
    }
   ],
   "source": [
    "from tensorflow.python.keras.datasets import mnist\n",
    "(X_train, Y_train), (X_test, Y_test) = mnist.load_data()\n",
    "\n",
    "# reduce sizes\n",
    "num_train = 1000\n",
    "num_test = 100\n",
    "\n",
    "X_train = X_train[:num_train]\n",
    "Y_train = Y_train[:num_train]\n",
    "X_test = X_test[:num_test]\n",
    "Y_test = Y_test[:num_test]\n",
    "\n",
    "# Convert y vectors to one hot vectors for our network to work\n",
    "Y_train_OH = np.zeros((Y_train.size, Y_train.max()+1))\n",
    "Y_train_OH[np.arange(Y_train.size),Y_train] = 1\n",
    "\n",
    "Y_test_OH = np.zeros((Y_test.size, Y_test.max()+1))\n",
    "Y_test_OH[np.arange(Y_test.size),Y_test] = 1\n",
    "\n",
    "# flatten X and bring into [0,1] range\n",
    "X_train = X_train.reshape(X_train.shape[0],-1) / 255\n",
    "X_test = X_test.reshape(X_test.shape[0],-1) / 255"
   ]
  },
  {
   "cell_type": "code",
   "execution_count": null,
   "metadata": {
    "scrolled": false
   },
   "outputs": [],
   "source": [
    "# Visualise:\n",
    "plt.figure(figsize=(8,8))\n",
    "for i in range(16):\n",
    "    plt.subplot(4,4,i+1)\n",
    "    plt.axis('off')\n",
    "    r = np.random.randint(X_train.shape[0])   # get a random image to show\n",
    "    plt.title('True Label: '+str(Y_train[r])) # show its label as title\n",
    "    plt.imshow(X_train[r].reshape(28,28), cmap='inferno')    # plot the image\n",
    "plt.show()"
   ]
  },
  {
   "cell_type": "code",
   "execution_count": null,
   "metadata": {
    "scrolled": false
   },
   "outputs": [],
   "source": [
    "# Here you can see it overfits:\n",
    "w_init = None                 # number of hidden units\n",
    "n_hid = 3                    # number of hidden units\n",
    "lr = 0.01                     # learning rate\n",
    "n_iters = 100                  # number of iterations / epochs\n",
    "batch = False                   # if true, algo uses batch update.\n",
    "bias = True                   # dont add bias dimension\n",
    "\n",
    "\n",
    "w1,w2,accuracies = backprop(X_train,Y_train_OH,n_hid,lr,w_init,n_iters,batch,bias)\n",
    "\n",
    "# print highest accuracy and display history\n",
    "epochs = np.arange(1, len(accuracies)+1)\n",
    "plt.plot(epochs, accuracies, c='purple')\n",
    "plt.title('Accuracy History')\n",
    "plt.xlabel('Iterations')\n",
    "plt.show()\n",
    "print(f\"Highest accuracy => {max(accuracies)}\")"
   ]
  },
  {
   "cell_type": "code",
   "execution_count": null,
   "metadata": {
    "scrolled": true
   },
   "outputs": [],
   "source": [
    "# Here you can see it overfits to training data because of 100 hidden units:\n",
    "\n",
    "\n",
    "w_init = None                 # number of hidden units\n",
    "n_hid = 100                    # number of hidden units\n",
    "lr = 0.2                    # learning rate\n",
    "n_iters = 100                  # number of iterations / epochs\n",
    "batch = False                   # if true, algo uses batch update.\n",
    "bias = False                   # dont add bias dimension\n",
    "\n",
    "\n",
    "w1,w2,accuracies = backprop(X_train,Y_train_OH,n_hid,lr,w_init,n_iters,batch,bias)\n",
    "\n",
    "# print highest accuracy and display history\n",
    "epochs = np.arange(1, len(accuracies)+1)\n",
    "plt.plot(epochs, accuracies, c='purple')\n",
    "plt.title('Accuracy History')\n",
    "plt.xlabel('Iterations')\n",
    "plt.show()\n",
    "print(f\"Highest accuracy => {max(accuracies)}\")"
   ]
  },
  {
   "cell_type": "markdown",
   "metadata": {},
   "source": [
    "###### <center> END OF ASSIGNMENT <br><br> Author: Rudraksh Kapil - 177154 <br><br> Thanks for reading :)"
   ]
  }
 ],
 "metadata": {
  "kernelspec": {
   "display_name": "Python 3",
   "language": "python",
   "name": "python3"
  },
  "language_info": {
   "codemirror_mode": {
    "name": "ipython",
    "version": 3
   },
   "file_extension": ".py",
   "mimetype": "text/x-python",
   "name": "python",
   "nbconvert_exporter": "python",
   "pygments_lexer": "ipython3",
   "version": "3.6.9"
  }
 },
 "nbformat": 4,
 "nbformat_minor": 4
}
