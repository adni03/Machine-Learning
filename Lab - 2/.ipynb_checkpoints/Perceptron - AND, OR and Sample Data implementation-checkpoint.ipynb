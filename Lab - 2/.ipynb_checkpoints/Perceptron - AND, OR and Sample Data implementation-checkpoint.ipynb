{
 "cells": [
  {
   "cell_type": "code",
   "execution_count": 1,
   "metadata": {},
   "outputs": [],
   "source": [
    "import numpy as np\n",
    "import pandas as pd\n",
    "from sklearn.model_selection import train_test_split\n",
    "from sklearn.metrics import accuracy_score"
   ]
  },
  {
   "cell_type": "code",
   "execution_count": 2,
   "metadata": {},
   "outputs": [
    {
     "name": "stdout",
     "output_type": "stream",
     "text": [
      "[[0 0]\n",
      " [0 1]\n",
      " [1 0]\n",
      " [1 1]]\n",
      "(4, 2)\n"
     ]
    }
   ],
   "source": [
    "X = [0, 0, 0, 1, 1, 0, 1, 1]\n",
    "X = np.reshape(X, (4, 2))\n",
    "y_and = [-1, -1, -1, 1]\n",
    "y_and = np.reshape(y_and, (4, 1))\n",
    "y_or = [-1, 1, 1, 1]\n",
    "y_or = np.reshape(y_or, (4, 1))\n",
    "\n",
    "print(X)\n",
    "print(X.shape)"
   ]
  },
  {
   "cell_type": "code",
   "execution_count": 3,
   "metadata": {},
   "outputs": [],
   "source": [
    "def threshold(Z):\n",
    "    for i in range(Z.shape[0]):\n",
    "        if Z[i] > 0:\n",
    "            Z[i] = 1\n",
    "        else:\n",
    "            Z[i] = -1\n",
    "    return Z"
   ]
  },
  {
   "cell_type": "code",
   "execution_count": 4,
   "metadata": {},
   "outputs": [],
   "source": [
    "def normalization(X):\n",
    "    mean = np.mean(X, axis=0)\n",
    "    std = np.std(X, axis=0)\n",
    "    X = (X - mean)/std\n",
    "    return X"
   ]
  },
  {
   "cell_type": "code",
   "execution_count": 5,
   "metadata": {},
   "outputs": [],
   "source": [
    "'''Forward and Backward pass implementation'''\n",
    "\n",
    "def train(X, y, w, b, iters):\n",
    "    for i in range(iters):\n",
    "        Z = np.dot(X, w.T) + b\n",
    "        Z = threshold(Z)\n",
    "        E = Z - y\n",
    "        for j in range(E.shape[0]):\n",
    "            if E[j] != 0:\n",
    "                if y[j] > 0:\n",
    "                    w = w + X[j]\n",
    "                else:\n",
    "                    w = w - X[j]\n",
    "    return w, b"
   ]
  },
  {
   "cell_type": "code",
   "execution_count": 6,
   "metadata": {},
   "outputs": [],
   "source": [
    "def find_accuracy(X, Y, w, b):\n",
    "    Z = np.dot(X, w.T) + b\n",
    "    Z = threshold(Z)\n",
    "    return accuracy_score(y_test, Z)"
   ]
  },
  {
   "cell_type": "code",
   "execution_count": 7,
   "metadata": {},
   "outputs": [
    {
     "name": "stdout",
     "output_type": "stream",
     "text": [
      "AND gate implementation : \n",
      "Bias : -1\n",
      "Weights : \n",
      "[[1. 1.]]\n",
      "\n",
      "OR gate implementation : \n",
      "Bias : -1\n",
      "Weights : \n",
      "[[2. 2.]]\n"
     ]
    }
   ],
   "source": [
    "w = np.zeros(2)\n",
    "w = np.expand_dims(w, axis=0)\n",
    "b = -1\n",
    "\n",
    "'''AND gate implementation'''\n",
    "print(\"AND gate implementation : \")\n",
    "w, b = train(X, y_and, w, b, 6)\n",
    "print(\"Bias : {}\".format(b))\n",
    "print(\"Weights : \\n{}\\n\".format(w))\n",
    "\n",
    "w = np.zeros(2)\n",
    "w = np.expand_dims(w, axis=0)\n",
    "\n",
    "''' OR gate implementation '''\n",
    "print(\"OR gate implementation : \")\n",
    "w, b = train(X, y_or, w, b, 6)\n",
    "print(\"Bias : {}\".format(b))\n",
    "print(\"Weights : \\n{}\".format(w))"
   ]
  },
  {
   "cell_type": "code",
   "execution_count": 8,
   "metadata": {},
   "outputs": [
    {
     "name": "stdout",
     "output_type": "stream",
     "text": [
      "Shape of Y : (1000, 1)\n",
      "Shape of X : (1000, 2)\n"
     ]
    }
   ],
   "source": [
    "''' Perceptron Training Algorithm with sample data '''\n",
    "\n",
    "Data = pd.read_csv('percep_data.csv')\n",
    "Y = Data['Y']\n",
    "X = Data[['X1', 'X2']]\n",
    "X = normalization(X)\n",
    "Y = np.expand_dims(Y, axis=1)\n",
    "print(\"Shape of Y : {}\".format(Y.shape))\n",
    "print(\"Shape of X : {}\".format(X.shape))"
   ]
  },
  {
   "cell_type": "code",
   "execution_count": 9,
   "metadata": {},
   "outputs": [
    {
     "name": "stdout",
     "output_type": "stream",
     "text": [
      "Shape of weights : (1, 2)\n",
      "Shape of x_train : (900, 2), y_train : (900, 1)\n",
      "           X1        X2\n",
      "716  1.698851  0.625282\n",
      "351 -1.409669  1.409476\n",
      "936  1.057688 -1.133713\n",
      "256  0.745459  1.545916\n",
      "635  1.230740  0.650181\n",
      "..        ...       ...\n",
      "106  0.882481  0.818460\n",
      "270 -1.442591  0.311410\n",
      "860 -0.963468 -0.862202\n",
      "435 -1.417628 -0.112863\n",
      "102  0.697162  1.217073\n",
      "\n",
      "[900 rows x 2 columns]\n"
     ]
    }
   ],
   "source": [
    "x_train, x_test, y_train, y_test = train_test_split(X, Y, test_size = 0.1, random_state = 42)\n",
    "\n",
    "w = np.random.randn(1, 2)\n",
    "b = np.random.randn()\n",
    "print(\"Shape of weights : {}\".format(w.shape))\n",
    "print(\"Shape of x_train : {}, y_train : {}\".format(x_train.shape, y_train.shape))\n",
    "print(x_train)"
   ]
  },
  {
   "cell_type": "code",
   "execution_count": 10,
   "metadata": {},
   "outputs": [
    {
     "name": "stdout",
     "output_type": "stream",
     "text": [
      "Accuracy of model is  0.85\n"
     ]
    }
   ],
   "source": [
    "w, b = train(np.array(x_train), np.array(y_train), w, b, 100)\n",
    "accuracy = find_accuracy(np.array(x_test), np.array(y_test), w, b)\n",
    "print(\"Accuracy of model : {}\".format(accuracy))"
   ]
  }
 ],
 "metadata": {
  "kernelspec": {
   "display_name": "Python 3",
   "language": "python",
   "name": "python3"
  },
  "language_info": {
   "codemirror_mode": {
    "name": "ipython",
    "version": 3
   },
   "file_extension": ".py",
   "mimetype": "text/x-python",
   "name": "python",
   "nbconvert_exporter": "python",
   "pygments_lexer": "ipython3",
   "version": "3.7.3"
  }
 },
 "nbformat": 4,
 "nbformat_minor": 4
}
