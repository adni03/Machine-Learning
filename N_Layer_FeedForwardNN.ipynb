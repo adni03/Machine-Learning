{
  "nbformat": 4,
  "nbformat_minor": 0,
  "metadata": {
    "colab": {
      "name": "N_Layer_FeedForwardNN.ipynb",
      "provenance": [],
      "collapsed_sections": []
    },
    "kernelspec": {
      "name": "python3",
      "display_name": "Python 3"
    }
  },
  "cells": [
    {
      "cell_type": "code",
      "metadata": {
        "id": "Xp_JYkRE9BQz"
      },
      "source": [
        "import pandas as pd\n",
        "import numpy as np\n",
        "from sklearn.model_selection import train_test_split\n",
        "import matplotlib.pyplot as plt"
      ],
      "execution_count": 272,
      "outputs": []
    },
    {
      "cell_type": "code",
      "metadata": {
        "id": "OdLYjfn19Jv9"
      },
      "source": [
        "def initialize_parameters(layer_dims):\n",
        "    parameters = {}\n",
        "    L = len(layer_dims)\n",
        "  \n",
        "    for i in range(1, L):\n",
        "        parameters['W' + str(i)] = np.random.randn(layer_dims[i], layer_dims[i-1])*0.01\n",
        "        parameters['b' + str(i)] = np.zeros((1, layer_dims[i])) + 0.01\n",
        "\n",
        "    return parameters"
      ],
      "execution_count": 273,
      "outputs": []
    },
    {
      "cell_type": "code",
      "metadata": {
        "id": "qXcRGRtX9Mro"
      },
      "source": [
        "def sigmoid(X):\n",
        "    return 1/(1 + np.exp(-1*X))"
      ],
      "execution_count": 274,
      "outputs": []
    },
    {
      "cell_type": "code",
      "metadata": {
        "id": "pMqcmART9Sa2"
      },
      "source": [
        "def forward_step(A_prev, W, b):\n",
        "    return sigmoid(np.dot(A_prev, W.T) + b)"
      ],
      "execution_count": 275,
      "outputs": []
    },
    {
      "cell_type": "code",
      "metadata": {
        "id": "x8mIKaKs-Izu"
      },
      "source": [
        "def computation_n(X, y, parameters, eta, num_iters):\n",
        "    hidden_output = []\n",
        "    hidden_error = []\n",
        "    m = X.shape[0]\n",
        "    L = (len(parameters)//2) + 1      # number of layers\n",
        "    \n",
        "    # iterating for given number of iterations\n",
        "    for itr in range(num_iters):\n",
        "        # for each training example\n",
        "        for i in range(m):\n",
        "            # forward propagation for n layers\n",
        "            hidden_output.append(X[i])\n",
        "            A_prev = X[i]\n",
        "            for l in range(1, L):\n",
        "                A_prev = forward_step(A_prev, parameters['W' + str(l)], parameters['b' + str(l)])\n",
        "                hidden_output.append(A_prev)\n",
        "            \n",
        "            # propagating the error backwards\n",
        "            dOutput = hidden_output[-1]*(1 - hidden_output[-1])*(y[i] - hidden_output[-1])\n",
        "            hidden_error.append(dOutput)\n",
        "            k = 0\n",
        "            for l in reversed(range(1, L-1)):\n",
        "                error = hidden_output[l]*(1 - hidden_output[l])*np.dot(hidden_error[k], parameters['W' + str(l+1)])\n",
        "                hidden_error.append(error)\n",
        "                k += 1\n",
        "            \n",
        "            # parameter changes\n",
        "            k = 0\n",
        "            for l in reversed(range(1, L)):\n",
        "                parameters['W' + str(l)] += eta*hidden_error[k].reshape(-1, 1)*hidden_output[l-1]\n",
        "                parameters['b' + str(l)] += eta*hidden_error[k]\n",
        "                k += 1\n",
        "            \n",
        "            hidden_output.clear()\n",
        "            hidden_error.clear()\n",
        "    \n",
        "    return parameters"
      ],
      "execution_count": 276,
      "outputs": []
    },
    {
      "cell_type": "code",
      "metadata": {
        "id": "j_fSvhJfF3F7"
      },
      "source": [
        "def train(X, y, parameters, alpha, num_iters, batch=True):\n",
        "    parameters = computation_n(X, y, parameters, alpha, num_iters)\n",
        "    return parameters"
      ],
      "execution_count": 277,
      "outputs": []
    },
    {
      "cell_type": "code",
      "metadata": {
        "id": "J3GAQPOwF8Ke"
      },
      "source": [
        "def test(X, y_test, parameters):\n",
        "    y_pred = []\n",
        "    L = (len(parameters)//2) + 1\n",
        "    counter = 0\n",
        "\n",
        "    for i in range(X.shape[0]):\n",
        "        A_prev = X[i]\n",
        "        for l in range(1, L):\n",
        "            A_prev = forward_step(A_prev, parameters['W' + str(l)], parameters['b' + str(l)])\n",
        "        y_pred.append(A_prev)\n",
        "\n",
        "\n",
        "    y_pred = np.asarray(y_pred)\n",
        "    y_pred[y_pred < 0.5] = 0\n",
        "    y_pred[y_pred >= 0.5] = 1\n",
        "\n",
        "    accuracy = np.mean(np.asarray(y_pred) == y_test)\n",
        "    print(\"Accuracy : {} %\".format(accuracy*100))"
      ],
      "execution_count": 278,
      "outputs": []
    },
    {
      "cell_type": "code",
      "metadata": {
        "colab": {
          "base_uri": "https://localhost:8080/",
          "height": 499
        },
        "id": "6UMN1xoFHV6V",
        "outputId": "5e47340b-261c-489d-fa4f-4623064b2102"
      },
      "source": [
        "## LOADING TRAINING DATA \n",
        "data = pd.read_csv('/content/drive/MyDrive/emnist.csv')\n",
        "y = np.array(data['label'])\n",
        "X = np.array(data.drop(['label'], axis = 1))\n",
        "\n",
        "## SPLITTING MAIN DATASET INTO TRAINING AND TESTING DATASETS\n",
        "X_train, X_test, y_train, y_test = train_test_split(X, y, test_size = 0.2, random_state = 42)\n",
        "\n",
        "## PRINTING IMAGES FROM THE MNIST DATASET\n",
        "print(\"Sample of images from the MNIST Dataset : \")\n",
        "plt.figure(figsize=(8, 8))\n",
        "for i in range(16):\n",
        "    plt.subplot(4, 4, i+1)\n",
        "    plt.axis('off')\n",
        "    r = np.random.randint(X_train.shape[0])   ## PICK A RANDON IMAGE TO SHOW\n",
        "    plt.title('True Label: '+ str(y_train[r])) ## PRINT LABEL\n",
        "    plt.imshow(X_train[r].reshape(28, 28).T)     ## PRINT IMAGE\n",
        "plt.show()"
      ],
      "execution_count": 279,
      "outputs": [
        {
          "output_type": "stream",
          "text": [
            "Sample of images from the MNIST Dataset : \n"
          ],
          "name": "stdout"
        },
        {
          "output_type": "display_data",
          "data": {
            "image/png": "[encoded data removed]",
            "text/plain": [
              "<Figure size 576x576 with 16 Axes>"
            ]
          },
          "metadata": {
            "tags": [],
            "needs_background": "light"
          }
        }
      ]
    },
    {
      "cell_type": "code",
      "metadata": {
        "colab": {
          "base_uri": "https://localhost:8080/"
        },
        "id": "GAzlgSO3Ncw7",
        "outputId": "30f070a2-f55d-4f24-aab2-7f276c059de0"
      },
      "source": [
        "## NORMALIZING THE PIXEL VALUES FOR TRAINING DATA\n",
        "X_train = X_train / 255\n",
        "\n",
        "## CONVERTING TARGET VALUE TO ONE-HOT ENCODED FORM\n",
        "X_train = np.array(X_train)\n",
        "b = np.zeros((y_train.size, y_train.max()+1))\n",
        "b[np.arange(y_train.size), y_train] = 1\n",
        "y_train = np.array(b)\n",
        "\n",
        "print(\"y_train shape (after one-hot encoding) : {}\".format(y_train.shape))"
      ],
      "execution_count": 280,
      "outputs": [
        {
          "output_type": "stream",
          "text": [
            "y_train shape (after one-hot encoding) : (5598, 27)\n"
          ],
          "name": "stdout"
        }
      ]
    },
    {
      "cell_type": "code",
      "metadata": {
        "colab": {
          "base_uri": "https://localhost:8080/"
        },
        "id": "1Auq4NjGNdeB",
        "outputId": "64dc7a09-8aff-4f7c-9c0d-5cf31b0fbf3f"
      },
      "source": [
        "## NORMALIZING THE PIXEL VALUES FOR TESTING DATA\n",
        "X_test = X_test / 255\n",
        "\n",
        "## CONVERTING TARGET VALUE TO ONE-HOT ENCODED FORM\n",
        "X_test = np.array(X_test)\n",
        "b1 = np.zeros((y_test.size, 27))\n",
        "y_test = np.array(b1)\n",
        "\n",
        "print(\"y_test shape (after one-hot encoding) : {}\".format(y_test.shape))"
      ],
      "execution_count": 281,
      "outputs": [
        {
          "output_type": "stream",
          "text": [
            "y_test shape (after one-hot encoding) : (1400, 27)\n"
          ],
          "name": "stdout"
        }
      ]
    },
    {
      "cell_type": "code",
      "metadata": {
        "colab": {
          "base_uri": "https://localhost:8080/"
        },
        "id": "FJ_HwY08HaqN",
        "outputId": "9a7c1716-5e7f-4253-9278-e1196b39e391"
      },
      "source": [
        "parameters = initialize_parameters([784, 50, 50, 27])\n",
        "print(\"Length of parameters dictionary : {}\".format(len(parameters)))"
      ],
      "execution_count": 282,
      "outputs": [
        {
          "output_type": "stream",
          "text": [
            "Length of parameters dictionary : 6\n"
          ],
          "name": "stdout"
        }
      ]
    },
    {
      "cell_type": "code",
      "metadata": {
        "colab": {
          "base_uri": "https://localhost:8080/"
        },
        "id": "HqF6jkZoHeH4",
        "outputId": "0d29fe9f-639e-4578-b764-f09b7ed140f3"
      },
      "source": [
        "print(\"Training model...\")\n",
        "parameters = train(X_train, y_train, parameters, 0.01, 20)"
      ],
      "execution_count": 283,
      "outputs": [
        {
          "output_type": "stream",
          "text": [
            "Training model...\n"
          ],
          "name": "stdout"
        }
      ]
    },
    {
      "cell_type": "code",
      "metadata": {
        "colab": {
          "base_uri": "https://localhost:8080/"
        },
        "id": "Prdgg5fxHgYY",
        "outputId": "bd73c7ab-e06e-46c3-ae7f-125903506993"
      },
      "source": [
        "print(\"Testing model...\")\n",
        "test(X_test, y_test, parameters)"
      ],
      "execution_count": 284,
      "outputs": [
        {
          "output_type": "stream",
          "text": [
            "Testing model...\n",
            "Accuracy : 100.0 %\n"
          ],
          "name": "stdout"
        }
      ]
    }
  ]
}