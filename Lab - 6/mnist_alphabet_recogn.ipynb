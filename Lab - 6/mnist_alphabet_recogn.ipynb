{
 "cells": [
  {
   "cell_type": "markdown",
   "metadata": {},
   "source": [
    "# **Classifying Handwritten Alphabets using CNN**"
   ]
  },
  {
   "cell_type": "code",
   "execution_count": 2,
   "metadata": {},
   "outputs": [],
   "source": [
    "import pandas as pd\n",
    "import numpy as np\n",
    "from sklearn import preprocessing\n",
    "import json\n",
    "import matplotlib.pyplot as plt\n",
    "from sklearn import model_selection\n"
   ]
  },
  {
   "cell_type": "code",
   "execution_count": 3,
   "metadata": {},
   "outputs": [
    {
     "name": "stderr",
     "output_type": "stream",
     "text": [
      "Using TensorFlow backend.\n"
     ]
    }
   ],
   "source": [
    "from keras.datasets import mnist\n",
    "from keras.models import Sequential\n",
    "from keras.layers import Dense\n",
    "from keras.layers import Dropout\n",
    "from keras.layers import Flatten\n",
    "from keras.layers.convolutional import Conv2D\n",
    "from keras.layers.convolutional import MaxPooling2D\n",
    "from keras.utils import np_utils"
   ]
  },
  {
   "cell_type": "code",
   "execution_count": 4,
   "metadata": {},
   "outputs": [],
   "source": [
    "# loading train data from csv file\n",
    "X_train = pd.read_csv('emnist-letters-train.csv')\n",
    "# dropping 'target' class from the data\n",
    "y_train = np.array(X_train['target'])\n",
    "X_train = X_train.drop(['target'], axis=1)\n",
    "\n",
    "# loading test data from csv file\n",
    "X_test = pd.read_csv('emnist-letters-test.csv')\n",
    "# dropping 'target' class from the data\n",
    "y_test = np.array(X_test['target'])\n",
    "X_test = X_test.drop(['target'], axis=1)\n"
   ]
  },
  {
   "cell_type": "code",
   "execution_count": 5,
   "metadata": {},
   "outputs": [
    {
     "name": "stdout",
     "output_type": "stream",
     "text": [
      "(88800, 27)\n"
     ]
    }
   ],
   "source": [
    "X_train = X_train / 255\n",
    "\n",
    "\n",
    "# converting target into one hot encoding form\n",
    "X_train = np.array(X_train)\n",
    "b = np.zeros((y_train.size, y_train.max()+1))\n",
    "b[np.arange(y_train.size), y_train] = 1\n",
    "y_train = np.array(b)\n",
    "\n",
    "X_train = X_train.reshape(X_train.shape[0], 28, 28, 1).astype('float32')\n",
    "print(y_train.shape)\n"
   ]
  },
  {
   "cell_type": "code",
   "execution_count": 6,
   "metadata": {},
   "outputs": [
    {
     "name": "stdout",
     "output_type": "stream",
     "text": [
      "(14800, 27)\n"
     ]
    }
   ],
   "source": [
    "X_test = X_test / 255\n",
    "\n",
    "\n",
    "# converting target into one hot encoding form\n",
    "X_test = np.array(X_test)\n",
    "b1 = np.zeros((y_test.size, 27))\n",
    "b1[np.arange(y_test.size), y_test] = 1\n",
    "y_test = np.array(b1)\n",
    "\n",
    "X_test = X_test.reshape(X_test.shape[0], 28, 28, 1).astype('float32')\n",
    "print(y_test.shape)\n"
   ]
  },
  {
   "cell_type": "code",
   "execution_count": 7,
   "metadata": {},
   "outputs": [
    {
     "name": "stdout",
     "output_type": "stream",
     "text": [
      "27\n"
     ]
    }
   ],
   "source": [
    "num_classes = y_train.shape[1]\n",
    "print(num_classes)"
   ]
  },
  {
   "cell_type": "code",
   "execution_count": 8,
   "metadata": {},
   "outputs": [],
   "source": [
    "def baseline_model():\n",
    "    # create model\n",
    "    model = Sequential()\n",
    "    model.add(Conv2D(32, (5, 5), input_shape=(28, 28, 1), activation='relu'))\n",
    "    model.add(MaxPooling2D(pool_size=(2, 2)))\n",
    "    model.add(Dropout(0.2))\n",
    "    model.add(Flatten())\n",
    "    model.add(Dense(128, activation='relu'))\n",
    "    model.add(Dense(num_classes, activation='softmax'))\n",
    "    # Compile model\n",
    "    model.compile(loss='categorical_crossentropy', optimizer='adam', metrics=['accuracy'])\n",
    "    return model"
   ]
  },
  {
   "cell_type": "code",
   "execution_count": 9,
   "metadata": {},
   "outputs": [],
   "source": [
    "X_test, X_val, y_test, y_val = model_selection.train_test_split(X_test, y_test, test_size=0.1)"
   ]
  },
  {
   "cell_type": "code",
   "execution_count": 10,
   "metadata": {},
   "outputs": [
    {
     "name": "stdout",
     "output_type": "stream",
     "text": [
      "Train on 88800 samples, validate on 1480 samples\n",
      "Epoch 1/10\n",
      " - 36s - loss: 0.7726 - acc: 0.7692 - val_loss: 0.4033 - val_acc: 0.8804\n",
      "Epoch 2/10\n",
      " - 39s - loss: 0.3597 - acc: 0.8846 - val_loss: 0.3281 - val_acc: 0.8959\n",
      "Epoch 3/10\n",
      " - 37s - loss: 0.2882 - acc: 0.9066 - val_loss: 0.2748 - val_acc: 0.9115\n",
      "Epoch 4/10\n",
      " - 38s - loss: 0.2503 - acc: 0.9179 - val_loss: 0.2609 - val_acc: 0.9182\n",
      "Epoch 5/10\n",
      " - 38s - loss: 0.2232 - acc: 0.9247 - val_loss: 0.2705 - val_acc: 0.9115\n",
      "Epoch 6/10\n",
      " - 36s - loss: 0.2055 - acc: 0.9309 - val_loss: 0.2495 - val_acc: 0.9230\n",
      "Epoch 7/10\n",
      " - 40s - loss: 0.1849 - acc: 0.9367 - val_loss: 0.2447 - val_acc: 0.9243\n",
      "Epoch 8/10\n",
      " - 39s - loss: 0.1731 - acc: 0.9392 - val_loss: 0.2430 - val_acc: 0.9176\n",
      "Epoch 9/10\n",
      " - 40s - loss: 0.1613 - acc: 0.9422 - val_loss: 0.2393 - val_acc: 0.9216\n",
      "Epoch 10/10\n",
      " - 41s - loss: 0.1495 - acc: 0.9456 - val_loss: 0.2397 - val_acc: 0.9270\n"
     ]
    }
   ],
   "source": [
    "# build the model\n",
    "model = baseline_model()\n",
    "# Fit the model\n",
    "history = model.fit(X_train, y_train, validation_data=(X_val, y_val), epochs=10, batch_size=200, verbose=2)"
   ]
  },
  {
   "cell_type": "code",
   "execution_count": 11,
   "metadata": {},
   "outputs": [
    {
     "name": "stdout",
     "output_type": "stream",
     "text": [
      "dict_keys(['val_loss', 'val_acc', 'loss', 'acc'])\n"
     ]
    },
    {
     "data": {
      "image/png": "[encoded data removed]",
      "text/plain": [
       "<Figure size 432x288 with 1 Axes>"
      ]
     },
     "metadata": {
      "needs_background": "light"
     },
     "output_type": "display_data"
    }
   ],
   "source": [
    "print(history.history.keys())\n",
    "\n",
    "plt.plot(history.history['acc'])\n",
    "plt.plot(history.history['val_acc'])\n",
    "plt.title('model accuracy')\n",
    "plt.ylabel('accuracy')\n",
    "plt.xlabel('epoch')\n",
    "plt.legend(['train', 'validation'], loc='upper left')\n",
    "plt.show()\n"
   ]
  },
  {
   "cell_type": "code",
   "execution_count": 12,
   "metadata": {},
   "outputs": [
    {
     "data": {
      "image/png": "[encoded data removed]",
      "text/plain": [
       "<Figure size 432x288 with 1 Axes>"
      ]
     },
     "metadata": {
      "needs_background": "light"
     },
     "output_type": "display_data"
    }
   ],
   "source": [
    "# summarize history for loss\n",
    "plt.plot(history.history['loss'])\n",
    "plt.plot(history.history['val_loss'])\n",
    "plt.title('model loss')\n",
    "plt.ylabel('loss')\n",
    "plt.xlabel('epoch')\n",
    "plt.legend(['train', 'validation'], loc='upper left')\n",
    "plt.show()"
   ]
  },
  {
   "cell_type": "code",
   "execution_count": 13,
   "metadata": {},
   "outputs": [
    {
     "name": "stdout",
     "output_type": "stream",
     "text": [
      "Evaluate on test data\n",
      "13320/13320 [==============================] - 2s 158us/step\n",
      "test loss, test acc: [0.26532205952717375, 0.913963966720455]\n"
     ]
    }
   ],
   "source": [
    "# Evaluate the model on the test data using `evaluate`\n",
    "print(\"Evaluate on test data\")\n",
    "results = model.evaluate(X_test, y_test, batch_size=200)\n",
    "print(\"test loss, test acc:\", results)"
   ]
  },
  {
   "cell_type": "markdown",
   "metadata": {},
   "source": [
    "### Final Accuracy = 91.39%"
   ]
  },
  {
   "cell_type": "code",
   "execution_count": null,
   "metadata": {},
   "outputs": [],
   "source": []
  }
 ],
 "metadata": {
  "kernelspec": {
   "display_name": "Python 3",
   "language": "python",
   "name": "python3"
  },
  "language_info": {
   "codemirror_mode": {
    "name": "ipython",
    "version": 3
   },
   "file_extension": ".py",
   "mimetype": "text/x-python",
   "name": "python",
   "nbconvert_exporter": "python",
   "pygments_lexer": "ipython3",
   "version": "3.6.4"
  }
 },
 "nbformat": 4,
 "nbformat_minor": 4
}
