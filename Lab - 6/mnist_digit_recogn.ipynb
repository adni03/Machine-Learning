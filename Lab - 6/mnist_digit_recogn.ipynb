{
 "cells": [
  {
   "cell_type": "markdown",
   "metadata": {},
   "source": [
    "# **Classifying Handwritten Digits using CNN**"
   ]
  },
  {
   "cell_type": "code",
   "execution_count": 23,
   "metadata": {},
   "outputs": [],
   "source": [
    "import pandas as pd\n",
    "import numpy as np\n",
    "from sklearn import preprocessing\n",
    "from sklearn import model_selection\n",
    "import json\n",
    "import matplotlib.pyplot as plt"
   ]
  },
  {
   "cell_type": "code",
   "execution_count": 14,
   "metadata": {},
   "outputs": [],
   "source": [
    "from keras.datasets import mnist\n",
    "from keras.models import Sequential\n",
    "from keras.layers import Dense\n",
    "from keras.layers import Dropout\n",
    "from keras.layers import Flatten\n",
    "from keras.layers.convolutional import Conv2D\n",
    "from keras.layers.convolutional import MaxPooling2D\n",
    "from keras.utils import np_utils"
   ]
  },
  {
   "cell_type": "code",
   "execution_count": 15,
   "metadata": {},
   "outputs": [],
   "source": [
    "# loading train data from csv file\n",
    "X_train = pd.read_csv('mnist_train.csv')\n",
    "# loading test data from csv file\n",
    "X_test = pd.read_csv('mnist_test.csv')\n"
   ]
  },
  {
   "cell_type": "code",
   "execution_count": 16,
   "metadata": {
    "scrolled": true
   },
   "outputs": [
    {
     "name": "stdout",
     "output_type": "stream",
     "text": [
      "60000\n"
     ]
    }
   ],
   "source": [
    "# dropping 'target' class from the data\n",
    "y_train = np.array(X_train['target'])\n",
    "X_train = X_train.drop(['target'], axis=1)\n",
    "\n",
    "\n",
    "X_train = X_train / 255\n",
    "\n",
    "\n",
    "# converting target into one hot encoding form\n",
    "X_train = np.array(X_train)\n",
    "b = np.zeros((y_train.size, y_train.max()+1))\n",
    "b[np.arange(y_train.size), y_train] = 1\n",
    "y_train = np.array(b)\n",
    "\n",
    "X_train = X_train.reshape(X_train.shape[0], 28, 28, 1).astype('float32')\n",
    "print(X_train.shape[0])\n"
   ]
  },
  {
   "cell_type": "code",
   "execution_count": 17,
   "metadata": {},
   "outputs": [
    {
     "name": "stdout",
     "output_type": "stream",
     "text": [
      "10000\n"
     ]
    }
   ],
   "source": [
    "# dropping 'target' class from the data\n",
    "y_test = np.array(X_test['target'])\n",
    "X_test = X_test.drop(['target'], axis=1)\n",
    "\n",
    "\n",
    "X_test = X_test / 255\n",
    "\n",
    "\n",
    "# converting target into one hot encoding form\n",
    "X_test = np.array(X_test)\n",
    "b = np.zeros((y_test.size, y_test.max()+1))\n",
    "b[np.arange(y_test.size), y_test] = 1\n",
    "y_test = np.array(b)\n",
    "\n",
    "X_test = X_test.reshape(X_test.shape[0], 28, 28, 1).astype('float32')\n",
    "print(X_test.shape[0])\n"
   ]
  },
  {
   "cell_type": "code",
   "execution_count": 18,
   "metadata": {},
   "outputs": [],
   "source": [
    "num_classes = y_test.shape[1]"
   ]
  },
  {
   "cell_type": "code",
   "execution_count": 19,
   "metadata": {},
   "outputs": [],
   "source": [
    "def baseline_model():\n",
    "    # create model\n",
    "    model = Sequential()\n",
    "    model.add(Conv2D(32, (5, 5), input_shape=(28, 28, 1), activation='relu'))\n",
    "    model.add(MaxPooling2D(pool_size=(2, 2)))\n",
    "    model.add(Dropout(0.2))\n",
    "    model.add(Flatten())\n",
    "    model.add(Dense(128, activation='relu'))\n",
    "    model.add(Dense(num_classes, activation='softmax'))\n",
    "    # Compile model\n",
    "    model.compile(loss='categorical_crossentropy', optimizer='adam', metrics=['accuracy'])\n",
    "    return model"
   ]
  },
  {
   "cell_type": "code",
   "execution_count": 20,
   "metadata": {},
   "outputs": [],
   "source": [
    "# splitting test data into validation and test\n",
    "X_test, X_val, y_test, y_val = model_selection.train_test_split(X_test, y_test, test_size=0.1)"
   ]
  },
  {
   "cell_type": "code",
   "execution_count": 30,
   "metadata": {
    "scrolled": true
   },
   "outputs": [
    {
     "name": "stdout",
     "output_type": "stream",
     "text": [
      "Train on 60000 samples, validate on 1000 samples\n",
      "Epoch 1/10\n",
      " - 23s - loss: 0.2500 - acc: 0.9282 - val_loss: 0.0945 - val_acc: 0.9690\n",
      "Epoch 2/10\n",
      " - 25s - loss: 0.0776 - acc: 0.9772 - val_loss: 0.0549 - val_acc: 0.9840\n",
      "Epoch 3/10\n",
      " - 26s - loss: 0.0519 - acc: 0.9842 - val_loss: 0.0630 - val_acc: 0.9810\n",
      "Epoch 4/10\n",
      " - 25s - loss: 0.0436 - acc: 0.9863 - val_loss: 0.0579 - val_acc: 0.9820\n",
      "Epoch 5/10\n",
      " - 25s - loss: 0.0340 - acc: 0.9896 - val_loss: 0.0450 - val_acc: 0.9840\n",
      "Epoch 6/10\n",
      " - 24s - loss: 0.0268 - acc: 0.9917 - val_loss: 0.0474 - val_acc: 0.9840\n",
      "Epoch 7/10\n",
      " - 25s - loss: 0.0241 - acc: 0.9927 - val_loss: 0.0395 - val_acc: 0.9890\n",
      "Epoch 8/10\n",
      " - 25s - loss: 0.0202 - acc: 0.9935 - val_loss: 0.0384 - val_acc: 0.9870\n",
      "Epoch 9/10\n",
      " - 24s - loss: 0.0168 - acc: 0.9945 - val_loss: 0.0403 - val_acc: 0.9860\n",
      "Epoch 10/10\n",
      " - 32s - loss: 0.0149 - acc: 0.9950 - val_loss: 0.0365 - val_acc: 0.9890\n"
     ]
    }
   ],
   "source": [
    "# build the model\n",
    "model = baseline_model()\n",
    "# Fit the model\n",
    "history = model.fit(X_train, y_train, validation_data=(X_val, y_val), epochs=10, batch_size=200, verbose=2)"
   ]
  },
  {
   "cell_type": "code",
   "execution_count": 31,
   "metadata": {},
   "outputs": [
    {
     "name": "stdout",
     "output_type": "stream",
     "text": [
      "dict_keys(['val_loss', 'val_acc', 'loss', 'acc'])\n"
     ]
    },
    {
     "data": {
      "image/png": "[encoded data removed]",
      "text/plain": [
       "<Figure size 432x288 with 1 Axes>"
      ]
     },
     "metadata": {
      "needs_background": "light"
     },
     "output_type": "display_data"
    }
   ],
   "source": [
    "# plotting accuracy vs epochs \n",
    "print(history.history.keys())\n",
    "\n",
    "plt.plot(history.history['acc'])\n",
    "plt.plot(history.history['val_acc'])\n",
    "plt.title('model accuracy')\n",
    "plt.ylabel('accuracy')\n",
    "plt.xlabel('epoch')\n",
    "plt.legend(['train', 'validation'], loc='upper left')\n",
    "plt.show()\n"
   ]
  },
  {
   "cell_type": "code",
   "execution_count": 32,
   "metadata": {},
   "outputs": [
    {
     "data": {
      "image/png": "[encoded data removed]",
      "text/plain": [
       "<Figure size 432x288 with 1 Axes>"
      ]
     },
     "metadata": {
      "needs_background": "light"
     },
     "output_type": "display_data"
    }
   ],
   "source": [
    "# plotting loss vs epochs\n",
    "plt.plot(history.history['loss'])\n",
    "plt.plot(history.history['val_loss'])\n",
    "plt.title('model loss')\n",
    "plt.ylabel('loss')\n",
    "plt.xlabel('epoch')\n",
    "plt.legend(['train', 'validation'], loc='upper left')\n",
    "plt.show()"
   ]
  },
  {
   "cell_type": "code",
   "execution_count": 33,
   "metadata": {},
   "outputs": [
    {
     "name": "stdout",
     "output_type": "stream",
     "text": [
      "Evaluate on test data\n",
      "9000/9000 [==============================] - 1s 112us/step\n",
      "test loss, test acc: [0.03139475172696014, 0.9907777865727743]\n"
     ]
    }
   ],
   "source": [
    "# evaluating model on test data\n",
    "print(\"Evaluate on test data\")\n",
    "results = model.evaluate(X_test, y_test, batch_size=200)\n",
    "print(\"test loss, test acc:\", results)"
   ]
  },
  {
   "cell_type": "markdown",
   "metadata": {},
   "source": [
    "### Final Accuracy = 99.07%"
   ]
  },
  {
   "cell_type": "code",
   "execution_count": null,
   "metadata": {},
   "outputs": [],
   "source": []
  }
 ],
 "metadata": {
  "kernelspec": {
   "display_name": "Python 3",
   "language": "python",
   "name": "python3"
  },
  "language_info": {
   "codemirror_mode": {
    "name": "ipython",
    "version": 3
   },
   "file_extension": ".py",
   "mimetype": "text/x-python",
   "name": "python",
   "nbconvert_exporter": "python",
   "pygments_lexer": "ipython3",
   "version": "3.6.4"
  }
 },
 "nbformat": 4,
 "nbformat_minor": 4
}
