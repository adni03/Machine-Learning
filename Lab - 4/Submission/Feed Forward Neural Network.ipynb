{
 "cells": [
  {
   "cell_type": "markdown",
   "metadata": {},
   "source": [
    "# <center> Assignment 3 - Feed Forward Neural Network\n",
    "###### Author: Rudraksh Kapil - 177154\n",
    "In this notebook the following tasks are accomplished:\n",
    "    1. General definitions and functions for feed forward neural network - Running on B\n",
    "    2. Handwritten digit recognition.\n",
    "    3. Handwritten character recognition."
   ]
  },
  {
   "cell_type": "code",
   "execution_count": 1,
   "metadata": {},
   "outputs": [],
   "source": [
    "# import statements\n",
    "import numpy as np \n",
    "import pandas as pd \n",
    "import matplotlib.pyplot as plt \n",
    "from tqdm import tqdm"
   ]
  },
  {
   "cell_type": "markdown",
   "metadata": {},
   "source": [
    "### 1. Making Network"
   ]
  },
  {
   "cell_type": "markdown",
   "metadata": {},
   "source": [
    "###### Activation Function\n",
    "We use a sigmoid activation function to calculate output of a unit."
   ]
  },
  {
   "cell_type": "code",
   "execution_count": 2,
   "metadata": {},
   "outputs": [],
   "source": [
    "def sigmoid(x):\n",
    "    return 1 / (1 + np.exp(-x))"
   ]
  },
  {
   "cell_type": "markdown",
   "metadata": {},
   "source": [
    "###### Prediction Function\n",
    "Predicts output given X and weights; returns accuracy. The y value to be passed to it should be in one-hot encoding format (OH format)."
   ]
  },
  {
   "cell_type": "code",
   "execution_count": 3,
   "metadata": {},
   "outputs": [],
   "source": [
    "# checks accuracy\n",
    "# bias is set to True if we're using 2 bit truth tables as input \n",
    "#(3rd bias term x0 is to be appended)\n",
    "def predict(X, y, w1, w2, verbose=True, bias=True, show_all=False):\n",
    "    # prediction in OH format will be stored in this list for each example\n",
    "    y_pred = [] \n",
    "    \n",
    "    # run through the network (forward pass only) for each X sample to get prediction\n",
    "    for x in X:\n",
    "        h = sigmoid(x.dot(w1.T))\n",
    "        if (bias):\n",
    "            temp_h = np.append(np.ones(1), h) # we dont want to add a bias term to h itself\n",
    "        else:\n",
    "            temp_h = h\n",
    "        o = sigmoid(temp_h.dot(w2.T))\n",
    "        \n",
    "        # store prediction for this sample\n",
    "        y_pred.append(o)\n",
    "        \n",
    "    # convert Y and Y_pred back from OH format to 1d array\n",
    "    # our prediction is the index with highest value in y_pred hence using argmax\n",
    "    y = np.argmax(y, axis=1)\n",
    "    y_pred = np.argmax(y_pred, axis=1)\n",
    "                \n",
    "    # for debugging print the labels for all pictures\n",
    "    if show_all:\n",
    "        for idx,x in enumerate(X):\n",
    "            print(f\"Predicted => {y_pred[idx]}, Actual => {y[idx]}\")\n",
    "            plt.imshow(x.reshape(28,28))\n",
    "            plt.show()\n",
    "    \n",
    "    # calculate and return accuracy - this is why we had to reconvert back from OH format\n",
    "    accuracy = np.mean(y_pred==y)\n",
    "    if (verbose):\n",
    "        print(f\"Accuracy => {accuracy*100}\")\n",
    "    return accuracy"
   ]
  },
  {
   "cell_type": "markdown",
   "metadata": {},
   "source": [
    "###### Backprop Function\n",
    "We use a two layer network with variable number of input, hidden, and output units. Returns the weights of the two layers as well as a trace of the accuracy on the training set during training."
   ]
  },
  {
   "cell_type": "code",
   "execution_count": 4,
   "metadata": {},
   "outputs": [],
   "source": [
    "def backprop(X, Y, n_hid, lr = 0.2,w_init=None,w_scale=1,n_iters=1, batch=False,bias=True):\n",
    "    if bias:\n",
    "        # append ones col to X\n",
    "        ones_col = np.ones((X.shape[0],1))\n",
    "        X = np.concatenate((ones_col,X), axis=1)\n",
    "    \n",
    "    # bias_int is integer version of boolean bias\n",
    "    bias_int = 1 if bias else 0 # add 1 to weigt dimension if bias is needed\n",
    "    \n",
    "    # create weights - if no init given, we randomise to v small values\n",
    "    if w_init is not None:\n",
    "        w1 = np.ones((n_hid,X.shape[1])) * w_init\n",
    "        w2 = np.ones((Y.shape[1],n_hid+bias_int)) * w_init\n",
    "    else:\n",
    "        w1 = np.random.uniform(size=(n_hid,X.shape[1])) / w_scale\n",
    "        w2 = np.random.uniform(size=(Y.shape[1],n_hid+bias_int)) / w_scale\n",
    "            \n",
    "    # lists to store histories\n",
    "    history_w1 = [] \n",
    "    history_w2 = []\n",
    "    accuracies = []\n",
    "    \n",
    "    # loop over number of iterations\n",
    "    for i in tqdm(range(n_iters)):\n",
    "        \n",
    "        # for each training example \n",
    "        for idx, (x,y) in enumerate(zip(X,Y)):\n",
    "            ### FORWARD PASS\n",
    "            h = sigmoid(x.dot(w1.T))\n",
    "            if bias:\n",
    "                temp_h = np.append(np.ones(1), h) # becuase we dont want to add a bias term to h itself\n",
    "            else:\n",
    "                temp_h = h\n",
    "            o = sigmoid(temp_h.dot(w2.T))\n",
    "            \n",
    "            ### BACKWARD PASS\n",
    "            do = o*(1-o)*(y-o)\n",
    "            dh = h * (1-h) * do.dot(w2[:,bias_int:]) # skip bias dim if it exists\n",
    "            \n",
    "            ### WEIGHT CHANGES\n",
    "            dw2 = lr * do.reshape(-1,1) * temp_h\n",
    "            dw1 = lr * dh.reshape(-1,1) *(x) \n",
    "\n",
    "            # store deltas if batch update required\n",
    "            if batch == True:\n",
    "                history_w1.append(dw1)\n",
    "                history_w2.append(dw2)\n",
    "            \n",
    "            # otherwise stochastic update -> update here\n",
    "            else:\n",
    "                ### WEIGHT UPDATES\n",
    "                w2 += dw2\n",
    "                w1 += dw1\n",
    "                \n",
    "        # for bacth update -> update here\n",
    "        if batch is True:\n",
    "            ### WEIGHT UPDATES\n",
    "            w2 += sum(history_w2)\n",
    "            w1 += sum(history_w1)\n",
    "\n",
    "        # Check accuracy while training\n",
    "        accuracies.append(predict(X,Y,w1,w2,verbose=False,bias=bias))\n",
    "        \n",
    "    return w1, w2, accuracies"
   ]
  },
  {
   "cell_type": "markdown",
   "metadata": {},
   "source": [
    "###### Running:\n",
    "We test our functions on 2 bit XOR truth table. Note that test data will be same as train data so training accuracy is equivalent to testing accuracy."
   ]
  },
  {
   "cell_type": "code",
   "execution_count": 5,
   "metadata": {},
   "outputs": [
    {
     "name": "stderr",
     "output_type": "stream",
     "text": [
      "100%|██████████| 10000/10000 [00:09<00:00, 1054.22it/s]\n"
     ]
    },
    {
     "data": {
      "image/png": "[encoded data removed]",
      "text/plain": [
       "<Figure size 432x288 with 1 Axes>"
      ]
     },
     "metadata": {
      "needs_background": "light"
     },
     "output_type": "display_data"
    },
    {
     "name": "stdout",
     "output_type": "stream",
     "text": [
      "Highest accuracy => 1.0\n",
      "[[-2.83306003  6.48005712  6.55499935]\n",
      " [-6.64366578  4.33802531  4.34888045]] [[ 2.9732046  -6.51727665  7.03145113]\n",
      " [-2.97187444  6.51407237 -7.02753788]]\n"
     ]
    }
   ],
   "source": [
    "# Hyperparameters and inputs\n",
    "w_init = None                 # number of hidden units\n",
    "w_scale = 1                  # value to divide the w values with\n",
    "n_hid = 2                    # number of hidden units\n",
    "lr = 0.1                     # learning rate\n",
    "n_iters = 10000                  # number of iterations / epochs\n",
    "batch = False                 # if true, algo uses batch update.\n",
    "TT = np.asarray([[0,0,0],    # Truth table\n",
    "                [0,1,1], \n",
    "                [1,0,1],\n",
    "                [1,1,0]])\n",
    "\n",
    "# get X and y from truth table\n",
    "X = TT[:,:2]\n",
    "y = TT[:,2:]\n",
    "\n",
    "# convert y to one hot encoding (for our network to be general for any number of output units)\n",
    "y_OH = np.zeros((y.size, y.max()+1))\n",
    "y_OH[np.arange(y.size),y.reshape(-1)] = 1\n",
    "\n",
    "# call backprop function\n",
    "# our architechture here is 2 ip units, 2 hidden units and 2 output units\n",
    "# giving a total size of 6 weights from ip to hidden and 6 from hidden to output\n",
    "w1,w2,accuracies = backprop(X,y_OH,n_hid,lr,w_init,w_scale,n_iters,batch)\n",
    "\n",
    "# print highest accuracy and display history\n",
    "epochs = np.arange(1, len(accuracies)+1)\n",
    "plt.plot(epochs, accuracies, c='purple')\n",
    "plt.title('Accuracy History')\n",
    "plt.xlabel('Iterations')\n",
    "plt.show()\n",
    "print(f\"Highest accuracy => {max(accuracies)}\")\n",
    "print(w1,w2)"
   ]
  },
  {
   "cell_type": "markdown",
   "metadata": {},
   "source": [
    "### 2. Handwritten digit recognition"
   ]
  },
  {
   "cell_type": "markdown",
   "metadata": {},
   "source": [
    "###### Get digits from MNIST Dataset \n",
    "We also show some images for visualisation. The data is loaded directly from keras.datasets becuase the actual files are too large to download and reupload during submission."
   ]
  },
  {
   "cell_type": "code",
   "execution_count": 13,
   "metadata": {
    "scrolled": true
   },
   "outputs": [],
   "source": [
    "from tensorflow.python.keras.datasets import mnist\n",
    "(X_train, Y_train), (X_test, Y_test) = mnist.load_data()\n",
    "\n",
    "# reduce sizes - make training faster while also giving decent accuracy\n",
    "num_train = 1000\n",
    "num_test = 100\n",
    "\n",
    "X_train = X_train[:num_train]\n",
    "Y_train = Y_train[:num_train]\n",
    "X_test = X_test[:num_test]\n",
    "Y_test = Y_test[:num_test]\n",
    "\n",
    "\n",
    "# Convert y vectors to one hot vectors for our network to work\n",
    "Y_train_OH = np.zeros((Y_train.size, Y_train.max()+1))\n",
    "Y_train_OH[np.arange(Y_train.size),Y_train] = 1\n",
    "\n",
    "Y_test_OH = np.zeros((Y_test.size, Y_test.max()+1))\n",
    "Y_test_OH[np.arange(Y_test.size),Y_test] = 1\n",
    "\n",
    "\n",
    "# flatten X and bring into [0,1] range\n",
    "X_train = X_train.reshape(X_train.shape[0],-1) / 255\n",
    "X_test = X_test.reshape(X_test.shape[0],-1) / 255"
   ]
  },
  {
   "cell_type": "code",
   "execution_count": 7,
   "metadata": {
    "scrolled": false
   },
   "outputs": [
    {
     "data": {
      "image/png": "[encoded data removed]",
      "text/plain": [
       "<Figure size 576x576 with 16 Axes>"
      ]
     },
     "metadata": {
      "needs_background": "light"
     },
     "output_type": "display_data"
    }
   ],
   "source": [
    "# Visualise:\n",
    "plt.figure(figsize=(8,8))\n",
    "for i in range(16):\n",
    "    plt.subplot(4,4,i+1)\n",
    "    plt.axis('off')\n",
    "    r = np.random.randint(X_train.shape[0])   # get a random image to show\n",
    "    plt.title('True Label: '+str(Y_train[r])) # show its label as title\n",
    "    plt.imshow(X_train[r].reshape(28,28), cmap='inferno')    # plot the image\n",
    "plt.show()"
   ]
  },
  {
   "cell_type": "code",
   "execution_count": 8,
   "metadata": {
    "scrolled": false
   },
   "outputs": [
    {
     "name": "stderr",
     "output_type": "stream",
     "text": [
      "100%|██████████| 500/500 [04:01<00:00,  2.07it/s]\n"
     ]
    },
    {
     "data": {
      "image/png": "[encoded data removed]",
      "text/plain": [
       "<Figure size 432x288 with 1 Axes>"
      ]
     },
     "metadata": {
      "needs_background": "light"
     },
     "output_type": "display_data"
    },
    {
     "name": "stdout",
     "output_type": "stream",
     "text": [
      "Highest Train accuracy => 0.982\n",
      "Test Accuracy => 0.84\n"
     ]
    }
   ],
   "source": [
    "# Hyperparameters\n",
    "w_init = None                 # number of hidden units\n",
    "w_scale = 10                  # value to divide the random w values with\n",
    "n_hid = 100                    # number of hidden units\n",
    "lr = 0.01                     # learning rate\n",
    "n_iters = 500                  # number of iterations / epochs\n",
    "batch = False                   # if true, algo uses batch update.\n",
    "bias = False                   # dont add bias dimension\n",
    "\n",
    "# call backprop function to train\n",
    "# here our network is 784 (28*28) input units, 100 hidden units, and 10 output units\n",
    "# the output is in OH format\n",
    "w1,w2,accuracies = backprop(X_train,Y_train_OH,n_hid,lr,w_init,w_scale,n_iters,batch,bias)\n",
    "\n",
    "# print highest accuracy and display history\n",
    "epochs = np.arange(1, len(accuracies)+1)\n",
    "plt.plot(epochs, accuracies, c='purple')\n",
    "plt.title('Train Accuracy History')\n",
    "plt.xlabel('Iterations')\n",
    "plt.show()\n",
    "print(f\"Highest Train accuracy => {max(accuracies)}\")\n",
    "\n",
    "# check accuracy on seperate test set\n",
    "test_acc = predict(X_test,Y_test_OH,w1,w2,bias=False,verbose=False,show_all=False)\n",
    "print(f\"Test Accuracy => {test_acc}\")\n",
    "\n",
    "# there is some level of overfitting happening here as seen by \n",
    "# the large difference in accuracies"
   ]
  },
  {
   "cell_type": "markdown",
   "metadata": {},
   "source": [
    "### 3. Handwritten Character Recognition"
   ]
  },
  {
   "cell_type": "markdown",
   "metadata": {},
   "source": [
    "###### Get letters from EMNIST Dataset \n",
    "We also show some images for visualisation. The data is loaded from csv files present in the same folder. Note that the csv files have been significantly reduced (ie fewer rows) for ease of submission. The first column has Y values, and the rest of the 784 coloumns are the image. Also note that emnist images are rotated (data augmentation) so the images here may not look exactly like the corresponding letter from all angles."
   ]
  },
  {
   "cell_type": "code",
   "execution_count": 17,
   "metadata": {
    "scrolled": true
   },
   "outputs": [],
   "source": [
    "# use pandas to read and convert to numpy\n",
    "train = pd.read_csv(\"emnist-letters-train.csv\").to_numpy()\n",
    "test = pd.read_csv(\"emnist-letters-test.csv\").to_numpy()\n",
    "\n",
    "# extract the Xs and Ys\n",
    "Y_train = train[:,0]\n",
    "X_train = train[:,1:]\n",
    "Y_test = test[:,0]\n",
    "X_test = test[:,1:]\n",
    "\n",
    "# reduce sizes fur\n",
    "num_train = 5000\n",
    "num_test = 500\n",
    "\n",
    "X_train = X_train[:num_train]\n",
    "Y_train = Y_train[:num_train]\n",
    "X_test = X_test[:num_test]\n",
    "Y_test = Y_test[:num_test]\n",
    "\n",
    "# Convert y vectors to one hot vectors for our network to work\n",
    "Y_train_OH = np.zeros((Y_train.size, Y_train.max()+1))\n",
    "Y_train_OH[np.arange(Y_train.size),Y_train] = 1\n",
    "\n",
    "Y_test_OH = np.zeros((Y_test.size, Y_test.max()+1))\n",
    "Y_test_OH[np.arange(Y_test.size),Y_test] = 1\n",
    "\n",
    "# flatten X and bring into [0,1] range\n",
    "X_train = X_train.reshape(X_train.shape[0],-1) / 255\n",
    "X_test = X_test.reshape(X_test.shape[0],-1) / 255"
   ]
  },
  {
   "cell_type": "code",
   "execution_count": 11,
   "metadata": {
    "scrolled": false
   },
   "outputs": [
    {
     "data": {
      "image/png": "[encoded data removed]",
      "text/plain": [
       "<Figure size 576x576 with 16 Axes>"
      ]
     },
     "metadata": {
      "needs_background": "light"
     },
     "output_type": "display_data"
    }
   ],
   "source": [
    "# Visualise:\n",
    "# note that the images are flipped and rotated in the dataset itself, \n",
    "#  so the labels may not match from all angles. \n",
    "plt.figure(figsize=(8,8))\n",
    "for i in range(16):\n",
    "    plt.subplot(4,4,i+1)\n",
    "    plt.axis('off')\n",
    "    r = np.random.randint(X_train.shape[0])   # get a random image to show\n",
    "    plt.title('True Label: '+str(chr(ord('@')+Y_train[r]))) # show its label as title\n",
    "    plt.imshow(X_train[r].reshape(28,28), cmap='plasma')    # plot the image\n",
    "plt.show()"
   ]
  },
  {
   "cell_type": "code",
   "execution_count": 14,
   "metadata": {
    "scrolled": false
   },
   "outputs": [
    {
     "data": {
      "image/png": "[encoded data removed]",
      "text/plain": [
       "<Figure size 432x288 with 1 Axes>"
      ]
     },
     "metadata": {
      "needs_background": "light"
     },
     "output_type": "display_data"
    },
    {
     "name": "stdout",
     "output_type": "stream",
     "text": [
      "Highest Train accuracy => 0.809\n",
      "Test Accuracy => 0.0\n",
      "Because of the data augmentation and because I took a small subset of the total data, our performance here is considerably poorer than on the non augmented (and smaller) MNIST dataset for digits above, requiring longer training which I have not done here due to hardware constraints.\n"
     ]
    }
   ],
   "source": [
    "# Hyperparameters\n",
    "w_init = None                 # number of hidden units\n",
    "w_scale = 10                  # value to divide the w values with\n",
    "n_hid = 100                    # number of hidden units\n",
    "lr = 0.01                     # learning rate\n",
    "n_iters = 500                  # number of iterations / epochs\n",
    "batch = False                   # if true, algo uses batch update.\n",
    "bias = False                   # dont add bias dimension\n",
    "\n",
    "# call backprop to start training our weights\n",
    "w1,w2,accuracies = backprop(X_train,Y_train_OH,n_hid,lr,w_init,w_scale,n_iters,batch,bias)\n",
    "\n",
    "# print highest accuracy and display history\n",
    "epochs = np.arange(1, len(accuracies)+1)\n",
    "plt.plot(epochs, accuracies, c='purple')\n",
    "plt.title('Train Accuracy History')\n",
    "plt.xlabel('Iterations')\n",
    "plt.show()\n",
    "print(f\"Highest Train accuracy => {max(accuracies)}\")\n",
    "\n",
    "# check accuracy on test set\n",
    "test_acc = predict(X_test,Y_test_OH,w1,w2,bias=False,verbose=False,show_all=False)\n",
    "print(f\"Test Accuracy => {test_acc}\")\n",
    "print(\"Because of the data augmentation and because I took a small subset of the total data, the performance here is considerably poorer than on the non augmented (and smaller) MNIST dataset for digits above, requiring longer training which I have not done here due to hardware constraints.\")"
   ]
  },
  {
   "cell_type": "markdown",
   "metadata": {},
   "source": [
    "###### <center> END OF ASSIGNMENT <br><br> Author: Rudraksh Kapil - 177154 "
   ]
  }
 ],
 "metadata": {
  "kernelspec": {
   "display_name": "Python 3",
   "language": "python",
   "name": "python3"
  },
  "language_info": {
   "codemirror_mode": {
    "name": "ipython",
    "version": 3
   },
   "file_extension": ".py",
   "mimetype": "text/x-python",
   "name": "python",
   "nbconvert_exporter": "python",
   "pygments_lexer": "ipython3",
   "version": "3.8.1"
  }
 },
 "nbformat": 4,
 "nbformat_minor": 4
}
