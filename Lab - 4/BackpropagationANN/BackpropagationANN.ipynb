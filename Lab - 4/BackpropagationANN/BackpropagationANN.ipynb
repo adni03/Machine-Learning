{
 "cells": [
  {
   "cell_type": "markdown",
   "metadata": {},
   "source": [
    "# Backpropagation Algorithm on Artificial Neural Networks\n",
    "\n",
    "Name : Suraj Baradhi\n",
    "Roll No : 177110\n",
    "Section : A\n",
    "\n",
    "\n",
    "In machine learning, backpropagation  is a widely used algorithm in training feedforward neural networks for supervised learning. Generalizations of backpropagation exists for other artificial neural networks (ANNs), and for functions generally. These classes of algorithms are all referred to generically as \"backpropagation\".In fitting a neural network, backpropagation computes the gradient of the loss function with respect to the weights of the network for a single input–output example, and does so efficiently, unlike a naive direct computation of the gradient with respect to each weight individually. This efficiency makes it feasible to use gradient methods for training multilayer networks, updating weights to minimize loss; gradient descent, or variants such as stochastic gradient descent, are commonly used.\n",
    "\n",
    "In the notebook below I have implemented Backpropagation with a network similar to the one drawn below. It has an input layer , a hidden layer and an output layer.\n",
    "\n",
    "<img src=\"Backprop.jpg\" alt=\"alt text\" width=\"500\"/>"
   ]
  },
  {
   "cell_type": "markdown",
   "metadata": {},
   "source": [
    "**Libraries to Import**"
   ]
  },
  {
   "cell_type": "code",
   "execution_count": 43,
   "metadata": {},
   "outputs": [],
   "source": [
    "import numpy as np\n",
    "import pandas as pd\n",
    "import math\n",
    "from matplotlib import pyplot as plt\n",
    "from tqdm import tqdm"
   ]
  },
  {
   "cell_type": "markdown",
   "metadata": {},
   "source": [
    "### Extracting Data from CSV File and Dividing Data set into Training Data and Test Data\n",
    "\n",
    "The dataset I'm using is a Wheat Seeds data set.\n",
    "It takes geometry aspects of different wheat seeds and classifies them.\n",
    "\n",
    "The function **GetData()** performs the following operations :\n",
    "\n",
    "1. Read data from respective CSV file into a Data Frame\n",
    "2. Partitions the Data set into training data and Test Data\n",
    "3. Converts the Data into a numpy array \n",
    "\n",
    "Parameters returned :\n",
    "1. **X_train** : Feature vector for Training data. \n",
    "2. **X_test** : Feature vector for testing\n",
    "3. **Y_train** : Target vector for Training data\n",
    "4. **Y_test** : Target vector for Test Data"
   ]
  },
  {
   "cell_type": "code",
   "execution_count": 44,
   "metadata": {},
   "outputs": [],
   "source": [
    "def GetData():\n",
    "    dataframe = pd.read_csv('XOR.csv') \n",
    "    \n",
    "#     for feature_name in dataframe.columns:\n",
    "#         if feature_name != 'Result':\n",
    "#             max_value = dataframe[feature_name].max()\n",
    "#             min_value = dataframe[feature_name].min()\n",
    "#             dataframe[feature_name] = (dataframe[feature_name] - min_value) / (max_value - min_value)\n",
    "    print(dataframe.head())\n",
    "    m = dataframe.shape[0]\n",
    "    n = len(dataframe.columns) - 1\n",
    "\n",
    "    # print relevant metadata\n",
    "\n",
    "    print(\"For This Dataset:\")\n",
    "    print(\"m = \", m)\n",
    "    print(\"n = \", n) \n",
    "\n",
    "    # get counts\n",
    "    traincount = int(1*m)\n",
    "    testCount = int(1*m)\n",
    "\n",
    "\n",
    "    X_train = dataframe.iloc[:traincount, :n].to_numpy(dtype = np.float64)\n",
    "    Y_train = dataframe.iloc[:traincount, n:].to_numpy(dtype = np.float64)\n",
    "    #Y_train = pd.get_dummies(dataframe['Result']).iloc[:traincount, :].to_numpy(dtype = np.float64)\n",
    "    \n",
    "    \n",
    "    X_test = dataframe.iloc[:, :n].to_numpy(dtype = np.float64)\n",
    "    Y_test = dataframe.iloc[:, n:].to_numpy(dtype = np.float64)\n",
    "    #Y_test = pd.get_dummies(dataframe['Result']).iloc[:, :].to_numpy(dtype = np.float64)\n",
    "\n",
    "\n",
    "    print('X_train : ', X_train,'\\n','Y_Train ', Y_train)\n",
    "    print('Y test ' ,Y_test )\n",
    "    \n",
    "    return X_train , Y_train , m , n , X_test, Y_test "
   ]
  },
  {
   "cell_type": "markdown",
   "metadata": {},
   "source": [
    "### Initialization of Parameters\n",
    "\n",
    "In this step weights and biases are initialized accordingly.\n",
    "\n",
    "1. **ni** : The number of input layer neurons\n",
    "2. **no** : The number of output layer neurons\n",
    "3. **nh** : The number of hidden layer neurons\n",
    "4. **i2hweights** : The vector of weights joining input layer neurons and hidden layer neurons.\n",
    "5. **h2oweights** : The vector of weights joining hidden layer neurons and output layer neurons.\n",
    "6. **hiddenbias** : The bias value associated with hidden layer neurons.\n",
    "7. **outputbias** : The bias value associated with output layer neurons."
   ]
  },
  {
   "cell_type": "code",
   "execution_count": 45,
   "metadata": {},
   "outputs": [],
   "source": [
    "ni = 2\n",
    "no = 1\n",
    "nh = 2\n",
    "i2hweights = np.ones((ni,nh),dtype=np.float64)*0.2\n",
    "h2oweights = np.ones((nh,no),dtype=np.float64)*0.2\n",
    "hiddenbias = np.ones((1,nh) , dtype = np.float64)*0.2\n",
    "outputbias = np.ones((1,no) , dtype = np.float64)*0.2\n",
    "error = []"
   ]
  },
  {
   "cell_type": "markdown",
   "metadata": {},
   "source": [
    "### The sigmoid Function\n",
    "The activation function I use in the Backpropagation algorithm is the sigmoid activation. It is differentiable.Mathematically defined as :\n",
    "$$\\sigma(x) = \\frac{1}{1+e^{-x}}$$"
   ]
  },
  {
   "cell_type": "code",
   "execution_count": 46,
   "metadata": {},
   "outputs": [],
   "source": [
    "def sigmoid(x):\n",
    "  return 1 / (1 + np.exp(-x))"
   ]
  },
  {
   "cell_type": "markdown",
   "metadata": {},
   "source": [
    "### Function to predict the target value for a given feature vector based on Weights vector\n",
    "\n",
    "The function **Predict** takes in the following parameters :\n",
    "1. **x** : The feature vector\n",
    "\n",
    "The output of every hidden layer neuron and output layer neuron is calculated using the formula given below.\n",
    "Here **W** is the weight vector and **X** is the feature vector.\n",
    "\n",
    "**Y** = $\\sigma(W^T.X)$\n",
    "\n",
    "#### Return parameters :\n",
    "\n",
    "1. Output of Hidden Neurons\n",
    "2. Output of Output Layer Neurons"
   ]
  },
  {
   "cell_type": "code",
   "execution_count": 47,
   "metadata": {},
   "outputs": [],
   "source": [
    "def Predict(X):\n",
    "    HiddenOutput = sigmoid(np.dot(X,i2hweights) + hiddenbias)\n",
    "    ActualOutput = sigmoid(np.dot(HiddenOutput, h2oweights) + outputbias )\n",
    "    return HiddenOutput.reshape(1,nh) , ActualOutput.reshape(1,no)"
   ]
  },
  {
   "cell_type": "markdown",
   "metadata": {},
   "source": [
    "### Training Function \n",
    "\n",
    "The function changes the weights of the weight vector based on the perceptron training algorithm.\n",
    "\n",
    "This function takes in the following parameters :\n",
    "1. **eta** : Learning Rate\n",
    "2. **X_train** : Feature vector for training\n",
    "3. **Y_train** : Target vector for training \n",
    "\n",
    "**The training algorithm used in Backpropagation network follows the below steps :**\n",
    "\n",
    "**For each training example in (X,T) where T is the target vector :**\n",
    "\n",
    "1. Input X to the network and calculate the value of $o_{u}$ each and every neuron in the network.\n",
    "\n",
    "**Propagate the errors backward through the network.**\n",
    "\n",
    "2. For each network output unit k, calculate its error term $\\delta_{k}$\n",
    "$$ \\delta_{k} = o_{k} ( 1-o_{k}) (t_{k}-o_{k}) $$\n",
    "\n",
    "3. For each hidden unit h, calculate its error term $\\delta_{h}$\n",
    "$$ \\delta_{h} = o_{h} ( 1-o_{h}) \\sum_{k:outputs} w_{kh}\\delta_{k} $$\n",
    "\n",
    "4. Update each network weight $w_{ji}$\n",
    "$$w_{ji} = w_{ji} + \\Delta w_{ji}$$\n",
    "where \n",
    "$$ \\Delta w_{ji} = \\eta \\delta_{j} x_{ji}$$"
   ]
  },
  {
   "cell_type": "code",
   "execution_count": 48,
   "metadata": {},
   "outputs": [],
   "source": [
    "def Train(eta , X_Train , Y_Train):\n",
    "    global h2oweights\n",
    "    global i2hweights\n",
    "    global outputbias\n",
    "    global hiddenbias\n",
    "    err = 0\n",
    "    \n",
    "    for example , Real  in zip(X_Train, Y_Train):\n",
    "        \n",
    "#         print('Training data element ', example)\n",
    "#         print('Target data element ', Real)\n",
    "        example = np.reshape(example , (1,ni))\n",
    "        Real = np.reshape(Real, (1,no))\n",
    "        \n",
    "        HiddenOutput , ActualOutput = Predict(example)\n",
    "        err += np.sum((ActualOutput-Real)*(ActualOutput-Real))\n",
    "        \n",
    "#         print('Hidden layer outputs ' , HiddenOutput)\n",
    "#         print('Output layer outputs ' , ActualOutput)\n",
    "        \n",
    "        \n",
    "        OutputErrorTerm = ActualOutput*(1-ActualOutput)*(Real - ActualOutput)\n",
    "        HiddenErrorTerm = HiddenOutput*(1- HiddenOutput) * (np.dot(OutputErrorTerm ,np.transpose(h2oweights)))\n",
    "        \n",
    "#         print('OutputErrorTerm ', OutputErrorTerm)\n",
    "#         print('HiddenErrorTerm ', HiddenErrorTerm)\n",
    "        Deltah2o = eta * np.dot(np.transpose(HiddenOutput), OutputErrorTerm.reshape(1,no) )\n",
    "        Deltai2h = eta * np.dot(np.transpose(example.reshape(1,ni)) , HiddenErrorTerm.reshape(1,nh) )\n",
    "        \n",
    "#         print('Delta of input to hidden weights ', Deltai2h)\n",
    "#         print('Delta of hidden to output weights ', Deltah2o)\n",
    "        \n",
    "        DeltaHiddenBias = eta * HiddenErrorTerm\n",
    "        DeltaOutputBias = eta * OutputErrorTerm\n",
    "        \n",
    "#         print('Delta of hidden bias ', DeltaHiddenBias )\n",
    "#         print('Delta of output bias ', DeltaOutputBias )\n",
    "        \n",
    "        hiddenbias += DeltaHiddenBias\n",
    "        outputbias += DeltaOutputBias\n",
    "        i2hweights += Deltai2h\n",
    "        h2oweights += Deltah2o\n",
    "        error.append(err)\n",
    "        \n",
    "#         print('Updated input to hidden layer weights ', i2hweights)\n",
    "#         print('Updated hidden to output layer weights ', h2oweights)\n",
    "#         print('Updated output bias ', outputbias)\n",
    "#         print('Updated hidden bias ', hiddenbias)\n",
    "#         print('-----------------------End of Training EXample -----------------------')"
   ]
  },
  {
   "cell_type": "markdown",
   "metadata": {},
   "source": [
    "### Testing Function\n",
    "\n",
    "This function tests the accuracy of the weight vector based on the training data set.\n",
    "\n",
    "Parameters Taken :\n",
    "1. **X_Test** : Feature Vector for Testing\n",
    "2. **Y_Test** : Target vector for Testing \n",
    "\n",
    "Return types :\n",
    "1. **Accuracy** in percent"
   ]
  },
  {
   "cell_type": "code",
   "execution_count": 49,
   "metadata": {},
   "outputs": [],
   "source": [
    "def Test( X_Test , Y_Test ):\n",
    "    correct=0\n",
    "    total=0\n",
    "    print('Testing -------')\n",
    "    for example , Real  in zip(X_Test, Y_Test):\n",
    "        example = np.reshape(example,(1,ni))\n",
    "        print('Example : ', example )\n",
    "        Hidden , Actual = Predict(example)\n",
    "        print('Guess ', Actual[0] , 'Actual value ', Real)\n",
    "        print('Where L ', np.where(Actual[0]==np.max(Actual[0]))[0] , 'Where R ', np.where(Real==1)[0] )\n",
    "        if np.where(Actual[0]==np.max(Actual[0]))[0] == np.where(Real==1)[0]:\n",
    "            correct+=1\n",
    "        total+=1\n",
    "    \n",
    "    return correct/total*100"
   ]
  },
  {
   "cell_type": "markdown",
   "metadata": {},
   "source": [
    "### Main Function\n",
    "\n",
    "This block first trains the weight vector based on the training data set and tests the validity of the updated weight vector. At the end , accuracy of the tests is performed.\n",
    "Training is done over **numepochs** iterations."
   ]
  },
  {
   "cell_type": "code",
   "execution_count": 50,
   "metadata": {},
   "outputs": [
    {
     "name": "stderr",
     "output_type": "stream",
     "text": [
      "100%|██████████| 7/7 [00:00<00:00, 675.50it/s]"
     ]
    },
    {
     "name": "stdout",
     "output_type": "stream",
     "text": [
      "   X1  X2  Z\n",
      "0   0   0  1\n",
      "1   0   1  0\n",
      "2   1   0  0\n",
      "3   1   1  1\n",
      "For This Dataset:\n",
      "m =  4\n",
      "n =  2\n",
      "X_train :  [[0. 0.]\n",
      " [0. 1.]\n",
      " [1. 0.]\n",
      " [1. 1.]] \n",
      " Y_Train  [[1.]\n",
      " [0.]\n",
      " [0.]\n",
      " [1.]]\n",
      "Y test  [[1.]\n",
      " [0.]\n",
      " [0.]\n",
      " [1.]]\n",
      "----------Testing------------------------\n",
      "Testing -------\n",
      "Example :  [[0. 0.]]\n",
      "Guess  [0.55865458] Actual value  [1.]\n",
      "Where L  [0] Where R  [0]\n",
      "Example :  [[0. 1.]]\n",
      "Guess  [0.56181138] Actual value  [0.]\n",
      "Where L  [0] Where R  []\n",
      "Example :  [[1. 0.]]\n",
      "Guess  [0.56182581] Actual value  [0.]\n",
      "Where L  [0] Where R  []\n",
      "Example :  [[1. 1.]]\n",
      "Guess  [0.56486039] Actual value  [1.]\n",
      "Where L  [0] Where R  [0]\n",
      "Accuracy :  50.0\n",
      "Final input to hidden layer weights  [[0.19708386 0.19708386]\n",
      " [0.19617216 0.19617216]]\n",
      "Final hidden to output layer weights  [[0.1335444]\n",
      " [0.1335444]]\n",
      "Final output bias  [[0.08922505]]\n",
      "Final hidden bias  [[0.19431361 0.19431361]]\n",
      "Testing -------\n",
      "Example :  [[0. 0.]]\n",
      "Guess  [0.55865458] Actual value  [1.]\n",
      "Where L  [0] Where R  [0]\n",
      "Example :  [[0. 1.]]\n",
      "Guess  [0.56181138] Actual value  [0.]\n",
      "Where L  [0] Where R  []\n",
      "Example :  [[1. 0.]]\n",
      "Guess  [0.56182581] Actual value  [0.]\n",
      "Where L  [0] Where R  []\n",
      "Example :  [[1. 1.]]\n",
      "Guess  [0.56486039] Actual value  [1.]\n",
      "Where L  [0] Where R  [0]\n",
      "Accuracy :  50.0\n"
     ]
    },
    {
     "name": "stderr",
     "output_type": "stream",
     "text": [
      "\n",
      "/home/suraj/.local/lib/python3.6/site-packages/ipykernel_launcher.py:11: DeprecationWarning: The truth value of an empty array is ambiguous. Returning False, but in future this will result in an error. Use `array.size > 0` to check that an array is not empty.\n",
      "  # This is added back by InteractiveShellApp.init_path()\n"
     ]
    },
    {
     "data": {
      "image/png": "[encoded data removed]",
      "text/plain": [
       "<Figure size 432x288 with 1 Axes>"
      ]
     },
     "metadata": {
      "needs_background": "light"
     },
     "output_type": "display_data"
    }
   ],
   "source": [
    "X_Train, Y_Train, m, n , X_Test, Y_Test = GetData() \n",
    "numepochs = 7\n",
    "eta = 0.2\n",
    "print('----------Testing------------------------')\n",
    "\n",
    "for i in tqdm(range(0, numepochs)):\n",
    "    Train(eta , X_Train , Y_Train )\n",
    "\n",
    "\n",
    "print('Accuracy : ' , Test(X_Test, Y_Test))\n",
    "\n",
    "\n",
    "print('Final input to hidden layer weights ', i2hweights)\n",
    "print('Final hidden to output layer weights ', h2oweights)\n",
    "print('Final output bias ', outputbias)\n",
    "print('Final hidden bias ', hiddenbias)\n",
    "plt.plot( range(0,len(error)) , error )\n",
    "plt.xlabel('No of epochs')\n",
    "plt.ylabel('Mean square error')\n",
    "plt.title('Change in error over iterations')\n",
    "\n",
    "print('Accuracy : ' , Test(X_Test, Y_Test))\n"
   ]
  }
 ],
 "metadata": {
  "kernelspec": {
   "display_name": "Python 3.6.8 64-bit",
   "language": "python",
   "name": "python36864bit0d6452b886e1492f8767cdf5240d489b"
  },
  "language_info": {
   "codemirror_mode": {
    "name": "ipython",
    "version": 3
   },
   "file_extension": ".py",
   "mimetype": "text/x-python",
   "name": "python",
   "nbconvert_exporter": "python",
   "pygments_lexer": "ipython3",
   "version": "3.6.9"
  }
 },
 "nbformat": 4,
 "nbformat_minor": 4
}
