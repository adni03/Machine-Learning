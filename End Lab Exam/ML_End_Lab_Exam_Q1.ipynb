{
  "nbformat": 4,
  "nbformat_minor": 0,
  "metadata": {
    "colab": {
      "name": "ML_End_Lab_Exam_Q1.ipynb",
      "provenance": [],
      "collapsed_sections": []
    },
    "kernelspec": {
      "name": "python3",
      "display_name": "Python 3"
    }
  },
  "cells": [
    {
      "cell_type": "markdown",
      "metadata": {
        "id": "x_1tTOkxZd59"
      },
      "source": [
        "# *Machine Learning End Lab Exam Question 1*\n",
        "\n",
        "---\n",
        "Name: Sri Sai Vijaya Aditya Nittala\\\n",
        "Roll No.: 177163\\\n",
        "Section: A\n",
        "\n",
        "---\n",
        "\n",
        "Implement given boolean funtion using suitable Neural Network:\n",
        "\n",
        "\n",
        "> Y = (A + AB)(B + BC)(C + AB)\n",
        "\n",
        "This boolean function can be simplified as follows:\n",
        "\n",
        "\n",
        "> Y = (A + AB)(B + BC)(C + AB) = (A)(B)(C + AB) = ABC + (AB)(AB) = ABC + AB = AB(C + 1) = AB\n",
        "\n",
        "Now, this boolean function is nothing but an AND function\n"
      ]
    },
    {
      "cell_type": "code",
      "metadata": {
        "id": "p3HQ1ZEBd3TO"
      },
      "source": [
        "## IMPORTING NECESSARY LIBRARIES\n",
        "import numpy as np\n",
        "import pandas as pd\n",
        "from sklearn.metrics import accuracy_score ## USED TO FIND ACCURACY ONLY"
      ],
      "execution_count": 147,
      "outputs": []
    },
    {
      "cell_type": "code",
      "metadata": {
        "id": "F8gKfWlmeQiw",
        "colab": {
          "base_uri": "https://localhost:8080/",
          "height": 0
        },
        "outputId": "163c1f27-907b-4f52-bb37-18b89a3e6084"
      },
      "source": [
        "## TRUTH TABLE FOR 3 BOOLEAN VARIABLES\n",
        "X = [0, 0, 0, 0, 0, 1, 0, 1, 0, 0, 1, 1, 1, 0, 0, 1, 0, 1, 1, 1, 0, 1, 1, 1]\n",
        "X = np.reshape(X, (8, 3))\n",
        "\n",
        "## -1 INDICATES 0 AND 1 INDICATES 1\n",
        "y = [-1, -1, -1, -1, -1, -1, 1, 1]\n",
        "y = np.reshape(y, (8, 1))\n",
        "\n",
        "print(\"Truth table for the given boolean function : \")\n",
        "print(\"A\\tB\\tC\\tY\")\n",
        "print(\"-----\"*5)\n",
        "for i in range(X.shape[0]):\n",
        "    for j in range(X.shape[1]):\n",
        "        print(\"{}\\t\".format(X[i, j]), end = '')\n",
        "    print(\"{}\".format(0 if y[i, 0] == -1 else 1))  "
      ],
      "execution_count": 148,
      "outputs": [
        {
          "output_type": "stream",
          "text": [
            "Truth table for the given boolean function : \n",
            "A\tB\tC\tY\n",
            "-------------------------\n",
            "0\t0\t0\t0\n",
            "0\t0\t1\t0\n",
            "0\t1\t0\t0\n",
            "0\t1\t1\t0\n",
            "1\t0\t0\t0\n",
            "1\t0\t1\t0\n",
            "1\t1\t0\t1\n",
            "1\t1\t1\t1\n"
          ],
          "name": "stdout"
        }
      ]
    },
    {
      "cell_type": "code",
      "metadata": {
        "id": "yTlChdQ5eSWC"
      },
      "source": [
        "## USED FOR PREDICTIONS\n",
        "def threshold(Z):\n",
        "    for i in range(Z.shape[0]):\n",
        "        if Z[i][0] > 0:\n",
        "            Z[i][0] = 1\n",
        "        else:\n",
        "            Z[i][0] = -1\n",
        "    return Z"
      ],
      "execution_count": 149,
      "outputs": []
    },
    {
      "cell_type": "code",
      "metadata": {
        "id": "Al4azJry4TzB"
      },
      "source": [
        "''' Back propagation implemetation '''\n",
        "\n",
        "def backpropagation(w, b, X, Z, y, a):\n",
        "    w = w - a*np.dot((Z - y).T, X)/Z.shape[0]\n",
        "    b = b - a*np.sum(Z - y)/Z.shape[0]\n",
        "    return w, b"
      ],
      "execution_count": 150,
      "outputs": []
    },
    {
      "cell_type": "code",
      "metadata": {
        "id": "jV-rzbqaeVip"
      },
      "source": [
        "'''Forward propagation implementation'''\n",
        "\n",
        "def train(X, y, w, b, a, iters):\n",
        "    for i in range(iters):\n",
        "        Z = np.dot(X, w.T) + b\n",
        "        Z = threshold(Z)\n",
        "        w, b = backpropagation(w, b, X, Z, y, a)\n",
        "    return w, b"
      ],
      "execution_count": 151,
      "outputs": []
    },
    {
      "cell_type": "code",
      "metadata": {
        "id": "NGNjZndgeYy0"
      },
      "source": [
        "## FINDS ACCURACY OF THE MODEL\n",
        "def find_accuracy(X, Y, w, b):\n",
        "    Z = np.dot(X, w.T) + b\n",
        "    Z = threshold(Z)\n",
        "    return accuracy_score(Y, Z)"
      ],
      "execution_count": 152,
      "outputs": []
    },
    {
      "cell_type": "code",
      "metadata": {
        "id": "fNvshxRleaIG",
        "colab": {
          "base_uri": "https://localhost:8080/",
          "height": 0
        },
        "outputId": "c96537df-bc6f-497c-80ac-5ff42c130072"
      },
      "source": [
        "w = np.zeros(3)                 # Weights of the model\n",
        "w = np.expand_dims(w, axis=0)\n",
        "b = -1                          # bias for the neuron\n",
        "a = 0.1                         # learning rate\n",
        "\n",
        "print(\"Training model for given boolean function : \")\n",
        "w, b = train(X, y, w, b, a, 1000)\n",
        "\n",
        "print(\"Parameters obtained after training : \")\n",
        "print(\"Bias : {}\".format(b))\n",
        "print(\"Weights : \\n{}\\n\".format(w))"
      ],
      "execution_count": 153,
      "outputs": [
        {
          "output_type": "stream",
          "text": [
            "Training model for given boolean function : \n",
            "Parameters obtained after training : \n",
            "Bias : -0.6499999999999997\n",
            "Weights : \n",
            "[[0.35 0.35 0.15]]\n",
            "\n"
          ],
          "name": "stdout"
        }
      ]
    },
    {
      "cell_type": "code",
      "metadata": {
        "id": "7w9zNAWRej5D",
        "colab": {
          "base_uri": "https://localhost:8080/",
          "height": 0
        },
        "outputId": "e3128e78-3f99-4e39-9b4f-cc00abb3f07f"
      },
      "source": [
        "accuracy = find_accuracy(X, y, w, b)\n",
        "print(\"Accuracy of model : {}%\".format(accuracy*100))"
      ],
      "execution_count": 154,
      "outputs": [
        {
          "output_type": "stream",
          "text": [
            "Accuracy of model : 100.0%\n"
          ],
          "name": "stdout"
        }
      ]
    }
  ]
}